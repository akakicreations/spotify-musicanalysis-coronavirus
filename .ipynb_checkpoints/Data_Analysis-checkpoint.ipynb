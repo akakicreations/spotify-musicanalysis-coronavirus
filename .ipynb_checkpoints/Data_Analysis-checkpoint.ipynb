{
 "cells": [
  {
   "cell_type": "markdown",
   "metadata": {},
   "source": [
    "# Data Analysis"
   ]
  },
  {
   "cell_type": "code",
   "execution_count": 7,
   "metadata": {},
   "outputs": [
    {
     "data": {
      "text/plain": [
       "(8988, 34)"
      ]
     },
     "execution_count": 7,
     "metadata": {},
     "output_type": "execute_result"
    }
   ],
   "source": [
    "import os\n",
    "import numpy as np\n",
    "import pandas as pd\n",
    "import matplotlib.pyplot as plt\n",
    "import seaborn as sns\n",
    "from datetime import datetime, timedelta\n",
    "from datetime import date\n",
    "\n",
    "\n",
    "# Primeras aproximaciones de análisis\n",
    "\n",
    "data_ana = pd.read_csv(\"data_global.csv\", sep = ',')\n",
    "del(data_ana['Unnamed: 0'])\n",
    "data_ana.shape"
   ]
  },
  {
   "cell_type": "code",
   "execution_count": 8,
   "metadata": {},
   "outputs": [
    {
     "data": {
      "text/plain": [
       "(295, 34)"
      ]
     },
     "execution_count": 8,
     "metadata": {},
     "output_type": "execute_result"
    }
   ],
   "source": [
    "# Lo primero es quitar duplicados, no nos sirven ya de nada y de momento no vamos a analizar rankings\n",
    "data_ana = data_ana.drop_duplicates(subset='spotify_id')\n",
    "data_ana.shape"
   ]
  },
  {
   "cell_type": "code",
   "execution_count": 9,
   "metadata": {},
   "outputs": [
    {
     "name": "stdout",
     "output_type": "stream",
     "text": [
      "<class 'pandas.core.frame.DataFrame'>\n",
      "Int64Index: 295 entries, 0 to 8987\n",
      "Data columns (total 34 columns):\n",
      " #   Column             Non-Null Count  Dtype  \n",
      "---  ------             --------------  -----  \n",
      " 0   Position           295 non-null    int64  \n",
      " 1   Track Name         295 non-null    object \n",
      " 2   Artist             295 non-null    object \n",
      " 3   Streams            295 non-null    int64  \n",
      " 4   date               295 non-null    object \n",
      " 5   spotify_id         295 non-null    object \n",
      " 6   year               295 non-null    int64  \n",
      " 7   Streamstotal       295 non-null    int64  \n",
      " 8   album              295 non-null    object \n",
      " 9   release_date       295 non-null    object \n",
      " 10  length             295 non-null    float64\n",
      " 11  popularity         295 non-null    float64\n",
      " 12  acousticness       295 non-null    float64\n",
      " 13  danceability       295 non-null    float64\n",
      " 14  energy             295 non-null    float64\n",
      " 15  instrumentalness   295 non-null    float64\n",
      " 16  liveness           295 non-null    float64\n",
      " 17  loudness           295 non-null    float64\n",
      " 18  speechiness        295 non-null    float64\n",
      " 19  valence            295 non-null    float64\n",
      " 20  tempo              295 non-null    float64\n",
      " 21  time_signature     295 non-null    int64  \n",
      " 22  genre1             292 non-null    object \n",
      " 23  genre2             249 non-null    object \n",
      " 24  genre3             184 non-null    object \n",
      " 25  genre4             98 non-null     object \n",
      " 26  genre5             55 non-null     object \n",
      " 27  genre6             22 non-null     object \n",
      " 28  genre7             10 non-null     object \n",
      " 29  genre8             1 non-null      object \n",
      " 30  genre9             1 non-null      object \n",
      " 31  artist_id          295 non-null    object \n",
      " 32  artist_followers   295 non-null    int64  \n",
      " 33  artist_popularity  295 non-null    int64  \n",
      "dtypes: float64(11), int64(7), object(16)\n",
      "memory usage: 80.7+ KB\n",
      "None\n"
     ]
    }
   ],
   "source": [
    "print(data_ana.info())"
   ]
  },
  {
   "cell_type": "markdown",
   "metadata": {},
   "source": [
    "## Para poder hacer ponderación para medias por streams totales"
   ]
  },
  {
   "cell_type": "code",
   "execution_count": 85,
   "metadata": {},
   "outputs": [
    {
     "data": {
      "text/html": [
       "<div>\n",
       "<style scoped>\n",
       "    .dataframe tbody tr th:only-of-type {\n",
       "        vertical-align: middle;\n",
       "    }\n",
       "\n",
       "    .dataframe tbody tr th {\n",
       "        vertical-align: top;\n",
       "    }\n",
       "\n",
       "    .dataframe thead th {\n",
       "        text-align: right;\n",
       "    }\n",
       "</style>\n",
       "<table border=\"1\" class=\"dataframe\">\n",
       "  <thead>\n",
       "    <tr style=\"text-align: right;\">\n",
       "      <th></th>\n",
       "      <th>Position</th>\n",
       "      <th>Track Name</th>\n",
       "      <th>Artist</th>\n",
       "      <th>Streams</th>\n",
       "      <th>date</th>\n",
       "      <th>spotify_id</th>\n",
       "      <th>year</th>\n",
       "      <th>Streamstotal</th>\n",
       "      <th>album</th>\n",
       "      <th>release_date</th>\n",
       "      <th>...</th>\n",
       "      <th>genre4</th>\n",
       "      <th>genre5</th>\n",
       "      <th>genre6</th>\n",
       "      <th>genre7</th>\n",
       "      <th>genre8</th>\n",
       "      <th>genre9</th>\n",
       "      <th>artist_id</th>\n",
       "      <th>artist_followers</th>\n",
       "      <th>artist_popularity</th>\n",
       "      <th>streamstotal_weights</th>\n",
       "    </tr>\n",
       "  </thead>\n",
       "  <tbody>\n",
       "    <tr>\n",
       "      <th>0</th>\n",
       "      <td>2</td>\n",
       "      <td>La Difícil</td>\n",
       "      <td>Bad Bunny</td>\n",
       "      <td>399788</td>\n",
       "      <td>2020-03-14</td>\n",
       "      <td>6NfrH0ANGmgBXyxgV2PeXt</td>\n",
       "      <td>2020</td>\n",
       "      <td>14996733</td>\n",
       "      <td>YHLQMDLG</td>\n",
       "      <td>2020-02-28</td>\n",
       "      <td>...</td>\n",
       "      <td>NaN</td>\n",
       "      <td>NaN</td>\n",
       "      <td>NaN</td>\n",
       "      <td>NaN</td>\n",
       "      <td>NaN</td>\n",
       "      <td>NaN</td>\n",
       "      <td>4q3ewBCX7sLwd24euuV69X</td>\n",
       "      <td>23787073</td>\n",
       "      <td>97</td>\n",
       "      <td>434626516</td>\n",
       "    </tr>\n",
       "    <tr>\n",
       "      <th>61</th>\n",
       "      <td>6</td>\n",
       "      <td>Ignorantes</td>\n",
       "      <td>Bad Bunny</td>\n",
       "      <td>295813</td>\n",
       "      <td>2020-03-14</td>\n",
       "      <td>38RIEav39FGi86jppxO0du</td>\n",
       "      <td>2020</td>\n",
       "      <td>10423435</td>\n",
       "      <td>YHLQMDLG</td>\n",
       "      <td>2020-02-28</td>\n",
       "      <td>...</td>\n",
       "      <td>NaN</td>\n",
       "      <td>NaN</td>\n",
       "      <td>NaN</td>\n",
       "      <td>NaN</td>\n",
       "      <td>NaN</td>\n",
       "      <td>NaN</td>\n",
       "      <td>4q3ewBCX7sLwd24euuV69X</td>\n",
       "      <td>23787073</td>\n",
       "      <td>97</td>\n",
       "      <td>434626516</td>\n",
       "    </tr>\n",
       "  </tbody>\n",
       "</table>\n",
       "<p>2 rows × 35 columns</p>\n",
       "</div>"
      ],
      "text/plain": [
       "    Position  Track Name     Artist  Streams        date  \\\n",
       "0          2  La Difícil  Bad Bunny   399788  2020-03-14   \n",
       "61         6  Ignorantes  Bad Bunny   295813  2020-03-14   \n",
       "\n",
       "                spotify_id  year  Streamstotal     album release_date  ...  \\\n",
       "0   6NfrH0ANGmgBXyxgV2PeXt  2020      14996733  YHLQMDLG   2020-02-28  ...   \n",
       "61  38RIEav39FGi86jppxO0du  2020      10423435  YHLQMDLG   2020-02-28  ...   \n",
       "\n",
       "    genre4  genre5  genre6  genre7  genre8  genre9               artist_id  \\\n",
       "0      NaN     NaN     NaN     NaN     NaN     NaN  4q3ewBCX7sLwd24euuV69X   \n",
       "61     NaN     NaN     NaN     NaN     NaN     NaN  4q3ewBCX7sLwd24euuV69X   \n",
       "\n",
       "    artist_followers  artist_popularity  streamstotal_weights  \n",
       "0           23787073                 97             434626516  \n",
       "61          23787073                 97             434626516  \n",
       "\n",
       "[2 rows x 35 columns]"
      ]
     },
     "execution_count": 85,
     "metadata": {},
     "output_type": "execute_result"
    }
   ],
   "source": [
    "data_ana.head(2)"
   ]
  },
  {
   "cell_type": "code",
   "execution_count": 92,
   "metadata": {},
   "outputs": [
    {
     "ename": "ValueError",
     "evalue": "The truth value of a DataFrame is ambiguous. Use a.empty, a.bool(), a.item(), a.any() or a.all().",
     "output_type": "error",
     "traceback": [
      "\u001b[0;31m---------------------------------------------------------------------------\u001b[0m",
      "\u001b[0;31mValueError\u001b[0m                                Traceback (most recent call last)",
      "\u001b[0;32m<ipython-input-92-eda8fd3d8c64>\u001b[0m in \u001b[0;36m<module>\u001b[0;34m\u001b[0m\n\u001b[1;32m      5\u001b[0m \u001b[0mtotal_streams_2019\u001b[0m \u001b[0;34m=\u001b[0m \u001b[0mdata_ana_2019\u001b[0m\u001b[0;34m[\u001b[0m\u001b[0;34m'Streamstotal'\u001b[0m\u001b[0;34m]\u001b[0m\u001b[0;34m.\u001b[0m\u001b[0msum\u001b[0m\u001b[0;34m(\u001b[0m\u001b[0;34m)\u001b[0m\u001b[0;34m\u001b[0m\u001b[0;34m\u001b[0m\u001b[0m\n\u001b[1;32m      6\u001b[0m \u001b[0;34m\u001b[0m\u001b[0m\n\u001b[0;32m----> 7\u001b[0;31m \u001b[0;32mif\u001b[0m \u001b[0mdata_ana\u001b[0m\u001b[0;34m[\u001b[0m\u001b[0mdata_ana\u001b[0m\u001b[0;34m[\u001b[0m\u001b[0;34m'year'\u001b[0m\u001b[0;34m]\u001b[0m \u001b[0;34m==\u001b[0m \u001b[0;36m2020\u001b[0m\u001b[0;34m]\u001b[0m \u001b[0;34m==\u001b[0m \u001b[0;32mTrue\u001b[0m\u001b[0;34m:\u001b[0m\u001b[0;34m\u001b[0m\u001b[0;34m\u001b[0m\u001b[0m\n\u001b[0m\u001b[1;32m      8\u001b[0m     \u001b[0mdata_ana\u001b[0m\u001b[0;34m[\u001b[0m\u001b[0;34m'streamstotal_weights'\u001b[0m\u001b[0;34m]\u001b[0m \u001b[0;34m=\u001b[0m \u001b[0mdata_ana_2020\u001b[0m\u001b[0;34m[\u001b[0m\u001b[0;34m'Streamstotal'\u001b[0m\u001b[0;34m]\u001b[0m\u001b[0;34m.\u001b[0m\u001b[0msum\u001b[0m\u001b[0;34m(\u001b[0m\u001b[0;34m)\u001b[0m\u001b[0;34m\u001b[0m\u001b[0;34m\u001b[0m\u001b[0m\n\u001b[1;32m      9\u001b[0m \u001b[0;32melif\u001b[0m \u001b[0mdata_ana\u001b[0m\u001b[0;34m[\u001b[0m\u001b[0mdata_ana\u001b[0m\u001b[0;34m[\u001b[0m\u001b[0;34m'year'\u001b[0m\u001b[0;34m]\u001b[0m \u001b[0;34m==\u001b[0m \u001b[0;36m2019\u001b[0m\u001b[0;34m]\u001b[0m\u001b[0;34m:\u001b[0m\u001b[0;34m\u001b[0m\u001b[0;34m\u001b[0m\u001b[0m\n",
      "\u001b[0;32m~/opt/anaconda3/lib/python3.8/site-packages/pandas/core/generic.py\u001b[0m in \u001b[0;36m__nonzero__\u001b[0;34m(self)\u001b[0m\n\u001b[1;32m   1476\u001b[0m \u001b[0;34m\u001b[0m\u001b[0m\n\u001b[1;32m   1477\u001b[0m     \u001b[0;32mdef\u001b[0m \u001b[0m__nonzero__\u001b[0m\u001b[0;34m(\u001b[0m\u001b[0mself\u001b[0m\u001b[0;34m)\u001b[0m\u001b[0;34m:\u001b[0m\u001b[0;34m\u001b[0m\u001b[0;34m\u001b[0m\u001b[0m\n\u001b[0;32m-> 1478\u001b[0;31m         raise ValueError(\n\u001b[0m\u001b[1;32m   1479\u001b[0m             \u001b[0;34mf\"The truth value of a {type(self).__name__} is ambiguous. \"\u001b[0m\u001b[0;34m\u001b[0m\u001b[0;34m\u001b[0m\u001b[0m\n\u001b[1;32m   1480\u001b[0m             \u001b[0;34m\"Use a.empty, a.bool(), a.item(), a.any() or a.all().\"\u001b[0m\u001b[0;34m\u001b[0m\u001b[0;34m\u001b[0m\u001b[0m\n",
      "\u001b[0;31mValueError\u001b[0m: The truth value of a DataFrame is ambiguous. Use a.empty, a.bool(), a.item(), a.any() or a.all()."
     ]
    }
   ],
   "source": [
    "data_ana_2020 = data_ana[data_ana['year'] == 2020]\n",
    "data_ana_2019 = data_ana[data_ana['year'] == 2019]\n",
    "\n",
    "total_streams_2020 = data_ana_2020['Streamstotal'].sum()\n",
    "total_streams_2019 = data_ana_2019['Streamstotal'].sum()\n",
    "\n",
    "if data_ana[data_ana['year'] == 2020]:\n",
    "    data_ana['streamstotal_weights'] = data_ana_2020['Streamstotal'].sum()\n",
    "elif data_ana[data_ana['year'] == 2019]:\n",
    "    data_ana['streamstotal_weights'] = data_ana_2019['Streamstotal'].sum()\n"
   ]
  },
  {
   "cell_type": "code",
   "execution_count": 79,
   "metadata": {},
   "outputs": [
    {
     "name": "stdout",
     "output_type": "stream",
     "text": [
      "434626516\n",
      "263112191\n"
     ]
    }
   ],
   "source": [
    "# Sacar los weights de cada canción respecto a sus Streams totales\n",
    "\n",
    "\n",
    "'''if data_ana[data_ana['year'] == 2020]:\n",
    "    data_ana['streamstotal_weights'] = data_ana_2020['Streamstotal'].sum()\n",
    "elif data_ana[data_ana['year'] == 2019]\n",
    "    data_ana['streamstotal_weights'] = data_ana_2019['Streamstotal'].sum()'''\n",
    "\n",
    "\n",
    "'''total_streams_2020 = lambda x: data_ana['Streamstotal'].sum() if data_ana[data_ana['year'] == 2020] else None'''\n",
    "\n",
    "print(total_streams_2020)\n",
    "print(total_streams_2019)\n",
    "\n",
    "# data_ana['streamstotal_weights'] = data_ana['Streamstotal']/ total_streams_2020"
   ]
  },
  {
   "cell_type": "markdown",
   "metadata": {},
   "source": [
    "# Análisis"
   ]
  },
  {
   "cell_type": "code",
   "execution_count": 93,
   "metadata": {},
   "outputs": [
    {
     "data": {
      "text/html": [
       "<div>\n",
       "<style scoped>\n",
       "    .dataframe tbody tr th:only-of-type {\n",
       "        vertical-align: middle;\n",
       "    }\n",
       "\n",
       "    .dataframe tbody tr th {\n",
       "        vertical-align: top;\n",
       "    }\n",
       "\n",
       "    .dataframe thead th {\n",
       "        text-align: right;\n",
       "    }\n",
       "</style>\n",
       "<table border=\"1\" class=\"dataframe\">\n",
       "  <thead>\n",
       "    <tr style=\"text-align: right;\">\n",
       "      <th></th>\n",
       "      <th>Position</th>\n",
       "      <th>Track Name</th>\n",
       "      <th>Artist</th>\n",
       "      <th>Streams</th>\n",
       "      <th>date</th>\n",
       "      <th>spotify_id</th>\n",
       "      <th>Streamstotal</th>\n",
       "      <th>album</th>\n",
       "      <th>release_date</th>\n",
       "      <th>length</th>\n",
       "      <th>...</th>\n",
       "      <th>genre4</th>\n",
       "      <th>genre5</th>\n",
       "      <th>genre6</th>\n",
       "      <th>genre7</th>\n",
       "      <th>genre8</th>\n",
       "      <th>genre9</th>\n",
       "      <th>artist_id</th>\n",
       "      <th>artist_followers</th>\n",
       "      <th>artist_popularity</th>\n",
       "      <th>streamstotal_weights</th>\n",
       "    </tr>\n",
       "    <tr>\n",
       "      <th>year</th>\n",
       "      <th></th>\n",
       "      <th></th>\n",
       "      <th></th>\n",
       "      <th></th>\n",
       "      <th></th>\n",
       "      <th></th>\n",
       "      <th></th>\n",
       "      <th></th>\n",
       "      <th></th>\n",
       "      <th></th>\n",
       "      <th></th>\n",
       "      <th></th>\n",
       "      <th></th>\n",
       "      <th></th>\n",
       "      <th></th>\n",
       "      <th></th>\n",
       "      <th></th>\n",
       "      <th></th>\n",
       "      <th></th>\n",
       "      <th></th>\n",
       "      <th></th>\n",
       "    </tr>\n",
       "  </thead>\n",
       "  <tbody>\n",
       "    <tr>\n",
       "      <th>2019</th>\n",
       "      <td>133</td>\n",
       "      <td>133</td>\n",
       "      <td>133</td>\n",
       "      <td>133</td>\n",
       "      <td>133</td>\n",
       "      <td>133</td>\n",
       "      <td>133</td>\n",
       "      <td>133</td>\n",
       "      <td>133</td>\n",
       "      <td>133</td>\n",
       "      <td>...</td>\n",
       "      <td>60</td>\n",
       "      <td>36</td>\n",
       "      <td>16</td>\n",
       "      <td>7</td>\n",
       "      <td>1</td>\n",
       "      <td>1</td>\n",
       "      <td>133</td>\n",
       "      <td>133</td>\n",
       "      <td>133</td>\n",
       "      <td>133</td>\n",
       "    </tr>\n",
       "    <tr>\n",
       "      <th>2020</th>\n",
       "      <td>162</td>\n",
       "      <td>162</td>\n",
       "      <td>162</td>\n",
       "      <td>162</td>\n",
       "      <td>162</td>\n",
       "      <td>162</td>\n",
       "      <td>162</td>\n",
       "      <td>162</td>\n",
       "      <td>162</td>\n",
       "      <td>162</td>\n",
       "      <td>...</td>\n",
       "      <td>38</td>\n",
       "      <td>19</td>\n",
       "      <td>6</td>\n",
       "      <td>3</td>\n",
       "      <td>0</td>\n",
       "      <td>0</td>\n",
       "      <td>162</td>\n",
       "      <td>162</td>\n",
       "      <td>162</td>\n",
       "      <td>162</td>\n",
       "    </tr>\n",
       "  </tbody>\n",
       "</table>\n",
       "<p>2 rows × 34 columns</p>\n",
       "</div>"
      ],
      "text/plain": [
       "      Position  Track Name  Artist  Streams  date  spotify_id  Streamstotal  \\\n",
       "year                                                                          \n",
       "2019       133         133     133      133   133         133           133   \n",
       "2020       162         162     162      162   162         162           162   \n",
       "\n",
       "      album  release_date  length  ...  genre4  genre5  genre6  genre7  \\\n",
       "year                               ...                                   \n",
       "2019    133           133     133  ...      60      36      16       7   \n",
       "2020    162           162     162  ...      38      19       6       3   \n",
       "\n",
       "      genre8  genre9  artist_id  artist_followers  artist_popularity  \\\n",
       "year                                                                   \n",
       "2019       1       1        133               133                133   \n",
       "2020       0       0        162               162                162   \n",
       "\n",
       "      streamstotal_weights  \n",
       "year                        \n",
       "2019                   133  \n",
       "2020                   162  \n",
       "\n",
       "[2 rows x 34 columns]"
      ]
     },
     "execution_count": 93,
     "metadata": {},
     "output_type": "execute_result"
    }
   ],
   "source": [
    "data_ana.groupby(['year']).count()"
   ]
  },
  {
   "cell_type": "code",
   "execution_count": 96,
   "metadata": {},
   "outputs": [
    {
     "data": {
      "text/plain": [
       "<matplotlib.axes._subplots.AxesSubplot at 0x7fb3a8bee5b0>"
      ]
     },
     "execution_count": 96,
     "metadata": {},
     "output_type": "execute_result"
    },
    {
     "data": {
      "image/png": "[encoded data removed]",
      "text/plain": [
       "<Figure size 432x288 with 1 Axes>"
      ]
     },
     "metadata": {
      "needs_background": "light"
     },
     "output_type": "display_data"
    }
   ],
   "source": [
    "#Es evidente la diferencia porque hay más canciones de 2020\n",
    "data_ana_onlycol_streams = data_ana.loc[:, ['year', 'Streamstotal']]\n",
    "data_year_streams = data_ana_onlycol_streams.groupby(['year']).sum()\n",
    "data_year_streams.reset_index(inplace=True)\n",
    "data_year_streams\n",
    "\n",
    "sns.barplot(x=\"year\", y=\"Streamstotal\", data=data_year_streams)"
   ]
  },
  {
   "cell_type": "code",
   "execution_count": 97,
   "metadata": {},
   "outputs": [
    {
     "data": {
      "text/plain": [
       "<matplotlib.axes._subplots.AxesSubplot at 0x7fb3acc99d60>"
      ]
     },
     "execution_count": 97,
     "metadata": {},
     "output_type": "execute_result"
    },
    {
     "data": {
      "image/png": "[encoded data removed]",
      "text/plain": [
       "<Figure size 432x288 with 1 Axes>"
      ]
     },
     "metadata": {
      "needs_background": "light"
     },
     "output_type": "display_data"
    }
   ],
   "source": [
    "#Compración de danceability entre años\n",
    "data_ana_onlycol_dance = data_ana.loc[:, ['year', 'danceability']]\n",
    "data_year_dance = data_ana_onlycol_dance.groupby(['year']).mean()\n",
    "data_year_dance.reset_index(inplace=True)\n",
    "data_year_dance\n",
    "\n",
    "sns.barplot(x=\"year\", y=\"danceability\", data=data_year_dance)"
   ]
  },
  {
   "cell_type": "code",
   "execution_count": 98,
   "metadata": {},
   "outputs": [
    {
     "data": {
      "text/plain": [
       "<matplotlib.axes._subplots.AxesSubplot at 0x7fb3acd5a370>"
      ]
     },
     "execution_count": 98,
     "metadata": {},
     "output_type": "execute_result"
    },
    {
     "data": {
      "image/png": "[encoded data removed]",
      "text/plain": [
       "<Figure size 432x288 with 1 Axes>"
      ]
     },
     "metadata": {
      "needs_background": "light"
     },
     "output_type": "display_data"
    }
   ],
   "source": [
    "#Pero y si hacemos el cálculo teniendo en cuenta los Streams\n",
    "\n",
    "data_ana['danceability_rel'] = data_ana['danceability'] / data_nodup['Streamstotal']*1000000\n",
    "\n",
    "data_ana_onlycol_dance2 = data_ana.loc[:, ['year', 'danceability_rel']]\n",
    "\n",
    "data_year_dance2 = data_ana_onlycol_dance2.groupby(['year']).mean()\n",
    "data_year_dance2.reset_index(inplace=True)\n",
    "\n",
    "sns.barplot(x=\"year\", y=\"danceability_rel\", data=data_year_dance2)\n",
    "\n",
    "#Atención!! Ocurre lo contrario. Pero ojo, hay más canciones del año 2020 que del 2019"
   ]
  },
  {
   "cell_type": "code",
   "execution_count": 99,
   "metadata": {},
   "outputs": [
    {
     "data": {
      "text/html": [
       "<div>\n",
       "<style scoped>\n",
       "    .dataframe tbody tr th:only-of-type {\n",
       "        vertical-align: middle;\n",
       "    }\n",
       "\n",
       "    .dataframe tbody tr th {\n",
       "        vertical-align: top;\n",
       "    }\n",
       "\n",
       "    .dataframe thead th {\n",
       "        text-align: right;\n",
       "    }\n",
       "</style>\n",
       "<table border=\"1\" class=\"dataframe\">\n",
       "  <thead>\n",
       "    <tr style=\"text-align: right;\">\n",
       "      <th></th>\n",
       "      <th>Position</th>\n",
       "      <th>Track Name</th>\n",
       "      <th>Artist</th>\n",
       "      <th>Streams</th>\n",
       "      <th>date</th>\n",
       "      <th>spotify_id</th>\n",
       "      <th>year</th>\n",
       "      <th>Streamstotal</th>\n",
       "      <th>album</th>\n",
       "      <th>release_date</th>\n",
       "      <th>...</th>\n",
       "      <th>genre5</th>\n",
       "      <th>genre6</th>\n",
       "      <th>genre7</th>\n",
       "      <th>genre8</th>\n",
       "      <th>genre9</th>\n",
       "      <th>artist_id</th>\n",
       "      <th>artist_followers</th>\n",
       "      <th>artist_popularity</th>\n",
       "      <th>streamstotal_weights</th>\n",
       "      <th>danceability_rel</th>\n",
       "    </tr>\n",
       "  </thead>\n",
       "  <tbody>\n",
       "    <tr>\n",
       "      <th>0</th>\n",
       "      <td>2</td>\n",
       "      <td>La Difícil</td>\n",
       "      <td>Bad Bunny</td>\n",
       "      <td>399788</td>\n",
       "      <td>2020-03-14</td>\n",
       "      <td>6NfrH0ANGmgBXyxgV2PeXt</td>\n",
       "      <td>2020</td>\n",
       "      <td>14996733</td>\n",
       "      <td>YHLQMDLG</td>\n",
       "      <td>2020-02-28</td>\n",
       "      <td>...</td>\n",
       "      <td>NaN</td>\n",
       "      <td>NaN</td>\n",
       "      <td>NaN</td>\n",
       "      <td>NaN</td>\n",
       "      <td>NaN</td>\n",
       "      <td>4q3ewBCX7sLwd24euuV69X</td>\n",
       "      <td>23787073</td>\n",
       "      <td>97</td>\n",
       "      <td>434626516</td>\n",
       "      <td>0.045677</td>\n",
       "    </tr>\n",
       "    <tr>\n",
       "      <th>61</th>\n",
       "      <td>6</td>\n",
       "      <td>Ignorantes</td>\n",
       "      <td>Bad Bunny</td>\n",
       "      <td>295813</td>\n",
       "      <td>2020-03-14</td>\n",
       "      <td>38RIEav39FGi86jppxO0du</td>\n",
       "      <td>2020</td>\n",
       "      <td>10423435</td>\n",
       "      <td>YHLQMDLG</td>\n",
       "      <td>2020-02-28</td>\n",
       "      <td>...</td>\n",
       "      <td>NaN</td>\n",
       "      <td>NaN</td>\n",
       "      <td>NaN</td>\n",
       "      <td>NaN</td>\n",
       "      <td>NaN</td>\n",
       "      <td>4q3ewBCX7sLwd24euuV69X</td>\n",
       "      <td>23787073</td>\n",
       "      <td>97</td>\n",
       "      <td>434626516</td>\n",
       "      <td>0.081547</td>\n",
       "    </tr>\n",
       "  </tbody>\n",
       "</table>\n",
       "<p>2 rows × 36 columns</p>\n",
       "</div>"
      ],
      "text/plain": [
       "    Position  Track Name     Artist  Streams        date  \\\n",
       "0          2  La Difícil  Bad Bunny   399788  2020-03-14   \n",
       "61         6  Ignorantes  Bad Bunny   295813  2020-03-14   \n",
       "\n",
       "                spotify_id  year  Streamstotal     album release_date  ...  \\\n",
       "0   6NfrH0ANGmgBXyxgV2PeXt  2020      14996733  YHLQMDLG   2020-02-28  ...   \n",
       "61  38RIEav39FGi86jppxO0du  2020      10423435  YHLQMDLG   2020-02-28  ...   \n",
       "\n",
       "    genre5  genre6  genre7  genre8  genre9               artist_id  \\\n",
       "0      NaN     NaN     NaN     NaN     NaN  4q3ewBCX7sLwd24euuV69X   \n",
       "61     NaN     NaN     NaN     NaN     NaN  4q3ewBCX7sLwd24euuV69X   \n",
       "\n",
       "    artist_followers  artist_popularity  streamstotal_weights  \\\n",
       "0           23787073                 97             434626516   \n",
       "61          23787073                 97             434626516   \n",
       "\n",
       "    danceability_rel  \n",
       "0           0.045677  \n",
       "61          0.081547  \n",
       "\n",
       "[2 rows x 36 columns]"
      ]
     },
     "execution_count": 99,
     "metadata": {},
     "output_type": "execute_result"
    }
   ],
   "source": [
    "data_ana.head(2)"
   ]
  },
  {
   "cell_type": "code",
   "execution_count": 100,
   "metadata": {},
   "outputs": [
    {
     "data": {
      "text/plain": [
       "<seaborn.axisgrid.FacetGrid at 0x7fb3aceac160>"
      ]
     },
     "execution_count": 100,
     "metadata": {},
     "output_type": "execute_result"
    },
    {
     "data": {
      "image/png": "[encoded data removed]",
      "text/plain": [
       "<Figure size 360x360 with 1 Axes>"
      ]
     },
     "metadata": {
      "needs_background": "light"
     },
     "output_type": "display_data"
    },
    {
     "data": {
      "image/png": "[encoded data removed]",
      "text/plain": [
       "<Figure size 360x360 with 1 Axes>"
      ]
     },
     "metadata": {
      "needs_background": "light"
     },
     "output_type": "display_data"
    }
   ],
   "source": [
    "sns.relplot(x=\"energy\", y=\"danceability\", data=data_ana)\n",
    "sns.relplot(x=\"energy\", y=\"valence\", data=data_ana)"
   ]
  },
  {
   "cell_type": "code",
   "execution_count": null,
   "metadata": {},
   "outputs": [],
   "source": []
  }
 ],
 "metadata": {
  "kernelspec": {
   "display_name": "Python 3",
   "language": "python",
   "name": "python3"
  },
  "language_info": {
   "codemirror_mode": {
    "name": "ipython",
    "version": 3
   },
   "file_extension": ".py",
   "mimetype": "text/x-python",
   "name": "python",
   "nbconvert_exporter": "python",
   "pygments_lexer": "ipython3",
   "version": "3.8.3"
  }
 },
 "nbformat": 4,
 "nbformat_minor": 4
}
