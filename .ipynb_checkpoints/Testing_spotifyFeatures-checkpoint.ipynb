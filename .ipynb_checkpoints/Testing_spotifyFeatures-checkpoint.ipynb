{
 "cells": [
  {
   "cell_type": "markdown",
   "metadata": {},
   "source": [
    "## Sacar las features de una lista de canciones desde una playlist"
   ]
  },
  {
   "cell_type": "markdown",
   "metadata": {},
   "source": [
    "- Sacar las canciones de Spotify Charts top100 desde 14 Marzo a 14 de Mayo, si puede ser con el ID, ¿debería contabilizar el número de veces que sale en top50? o hacer un sumatorio de veces escuchadas durante todo? Creo que mejor lo segundo.\n",
    "- "
   ]
  },
  {
   "cell_type": "code",
   "execution_count": 140,
   "metadata": {},
   "outputs": [],
   "source": [
    "import pandas as pd\n",
    "import numpy as np\n",
    "# import matplotlib.pyplot as plt\n",
    "# import seaborn as sns\n",
    "\n",
    "# Instalo librería Spotipy y poner credenciales\n",
    "# !pip install spotipy"
   ]
  },
  {
   "cell_type": "code",
   "execution_count": 141,
   "metadata": {},
   "outputs": [],
   "source": [
    "#Preparación de Spotipy\n",
    "\n",
    "import spotipy\n",
    "from spotipy.oauth2 import SpotifyClientCredentials\n",
    "import pandas as pd\n",
    "import time \n",
    "\n",
    "passw = pd.read_csv(\"pass_spotify.txt\", sep = ',', encoding=\"utf-8\")\n",
    "client_id = passw.columns[0]\n",
    "client_secret = passw.columns[1]\n",
    "\n",
    "client_credentials_manager = SpotifyClientCredentials(client_id, client_secret)\n",
    "sp = spotipy.Spotify(client_credentials_manager=client_credentials_manager)"
   ]
  },
  {
   "cell_type": "code",
   "execution_count": 142,
   "metadata": {},
   "outputs": [
    {
     "data": {
      "text/plain": [
       "437"
      ]
     },
     "execution_count": 142,
     "metadata": {},
     "output_type": "execute_result"
    }
   ],
   "source": [
    "# Código para sacar listado de más de 100 canciones(spotify no te deja más de lotes de 100)) de playlist\n",
    "\n",
    "def get_playlist_tracks(username,playlist_id):\n",
    "    results = sp.user_playlist_tracks(username,playlist_id)\n",
    "    tracks = results['items']\n",
    "    while results['next']:\n",
    "        results = sp.next(results)\n",
    "        tracks.extend(results['items'])\n",
    "    return tracks\n",
    "\n",
    "tracks = get_playlist_tracks('akaki', '1ebwiiN18Gmhfj6e24pT3X')\n",
    "len(tracks)"
   ]
  },
  {
   "cell_type": "code",
   "execution_count": 143,
   "metadata": {},
   "outputs": [
    {
     "data": {
      "text/plain": [
       "437"
      ]
     },
     "execution_count": 143,
     "metadata": {},
     "output_type": "execute_result"
    }
   ],
   "source": [
    "# Código para sacar id de todas las canciones de dicho listado anterior\n",
    "\n",
    "ids = []\n",
    "# results = sp.user_playlist_tracks('akaki', '1ebwiiN18Gmhfj6e24pT3X')\n",
    "for code in tracks:\n",
    "    track = code['track']\n",
    "    ids.append(track['id'])\n",
    "len(ids)"
   ]
  },
  {
   "cell_type": "code",
   "execution_count": 144,
   "metadata": {},
   "outputs": [
    {
     "data": {
      "text/plain": [
       "435"
      ]
     },
     "execution_count": 144,
     "metadata": {},
     "output_type": "execute_result"
    }
   ],
   "source": [
    "# Tuve que quitar las Nonetypes para que no me diera error\n",
    "\n",
    "ids_clean = [x for x in ids if x != None]\n",
    "len(clean)"
   ]
  },
  {
   "cell_type": "code",
   "execution_count": 145,
   "metadata": {},
   "outputs": [
    {
     "data": {
      "text/plain": [
       "\"\\ndef getTrackIDs(user, playlist_id):\\n    ids = []\\n    playlist = sp.user_playlist(user, playlist_id)\\n    for item in playlist['tracks']['items']:\\n        track = item['track']\\n        ids.append(track['id'])\\n    return ids\\n\\nids = getTrackIDs('125154244', '5CGooYaNL93cVrzmkyhAyN')\\n\""
      ]
     },
     "execution_count": 145,
     "metadata": {},
     "output_type": "execute_result"
    }
   ],
   "source": [
    "#Para obtener código de canción se accede a lista tracks que dentro tiene un diccionario dentro de otro diccionario y así, y entramos en profundidad hasta el id.\n",
    "# song1_code = tracks[0]['track']['id']\n",
    "\n",
    "# Probando...\n",
    "'''\n",
    "def getTrackIDs(user, playlist_id):\n",
    "    ids = []\n",
    "    playlist = sp.user_playlist(user, playlist_id)\n",
    "    for item in playlist['tracks']['items']:\n",
    "        track = item['track']\n",
    "        ids.append(track['id'])\n",
    "    return ids\n",
    "\n",
    "ids = getTrackIDs('125154244', '5CGooYaNL93cVrzmkyhAyN')\n",
    "'''"
   ]
  },
  {
   "cell_type": "code",
   "execution_count": 155,
   "metadata": {},
   "outputs": [],
   "source": [
    "# Función para sacar la info de determinadas ID de canciones\n",
    "def getTrackFeatures(id):\n",
    "  meta = sp.track(id)\n",
    "  features = sp.audio_features(id)\n",
    "\n",
    "  # meta\n",
    "  name = meta['name']\n",
    "  album = meta['album']['name']\n",
    "  artist = meta['album']['artists'][0]['name']\n",
    "  release_date = meta['album']['release_date']\n",
    "  length = meta['duration_ms']\n",
    "  popularity = meta['popularity']\n",
    "\n",
    "  # features\n",
    "  acousticness = features[0]['acousticness']\n",
    "  danceability = features[0]['danceability']\n",
    "  energy = features[0]['energy']\n",
    "  instrumentalness = features[0]['instrumentalness']\n",
    "  liveness = features[0]['liveness']\n",
    "  loudness = features[0]['loudness']\n",
    "  speechiness = features[0]['speechiness']\n",
    "  valence = features[0]['valence']\n",
    "  tempo = features[0]['tempo']\n",
    "  time_signature = features[0]['time_signature']\n",
    "  id = features[0]['id']\n",
    "\n",
    "  track = [name, album, artist, release_date, length, popularity, danceability, acousticness, danceability, energy, instrumentalness, liveness, loudness, speechiness, valence, tempo, time_signature, id]\n",
    "  return track"
   ]
  },
  {
   "cell_type": "code",
   "execution_count": 156,
   "metadata": {},
   "outputs": [],
   "source": [
    "# Loop para sacar la info de todas las canciones de la lista anterior\n",
    "#OJO, TARDA BASTANTE!!\n",
    "\n",
    "tracks = []\n",
    "for i in range(len(ids_clean)):\n",
    "    time.sleep(.5)\n",
    "    track = getTrackFeatures(ids_clean[i])\n",
    "    tracks.append(track)"
   ]
  },
  {
   "cell_type": "code",
   "execution_count": 151,
   "metadata": {},
   "outputs": [
    {
     "ename": "ValueError",
     "evalue": "18 columns passed, passed data had 16 columns",
     "output_type": "error",
     "traceback": [
      "\u001b[0;31m---------------------------------------------------------------------------\u001b[0m",
      "\u001b[0;31mAssertionError\u001b[0m                            Traceback (most recent call last)",
      "\u001b[0;32m~/anaconda3/envs/tfm/lib/python3.7/site-packages/pandas/core/internals/construction.py\u001b[0m in \u001b[0;36m_list_to_arrays\u001b[0;34m(data, columns, coerce_float, dtype)\u001b[0m\n\u001b[1;32m    496\u001b[0m         result = _convert_object_array(\n\u001b[0;32m--> 497\u001b[0;31m             \u001b[0mcontent\u001b[0m\u001b[0;34m,\u001b[0m \u001b[0mcolumns\u001b[0m\u001b[0;34m,\u001b[0m \u001b[0mdtype\u001b[0m\u001b[0;34m=\u001b[0m\u001b[0mdtype\u001b[0m\u001b[0;34m,\u001b[0m \u001b[0mcoerce_float\u001b[0m\u001b[0;34m=\u001b[0m\u001b[0mcoerce_float\u001b[0m\u001b[0;34m\u001b[0m\u001b[0;34m\u001b[0m\u001b[0m\n\u001b[0m\u001b[1;32m    498\u001b[0m         )\n",
      "\u001b[0;32m~/anaconda3/envs/tfm/lib/python3.7/site-packages/pandas/core/internals/construction.py\u001b[0m in \u001b[0;36m_convert_object_array\u001b[0;34m(content, columns, coerce_float, dtype)\u001b[0m\n\u001b[1;32m    580\u001b[0m             raise AssertionError(\n\u001b[0;32m--> 581\u001b[0;31m                 \u001b[0;34mf\"{len(columns)} columns passed, passed data had \"\u001b[0m\u001b[0;34m\u001b[0m\u001b[0;34m\u001b[0m\u001b[0m\n\u001b[0m\u001b[1;32m    582\u001b[0m                 \u001b[0;34mf\"{len(content)} columns\"\u001b[0m\u001b[0;34m\u001b[0m\u001b[0;34m\u001b[0m\u001b[0m\n",
      "\u001b[0;31mAssertionError\u001b[0m: 18 columns passed, passed data had 16 columns",
      "\nThe above exception was the direct cause of the following exception:\n",
      "\u001b[0;31mValueError\u001b[0m                                Traceback (most recent call last)",
      "\u001b[0;32m<ipython-input-151-bd4004ff0eaa>\u001b[0m in \u001b[0;36m<module>\u001b[0;34m\u001b[0m\n\u001b[1;32m      2\u001b[0m df = pd.DataFrame(tracks, columns = ['name', 'album', 'artist', 'release_date', 'length', 'popularity', 'danceability', 'acousticness',\n\u001b[1;32m      3\u001b[0m                                      \u001b[0;34m'danceability'\u001b[0m\u001b[0;34m,\u001b[0m \u001b[0;34m'energy'\u001b[0m\u001b[0;34m,\u001b[0m \u001b[0;34m'instrumentalness'\u001b[0m\u001b[0;34m,\u001b[0m \u001b[0;34m'liveness'\u001b[0m\u001b[0;34m,\u001b[0m \u001b[0;34m'loudness'\u001b[0m\u001b[0;34m,\u001b[0m \u001b[0;34m'speechiness'\u001b[0m\u001b[0;34m,\u001b[0m \u001b[0;34m'valence'\u001b[0m\u001b[0;34m,\u001b[0m\u001b[0;34m\u001b[0m\u001b[0;34m\u001b[0m\u001b[0m\n\u001b[0;32m----> 4\u001b[0;31m                                      'tempo', 'time_signature', 'id'])\n\u001b[0m\u001b[1;32m      5\u001b[0m \u001b[0;31m# df.to_csv(\"spotify.csv\", sep = ',')\u001b[0m\u001b[0;34m\u001b[0m\u001b[0;34m\u001b[0m\u001b[0;34m\u001b[0m\u001b[0m\n\u001b[1;32m      6\u001b[0m \u001b[0;34m\u001b[0m\u001b[0m\n",
      "\u001b[0;32m~/anaconda3/envs/tfm/lib/python3.7/site-packages/pandas/core/frame.py\u001b[0m in \u001b[0;36m__init__\u001b[0;34m(self, data, index, columns, dtype, copy)\u001b[0m\n\u001b[1;32m    472\u001b[0m                     \u001b[0;32mif\u001b[0m \u001b[0mis_named_tuple\u001b[0m\u001b[0;34m(\u001b[0m\u001b[0mdata\u001b[0m\u001b[0;34m[\u001b[0m\u001b[0;36m0\u001b[0m\u001b[0;34m]\u001b[0m\u001b[0;34m)\u001b[0m \u001b[0;32mand\u001b[0m \u001b[0mcolumns\u001b[0m \u001b[0;32mis\u001b[0m \u001b[0;32mNone\u001b[0m\u001b[0;34m:\u001b[0m\u001b[0;34m\u001b[0m\u001b[0;34m\u001b[0m\u001b[0m\n\u001b[1;32m    473\u001b[0m                         \u001b[0mcolumns\u001b[0m \u001b[0;34m=\u001b[0m \u001b[0mdata\u001b[0m\u001b[0;34m[\u001b[0m\u001b[0;36m0\u001b[0m\u001b[0;34m]\u001b[0m\u001b[0;34m.\u001b[0m\u001b[0m_fields\u001b[0m\u001b[0;34m\u001b[0m\u001b[0;34m\u001b[0m\u001b[0m\n\u001b[0;32m--> 474\u001b[0;31m                     \u001b[0marrays\u001b[0m\u001b[0;34m,\u001b[0m \u001b[0mcolumns\u001b[0m \u001b[0;34m=\u001b[0m \u001b[0mto_arrays\u001b[0m\u001b[0;34m(\u001b[0m\u001b[0mdata\u001b[0m\u001b[0;34m,\u001b[0m \u001b[0mcolumns\u001b[0m\u001b[0;34m,\u001b[0m \u001b[0mdtype\u001b[0m\u001b[0;34m=\u001b[0m\u001b[0mdtype\u001b[0m\u001b[0;34m)\u001b[0m\u001b[0;34m\u001b[0m\u001b[0;34m\u001b[0m\u001b[0m\n\u001b[0m\u001b[1;32m    475\u001b[0m                     \u001b[0mcolumns\u001b[0m \u001b[0;34m=\u001b[0m \u001b[0mensure_index\u001b[0m\u001b[0;34m(\u001b[0m\u001b[0mcolumns\u001b[0m\u001b[0;34m)\u001b[0m\u001b[0;34m\u001b[0m\u001b[0;34m\u001b[0m\u001b[0m\n\u001b[1;32m    476\u001b[0m \u001b[0;34m\u001b[0m\u001b[0m\n",
      "\u001b[0;32m~/anaconda3/envs/tfm/lib/python3.7/site-packages/pandas/core/internals/construction.py\u001b[0m in \u001b[0;36mto_arrays\u001b[0;34m(data, columns, coerce_float, dtype)\u001b[0m\n\u001b[1;32m    459\u001b[0m         \u001b[0;32mreturn\u001b[0m \u001b[0;34m[\u001b[0m\u001b[0;34m]\u001b[0m\u001b[0;34m,\u001b[0m \u001b[0;34m[\u001b[0m\u001b[0;34m]\u001b[0m  \u001b[0;31m# columns if columns is not None else []\u001b[0m\u001b[0;34m\u001b[0m\u001b[0;34m\u001b[0m\u001b[0m\n\u001b[1;32m    460\u001b[0m     \u001b[0;32mif\u001b[0m \u001b[0misinstance\u001b[0m\u001b[0;34m(\u001b[0m\u001b[0mdata\u001b[0m\u001b[0;34m[\u001b[0m\u001b[0;36m0\u001b[0m\u001b[0;34m]\u001b[0m\u001b[0;34m,\u001b[0m \u001b[0;34m(\u001b[0m\u001b[0mlist\u001b[0m\u001b[0;34m,\u001b[0m \u001b[0mtuple\u001b[0m\u001b[0;34m)\u001b[0m\u001b[0;34m)\u001b[0m\u001b[0;34m:\u001b[0m\u001b[0;34m\u001b[0m\u001b[0;34m\u001b[0m\u001b[0m\n\u001b[0;32m--> 461\u001b[0;31m         \u001b[0;32mreturn\u001b[0m \u001b[0m_list_to_arrays\u001b[0m\u001b[0;34m(\u001b[0m\u001b[0mdata\u001b[0m\u001b[0;34m,\u001b[0m \u001b[0mcolumns\u001b[0m\u001b[0;34m,\u001b[0m \u001b[0mcoerce_float\u001b[0m\u001b[0;34m=\u001b[0m\u001b[0mcoerce_float\u001b[0m\u001b[0;34m,\u001b[0m \u001b[0mdtype\u001b[0m\u001b[0;34m=\u001b[0m\u001b[0mdtype\u001b[0m\u001b[0;34m)\u001b[0m\u001b[0;34m\u001b[0m\u001b[0;34m\u001b[0m\u001b[0m\n\u001b[0m\u001b[1;32m    462\u001b[0m     \u001b[0;32melif\u001b[0m \u001b[0misinstance\u001b[0m\u001b[0;34m(\u001b[0m\u001b[0mdata\u001b[0m\u001b[0;34m[\u001b[0m\u001b[0;36m0\u001b[0m\u001b[0;34m]\u001b[0m\u001b[0;34m,\u001b[0m \u001b[0mabc\u001b[0m\u001b[0;34m.\u001b[0m\u001b[0mMapping\u001b[0m\u001b[0;34m)\u001b[0m\u001b[0;34m:\u001b[0m\u001b[0;34m\u001b[0m\u001b[0;34m\u001b[0m\u001b[0m\n\u001b[1;32m    463\u001b[0m         return _list_of_dict_to_arrays(\n",
      "\u001b[0;32m~/anaconda3/envs/tfm/lib/python3.7/site-packages/pandas/core/internals/construction.py\u001b[0m in \u001b[0;36m_list_to_arrays\u001b[0;34m(data, columns, coerce_float, dtype)\u001b[0m\n\u001b[1;32m    498\u001b[0m         )\n\u001b[1;32m    499\u001b[0m     \u001b[0;32mexcept\u001b[0m \u001b[0mAssertionError\u001b[0m \u001b[0;32mas\u001b[0m \u001b[0me\u001b[0m\u001b[0;34m:\u001b[0m\u001b[0;34m\u001b[0m\u001b[0;34m\u001b[0m\u001b[0m\n\u001b[0;32m--> 500\u001b[0;31m         \u001b[0;32mraise\u001b[0m \u001b[0mValueError\u001b[0m\u001b[0;34m(\u001b[0m\u001b[0me\u001b[0m\u001b[0;34m)\u001b[0m \u001b[0;32mfrom\u001b[0m \u001b[0me\u001b[0m\u001b[0;34m\u001b[0m\u001b[0;34m\u001b[0m\u001b[0m\n\u001b[0m\u001b[1;32m    501\u001b[0m     \u001b[0;32mreturn\u001b[0m \u001b[0mresult\u001b[0m\u001b[0;34m\u001b[0m\u001b[0;34m\u001b[0m\u001b[0m\n\u001b[1;32m    502\u001b[0m \u001b[0;34m\u001b[0m\u001b[0m\n",
      "\u001b[0;31mValueError\u001b[0m: 18 columns passed, passed data had 16 columns"
     ]
    }
   ],
   "source": [
    "# Meterlo en Dataframe y exportar a CSV\n",
    "df = pd.DataFrame(tracks, columns = ['name', 'album', 'artist', 'release_date', 'length', 'popularity', 'danceability', 'acousticness',\n",
    "                                     'danceability', 'energy', 'instrumentalness', 'liveness', 'loudness', 'speechiness', 'valence',\n",
    "                                     'tempo', 'time_signature', 'id'])\n",
    "# df.to_csv(\"spotify.csv\", sep = ',')\n",
    "\n"
   ]
  },
  {
   "cell_type": "code",
   "execution_count": 135,
   "metadata": {},
   "outputs": [
    {
     "data": {
      "text/plain": [
       "(435, 16)"
      ]
     },
     "execution_count": 135,
     "metadata": {},
     "output_type": "execute_result"
    }
   ],
   "source": [
    "print(df.shape)\n",
    "df.head()"
   ]
  },
  {
   "cell_type": "code",
   "execution_count": 136,
   "metadata": {},
   "outputs": [
    {
     "data": {
      "text/html": [
       "<div>\n",
       "<style scoped>\n",
       "    .dataframe tbody tr th:only-of-type {\n",
       "        vertical-align: middle;\n",
       "    }\n",
       "\n",
       "    .dataframe tbody tr th {\n",
       "        vertical-align: top;\n",
       "    }\n",
       "\n",
       "    .dataframe thead th {\n",
       "        text-align: right;\n",
       "    }\n",
       "</style>\n",
       "<table border=\"1\" class=\"dataframe\">\n",
       "  <thead>\n",
       "    <tr style=\"text-align: right;\">\n",
       "      <th></th>\n",
       "      <th>name</th>\n",
       "      <th>album</th>\n",
       "      <th>artist</th>\n",
       "      <th>release_date</th>\n",
       "      <th>length</th>\n",
       "      <th>popularity</th>\n",
       "      <th>danceability</th>\n",
       "      <th>acousticness</th>\n",
       "      <th>danceability</th>\n",
       "      <th>energy</th>\n",
       "      <th>instrumentalness</th>\n",
       "      <th>liveness</th>\n",
       "      <th>loudness</th>\n",
       "      <th>speechiness</th>\n",
       "      <th>tempo</th>\n",
       "      <th>time_signature</th>\n",
       "    </tr>\n",
       "  </thead>\n",
       "  <tbody>\n",
       "    <tr>\n",
       "      <th>0</th>\n",
       "      <td>Pride</td>\n",
       "      <td>Nip/Tuck</td>\n",
       "      <td>Various Artists</td>\n",
       "      <td>2011-08-09</td>\n",
       "      <td>377280</td>\n",
       "      <td>0</td>\n",
       "      <td>0.290</td>\n",
       "      <td>0.32200</td>\n",
       "      <td>0.290</td>\n",
       "      <td>0.906</td>\n",
       "      <td>0.0091</td>\n",
       "      <td>0.7110</td>\n",
       "      <td>-7.242</td>\n",
       "      <td>0.2540</td>\n",
       "      <td>170.014</td>\n",
       "      <td>4</td>\n",
       "    </tr>\n",
       "    <tr>\n",
       "      <th>1</th>\n",
       "      <td>Mars</td>\n",
       "      <td>Levi's Unfamous Music Awards</td>\n",
       "      <td>Various Artists</td>\n",
       "      <td>2010-04-01</td>\n",
       "      <td>317492</td>\n",
       "      <td>0</td>\n",
       "      <td>0.430</td>\n",
       "      <td>0.00722</td>\n",
       "      <td>0.430</td>\n",
       "      <td>0.764</td>\n",
       "      <td>0.0040</td>\n",
       "      <td>0.0982</td>\n",
       "      <td>-6.556</td>\n",
       "      <td>0.0416</td>\n",
       "      <td>149.776</td>\n",
       "      <td>4</td>\n",
       "    </tr>\n",
       "    <tr>\n",
       "      <th>2</th>\n",
       "      <td>Oh, No</td>\n",
       "      <td>I Oughtta Give You A Shot In The Head For Maki...</td>\n",
       "      <td>Shivaree</td>\n",
       "      <td>1999-01-01</td>\n",
       "      <td>204573</td>\n",
       "      <td>12</td>\n",
       "      <td>0.742</td>\n",
       "      <td>0.06360</td>\n",
       "      <td>0.742</td>\n",
       "      <td>0.533</td>\n",
       "      <td>0.8620</td>\n",
       "      <td>0.0739</td>\n",
       "      <td>-6.440</td>\n",
       "      <td>0.0274</td>\n",
       "      <td>96.366</td>\n",
       "      <td>4</td>\n",
       "    </tr>\n",
       "    <tr>\n",
       "      <th>3</th>\n",
       "      <td>Pressure</td>\n",
       "      <td>Pressure</td>\n",
       "      <td>Skindred</td>\n",
       "      <td>2004</td>\n",
       "      <td>211146</td>\n",
       "      <td>17</td>\n",
       "      <td>0.459</td>\n",
       "      <td>0.05910</td>\n",
       "      <td>0.459</td>\n",
       "      <td>0.953</td>\n",
       "      <td>0.0000</td>\n",
       "      <td>0.4500</td>\n",
       "      <td>-4.387</td>\n",
       "      <td>0.2170</td>\n",
       "      <td>191.639</td>\n",
       "      <td>4</td>\n",
       "    </tr>\n",
       "    <tr>\n",
       "      <th>4</th>\n",
       "      <td>Chasing Pirates</td>\n",
       "      <td>The Fall</td>\n",
       "      <td>Norah Jones</td>\n",
       "      <td>2009-11-17</td>\n",
       "      <td>160906</td>\n",
       "      <td>56</td>\n",
       "      <td>0.850</td>\n",
       "      <td>0.54700</td>\n",
       "      <td>0.850</td>\n",
       "      <td>0.468</td>\n",
       "      <td>0.0667</td>\n",
       "      <td>0.1060</td>\n",
       "      <td>-9.090</td>\n",
       "      <td>0.0390</td>\n",
       "      <td>106.974</td>\n",
       "      <td>4</td>\n",
       "    </tr>\n",
       "  </tbody>\n",
       "</table>\n",
       "</div>"
      ],
      "text/plain": [
       "              name                                              album  \\\n",
       "0            Pride                                           Nip/Tuck   \n",
       "1             Mars                       Levi's Unfamous Music Awards   \n",
       "2           Oh, No  I Oughtta Give You A Shot In The Head For Maki...   \n",
       "3         Pressure                                           Pressure   \n",
       "4  Chasing Pirates                                           The Fall   \n",
       "\n",
       "            artist release_date  length  popularity  danceability  \\\n",
       "0  Various Artists   2011-08-09  377280           0         0.290   \n",
       "1  Various Artists   2010-04-01  317492           0         0.430   \n",
       "2         Shivaree   1999-01-01  204573          12         0.742   \n",
       "3         Skindred         2004  211146          17         0.459   \n",
       "4      Norah Jones   2009-11-17  160906          56         0.850   \n",
       "\n",
       "   acousticness  danceability  energy  instrumentalness  liveness  loudness  \\\n",
       "0       0.32200         0.290   0.906            0.0091    0.7110    -7.242   \n",
       "1       0.00722         0.430   0.764            0.0040    0.0982    -6.556   \n",
       "2       0.06360         0.742   0.533            0.8620    0.0739    -6.440   \n",
       "3       0.05910         0.459   0.953            0.0000    0.4500    -4.387   \n",
       "4       0.54700         0.850   0.468            0.0667    0.1060    -9.090   \n",
       "\n",
       "   speechiness    tempo  time_signature  \n",
       "0       0.2540  170.014               4  \n",
       "1       0.0416  149.776               4  \n",
       "2       0.0274   96.366               4  \n",
       "3       0.2170  191.639               4  \n",
       "4       0.0390  106.974               4  "
      ]
     },
     "execution_count": 136,
     "metadata": {},
     "output_type": "execute_result"
    }
   ],
   "source": []
  },
  {
   "cell_type": "code",
   "execution_count": 8,
   "metadata": {
    "jupyter": {
     "source_hidden": true
    }
   },
   "outputs": [],
   "source": [
    "#Otra forma:\n",
    "\n",
    "def analyze_playlist(creator, playlist_id):\n",
    "    \n",
    "    # Create empty dataframe\n",
    "    playlist_features_list = [\"artist\",\"album\",\"track_name\",  \"track_id\",\"danceability\",\"energy\",\"key\",\"loudness\",\"mode\", \"speechiness\",\"instrumentalness\",\"liveness\",\"valence\",\"tempo\", \"duration_ms\",\"time_signature\"]\n",
    "    \n",
    "    playlist_df = pd.DataFrame(columns = playlist_features_list)\n",
    "    \n",
    "    # Loop through every track in the playlist, extract features and append the features to the playlist df\n",
    "    \n",
    "    playlist = sp.user_playlist_tracks(creator, playlist_id)[\"items\"]\n",
    "    for track in playlist:\n",
    "        # Create empty dict\n",
    "        playlist_features = {}\n",
    "        # Get metadata\n",
    "        playlist_features[\"artist\"] = track[\"track\"][\"album\"][\"artists\"][0][\"name\"]\n",
    "        playlist_features[\"album\"] = track[\"track\"][\"album\"][\"name\"]\n",
    "        playlist_features[\"track_name\"] = track[\"track\"][\"name\"]\n",
    "        playlist_features[\"track_id\"] = track[\"track\"][\"id\"]\n",
    "        \n",
    "        # Get audio features\n",
    "        audio_features = sp.audio_features(playlist_features[\"track_id\"])[0]\n",
    "        for feature in playlist_features_list[4:]:\n",
    "            playlist_features[feature] = audio_features[feature]\n",
    "        \n",
    "        # Concat the dfs\n",
    "        track_df = pd.DataFrame(playlist_features, index = [0])\n",
    "        playlist_df = pd.concat([playlist_df, track_df], ignore_index = True)\n",
    "        \n",
    "    return playlist_df\n",
    "\n",
    "dataframe = analyze_playlist(\"akaki\", \"1ebwiiN18Gmhfj6e24pT3X\")\n",
    "\n",
    "print(dataframe.shape)\n",
    "dataframe.head()"
   ]
  }
 ],
 "metadata": {
  "kernelspec": {
   "display_name": "tfm_kernel",
   "language": "python",
   "name": "tfm_kernel"
  },
  "language_info": {
   "codemirror_mode": {
    "name": "ipython",
    "version": 3
   },
   "file_extension": ".py",
   "mimetype": "text/x-python",
   "name": "python",
   "nbconvert_exporter": "python",
   "pygments_lexer": "ipython3",
   "version": "3.7.7"
  }
 },
 "nbformat": 4,
 "nbformat_minor": 4
}
