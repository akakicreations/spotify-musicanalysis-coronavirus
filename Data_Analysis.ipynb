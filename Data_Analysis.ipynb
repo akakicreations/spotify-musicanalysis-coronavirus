{
 "cells": [
  {
   "cell_type": "markdown",
   "metadata": {},
   "source": [
    "# Data Analysis"
   ]
  },
  {
   "cell_type": "code",
   "execution_count": 16,
   "metadata": {},
   "outputs": [],
   "source": [
    "import os\n",
    "import numpy as np\n",
    "import pandas as pd\n",
    "import matplotlib.pyplot as plt\n",
    "import seaborn as sns\n",
    "from datetime import datetime, timedelta\n",
    "from datetime import date\n",
    "\n",
    "\n",
    "# Primeras aproximaciones de análisis\n",
    "\n",
    "data_ana = pd.read_csv(\"data_features.csv\", sep = ',', encoding=\"utf-8\")"
   ]
  },
  {
   "cell_type": "code",
   "execution_count": 17,
   "metadata": {},
   "outputs": [
    {
     "data": {
      "text/plain": [
       "(6174, 26)"
      ]
     },
     "execution_count": 17,
     "metadata": {},
     "output_type": "execute_result"
    }
   ],
   "source": [
    "data_ana.shape"
   ]
  },
  {
   "cell_type": "code",
   "execution_count": 18,
   "metadata": {},
   "outputs": [
    {
     "name": "stdout",
     "output_type": "stream",
     "text": [
      "<class 'pandas.core.frame.DataFrame'>\n",
      "RangeIndex: 6174 entries, 0 to 6173\n",
      "Data columns (total 26 columns):\n",
      "Unnamed: 0          6174 non-null int64\n",
      "Position            6174 non-null int64\n",
      "Track Name          6174 non-null object\n",
      "Artist              6174 non-null object\n",
      "Streams             6174 non-null int64\n",
      "date                6174 non-null object\n",
      "spotify_id          6174 non-null object\n",
      "year                6174 non-null int64\n",
      "Streamstotal        6174 non-null int64\n",
      "album               6174 non-null object\n",
      "release_date        6174 non-null object\n",
      "length              6174 non-null int64\n",
      "popularity          6174 non-null int64\n",
      "danceability        6174 non-null float64\n",
      "danceability.1      6174 non-null float64\n",
      "acousticness        6174 non-null float64\n",
      "danceability.2      6174 non-null float64\n",
      "danceability.3      6174 non-null float64\n",
      "energy              6174 non-null float64\n",
      "instrumentalness    6174 non-null float64\n",
      "liveness            6174 non-null float64\n",
      "loudness            6174 non-null float64\n",
      "speechiness         6174 non-null float64\n",
      "valence             6174 non-null float64\n",
      "tempo               6174 non-null float64\n",
      "time_signature      6174 non-null int64\n",
      "dtypes: float64(12), int64(8), object(6)\n",
      "memory usage: 1.2+ MB\n",
      "None\n"
     ]
    }
   ],
   "source": [
    "print(data_ana.info())"
   ]
  },
  {
   "cell_type": "code",
   "execution_count": 19,
   "metadata": {},
   "outputs": [
    {
     "data": {
      "text/html": [
       "<div>\n",
       "<style scoped>\n",
       "    .dataframe tbody tr th:only-of-type {\n",
       "        vertical-align: middle;\n",
       "    }\n",
       "\n",
       "    .dataframe tbody tr th {\n",
       "        vertical-align: top;\n",
       "    }\n",
       "\n",
       "    .dataframe thead th {\n",
       "        text-align: right;\n",
       "    }\n",
       "</style>\n",
       "<table border=\"1\" class=\"dataframe\">\n",
       "  <thead>\n",
       "    <tr style=\"text-align: right;\">\n",
       "      <th></th>\n",
       "      <th>Unnamed: 0</th>\n",
       "      <th>Position</th>\n",
       "      <th>Track Name</th>\n",
       "      <th>Artist</th>\n",
       "      <th>Streams</th>\n",
       "      <th>date</th>\n",
       "      <th>spotify_id</th>\n",
       "      <th>year</th>\n",
       "      <th>Streamstotal</th>\n",
       "      <th>album</th>\n",
       "      <th>...</th>\n",
       "      <th>danceability.2</th>\n",
       "      <th>danceability.3</th>\n",
       "      <th>energy</th>\n",
       "      <th>instrumentalness</th>\n",
       "      <th>liveness</th>\n",
       "      <th>loudness</th>\n",
       "      <th>speechiness</th>\n",
       "      <th>valence</th>\n",
       "      <th>tempo</th>\n",
       "      <th>time_signature</th>\n",
       "    </tr>\n",
       "  </thead>\n",
       "  <tbody>\n",
       "    <tr>\n",
       "      <th>0</th>\n",
       "      <td>0</td>\n",
       "      <td>1</td>\n",
       "      <td>Tusa</td>\n",
       "      <td>KAROL G</td>\n",
       "      <td>446086</td>\n",
       "      <td>2020-03-14</td>\n",
       "      <td>7k4t7uLgtOxPwTpFmtJNTY</td>\n",
       "      <td>2020</td>\n",
       "      <td>18848892</td>\n",
       "      <td>Tusa</td>\n",
       "      <td>...</td>\n",
       "      <td>0.803</td>\n",
       "      <td>0.803</td>\n",
       "      <td>0.715</td>\n",
       "      <td>0.000134</td>\n",
       "      <td>0.0574</td>\n",
       "      <td>-3.28</td>\n",
       "      <td>0.298</td>\n",
       "      <td>0.574</td>\n",
       "      <td>101.085</td>\n",
       "      <td>4</td>\n",
       "    </tr>\n",
       "    <tr>\n",
       "      <th>1</th>\n",
       "      <td>1</td>\n",
       "      <td>1</td>\n",
       "      <td>Tusa</td>\n",
       "      <td>KAROL G</td>\n",
       "      <td>438199</td>\n",
       "      <td>2020-03-15</td>\n",
       "      <td>7k4t7uLgtOxPwTpFmtJNTY</td>\n",
       "      <td>2020</td>\n",
       "      <td>18848892</td>\n",
       "      <td>Tusa</td>\n",
       "      <td>...</td>\n",
       "      <td>0.803</td>\n",
       "      <td>0.803</td>\n",
       "      <td>0.715</td>\n",
       "      <td>0.000134</td>\n",
       "      <td>0.0574</td>\n",
       "      <td>-3.28</td>\n",
       "      <td>0.298</td>\n",
       "      <td>0.574</td>\n",
       "      <td>101.085</td>\n",
       "      <td>4</td>\n",
       "    </tr>\n",
       "  </tbody>\n",
       "</table>\n",
       "<p>2 rows × 26 columns</p>\n",
       "</div>"
      ],
      "text/plain": [
       "   Unnamed: 0  Position Track Name   Artist  Streams        date  \\\n",
       "0           0         1       Tusa  KAROL G   446086  2020-03-14   \n",
       "1           1         1       Tusa  KAROL G   438199  2020-03-15   \n",
       "\n",
       "               spotify_id  year  Streamstotal album  ... danceability.2  \\\n",
       "0  7k4t7uLgtOxPwTpFmtJNTY  2020      18848892  Tusa  ...          0.803   \n",
       "1  7k4t7uLgtOxPwTpFmtJNTY  2020      18848892  Tusa  ...          0.803   \n",
       "\n",
       "   danceability.3  energy  instrumentalness  liveness  loudness  speechiness  \\\n",
       "0           0.803   0.715          0.000134    0.0574     -3.28        0.298   \n",
       "1           0.803   0.715          0.000134    0.0574     -3.28        0.298   \n",
       "\n",
       "   valence    tempo  time_signature  \n",
       "0    0.574  101.085               4  \n",
       "1    0.574  101.085               4  \n",
       "\n",
       "[2 rows x 26 columns]"
      ]
     },
     "execution_count": 19,
     "metadata": {},
     "output_type": "execute_result"
    }
   ],
   "source": [
    "data_ana.head(2)"
   ]
  },
  {
   "cell_type": "code",
   "execution_count": 20,
   "metadata": {},
   "outputs": [
    {
     "data": {
      "text/html": [
       "<div>\n",
       "<style scoped>\n",
       "    .dataframe tbody tr th:only-of-type {\n",
       "        vertical-align: middle;\n",
       "    }\n",
       "\n",
       "    .dataframe tbody tr th {\n",
       "        vertical-align: top;\n",
       "    }\n",
       "\n",
       "    .dataframe thead th {\n",
       "        text-align: right;\n",
       "    }\n",
       "</style>\n",
       "<table border=\"1\" class=\"dataframe\">\n",
       "  <thead>\n",
       "    <tr style=\"text-align: right;\">\n",
       "      <th></th>\n",
       "      <th>Unnamed: 0</th>\n",
       "      <th>Position</th>\n",
       "      <th>Streams</th>\n",
       "      <th>year</th>\n",
       "      <th>Streamstotal</th>\n",
       "      <th>length</th>\n",
       "      <th>popularity</th>\n",
       "      <th>danceability</th>\n",
       "      <th>danceability.1</th>\n",
       "      <th>acousticness</th>\n",
       "      <th>danceability.2</th>\n",
       "      <th>danceability.3</th>\n",
       "      <th>energy</th>\n",
       "      <th>instrumentalness</th>\n",
       "      <th>liveness</th>\n",
       "      <th>loudness</th>\n",
       "      <th>speechiness</th>\n",
       "      <th>valence</th>\n",
       "      <th>tempo</th>\n",
       "      <th>time_signature</th>\n",
       "    </tr>\n",
       "  </thead>\n",
       "  <tbody>\n",
       "    <tr>\n",
       "      <th>count</th>\n",
       "      <td>6174.000000</td>\n",
       "      <td>6174.000000</td>\n",
       "      <td>6174.000000</td>\n",
       "      <td>6174.000000</td>\n",
       "      <td>6.174000e+03</td>\n",
       "      <td>6174.000000</td>\n",
       "      <td>6174.000000</td>\n",
       "      <td>6174.000000</td>\n",
       "      <td>6174.000000</td>\n",
       "      <td>6174.000000</td>\n",
       "      <td>6174.000000</td>\n",
       "      <td>6174.000000</td>\n",
       "      <td>6174.000000</td>\n",
       "      <td>6174.000000</td>\n",
       "      <td>6174.000000</td>\n",
       "      <td>6174.000000</td>\n",
       "      <td>6174.000000</td>\n",
       "      <td>6174.000000</td>\n",
       "      <td>6174.000000</td>\n",
       "      <td>6174.000000</td>\n",
       "    </tr>\n",
       "    <tr>\n",
       "      <th>mean</th>\n",
       "      <td>3086.500000</td>\n",
       "      <td>98.986395</td>\n",
       "      <td>79366.921283</td>\n",
       "      <td>2019.516521</td>\n",
       "      <td>4.143814e+06</td>\n",
       "      <td>203756.327340</td>\n",
       "      <td>68.230159</td>\n",
       "      <td>0.731115</td>\n",
       "      <td>0.731115</td>\n",
       "      <td>0.244426</td>\n",
       "      <td>0.731115</td>\n",
       "      <td>0.731115</td>\n",
       "      <td>0.701424</td>\n",
       "      <td>0.006272</td>\n",
       "      <td>0.165207</td>\n",
       "      <td>-5.066344</td>\n",
       "      <td>0.106238</td>\n",
       "      <td>0.619892</td>\n",
       "      <td>121.650870</td>\n",
       "      <td>3.990606</td>\n",
       "    </tr>\n",
       "    <tr>\n",
       "      <th>std</th>\n",
       "      <td>1782.424613</td>\n",
       "      <td>57.566146</td>\n",
       "      <td>68027.067723</td>\n",
       "      <td>0.499767</td>\n",
       "      <td>3.420992e+06</td>\n",
       "      <td>35435.207656</td>\n",
       "      <td>17.410082</td>\n",
       "      <td>0.113484</td>\n",
       "      <td>0.113484</td>\n",
       "      <td>0.226839</td>\n",
       "      <td>0.113484</td>\n",
       "      <td>0.113484</td>\n",
       "      <td>0.147732</td>\n",
       "      <td>0.047949</td>\n",
       "      <td>0.110705</td>\n",
       "      <td>2.118782</td>\n",
       "      <td>0.080310</td>\n",
       "      <td>0.219857</td>\n",
       "      <td>31.770569</td>\n",
       "      <td>0.109084</td>\n",
       "    </tr>\n",
       "    <tr>\n",
       "      <th>min</th>\n",
       "      <td>0.000000</td>\n",
       "      <td>1.000000</td>\n",
       "      <td>24602.000000</td>\n",
       "      <td>2019.000000</td>\n",
       "      <td>2.902700e+04</td>\n",
       "      <td>106000.000000</td>\n",
       "      <td>0.000000</td>\n",
       "      <td>0.218000</td>\n",
       "      <td>0.218000</td>\n",
       "      <td>0.000274</td>\n",
       "      <td>0.218000</td>\n",
       "      <td>0.218000</td>\n",
       "      <td>0.056100</td>\n",
       "      <td>0.000000</td>\n",
       "      <td>0.037100</td>\n",
       "      <td>-23.023000</td>\n",
       "      <td>0.023200</td>\n",
       "      <td>0.051700</td>\n",
       "      <td>65.375000</td>\n",
       "      <td>3.000000</td>\n",
       "    </tr>\n",
       "    <tr>\n",
       "      <th>25%</th>\n",
       "      <td>1543.250000</td>\n",
       "      <td>50.000000</td>\n",
       "      <td>38691.250000</td>\n",
       "      <td>2019.000000</td>\n",
       "      <td>1.962385e+06</td>\n",
       "      <td>177240.000000</td>\n",
       "      <td>63.000000</td>\n",
       "      <td>0.676000</td>\n",
       "      <td>0.676000</td>\n",
       "      <td>0.062300</td>\n",
       "      <td>0.676000</td>\n",
       "      <td>0.676000</td>\n",
       "      <td>0.622000</td>\n",
       "      <td>0.000000</td>\n",
       "      <td>0.091000</td>\n",
       "      <td>-5.725000</td>\n",
       "      <td>0.050500</td>\n",
       "      <td>0.480000</td>\n",
       "      <td>95.993000</td>\n",
       "      <td>4.000000</td>\n",
       "    </tr>\n",
       "    <tr>\n",
       "      <th>50%</th>\n",
       "      <td>3086.500000</td>\n",
       "      <td>99.000000</td>\n",
       "      <td>50774.500000</td>\n",
       "      <td>2020.000000</td>\n",
       "      <td>3.065967e+06</td>\n",
       "      <td>200266.000000</td>\n",
       "      <td>71.000000</td>\n",
       "      <td>0.745000</td>\n",
       "      <td>0.745000</td>\n",
       "      <td>0.175000</td>\n",
       "      <td>0.745000</td>\n",
       "      <td>0.745000</td>\n",
       "      <td>0.729000</td>\n",
       "      <td>0.000000</td>\n",
       "      <td>0.114000</td>\n",
       "      <td>-4.669000</td>\n",
       "      <td>0.070200</td>\n",
       "      <td>0.662000</td>\n",
       "      <td>104.965000</td>\n",
       "      <td>4.000000</td>\n",
       "    </tr>\n",
       "    <tr>\n",
       "      <th>75%</th>\n",
       "      <td>4629.750000</td>\n",
       "      <td>148.000000</td>\n",
       "      <td>89316.750000</td>\n",
       "      <td>2020.000000</td>\n",
       "      <td>5.267080e+06</td>\n",
       "      <td>223480.000000</td>\n",
       "      <td>78.000000</td>\n",
       "      <td>0.806000</td>\n",
       "      <td>0.806000</td>\n",
       "      <td>0.327000</td>\n",
       "      <td>0.806000</td>\n",
       "      <td>0.806000</td>\n",
       "      <td>0.796000</td>\n",
       "      <td>0.000018</td>\n",
       "      <td>0.218000</td>\n",
       "      <td>-3.713000</td>\n",
       "      <td>0.137000</td>\n",
       "      <td>0.789000</td>\n",
       "      <td>147.982000</td>\n",
       "      <td>4.000000</td>\n",
       "    </tr>\n",
       "    <tr>\n",
       "      <th>max</th>\n",
       "      <td>6173.000000</td>\n",
       "      <td>200.000000</td>\n",
       "      <td>495344.000000</td>\n",
       "      <td>2020.000000</td>\n",
       "      <td>1.884889e+07</td>\n",
       "      <td>464200.000000</td>\n",
       "      <td>100.000000</td>\n",
       "      <td>0.925000</td>\n",
       "      <td>0.925000</td>\n",
       "      <td>0.952000</td>\n",
       "      <td>0.925000</td>\n",
       "      <td>0.925000</td>\n",
       "      <td>0.973000</td>\n",
       "      <td>0.465000</td>\n",
       "      <td>0.685000</td>\n",
       "      <td>-1.953000</td>\n",
       "      <td>0.490000</td>\n",
       "      <td>0.973000</td>\n",
       "      <td>195.801000</td>\n",
       "      <td>5.000000</td>\n",
       "    </tr>\n",
       "  </tbody>\n",
       "</table>\n",
       "</div>"
      ],
      "text/plain": [
       "        Unnamed: 0     Position        Streams         year  Streamstotal  \\\n",
       "count  6174.000000  6174.000000    6174.000000  6174.000000  6.174000e+03   \n",
       "mean   3086.500000    98.986395   79366.921283  2019.516521  4.143814e+06   \n",
       "std    1782.424613    57.566146   68027.067723     0.499767  3.420992e+06   \n",
       "min       0.000000     1.000000   24602.000000  2019.000000  2.902700e+04   \n",
       "25%    1543.250000    50.000000   38691.250000  2019.000000  1.962385e+06   \n",
       "50%    3086.500000    99.000000   50774.500000  2020.000000  3.065967e+06   \n",
       "75%    4629.750000   148.000000   89316.750000  2020.000000  5.267080e+06   \n",
       "max    6173.000000   200.000000  495344.000000  2020.000000  1.884889e+07   \n",
       "\n",
       "              length   popularity  danceability  danceability.1  acousticness  \\\n",
       "count    6174.000000  6174.000000   6174.000000     6174.000000   6174.000000   \n",
       "mean   203756.327340    68.230159      0.731115        0.731115      0.244426   \n",
       "std     35435.207656    17.410082      0.113484        0.113484      0.226839   \n",
       "min    106000.000000     0.000000      0.218000        0.218000      0.000274   \n",
       "25%    177240.000000    63.000000      0.676000        0.676000      0.062300   \n",
       "50%    200266.000000    71.000000      0.745000        0.745000      0.175000   \n",
       "75%    223480.000000    78.000000      0.806000        0.806000      0.327000   \n",
       "max    464200.000000   100.000000      0.925000        0.925000      0.952000   \n",
       "\n",
       "       danceability.2  danceability.3       energy  instrumentalness  \\\n",
       "count     6174.000000     6174.000000  6174.000000       6174.000000   \n",
       "mean         0.731115        0.731115     0.701424          0.006272   \n",
       "std          0.113484        0.113484     0.147732          0.047949   \n",
       "min          0.218000        0.218000     0.056100          0.000000   \n",
       "25%          0.676000        0.676000     0.622000          0.000000   \n",
       "50%          0.745000        0.745000     0.729000          0.000000   \n",
       "75%          0.806000        0.806000     0.796000          0.000018   \n",
       "max          0.925000        0.925000     0.973000          0.465000   \n",
       "\n",
       "          liveness     loudness  speechiness      valence        tempo  \\\n",
       "count  6174.000000  6174.000000  6174.000000  6174.000000  6174.000000   \n",
       "mean      0.165207    -5.066344     0.106238     0.619892   121.650870   \n",
       "std       0.110705     2.118782     0.080310     0.219857    31.770569   \n",
       "min       0.037100   -23.023000     0.023200     0.051700    65.375000   \n",
       "25%       0.091000    -5.725000     0.050500     0.480000    95.993000   \n",
       "50%       0.114000    -4.669000     0.070200     0.662000   104.965000   \n",
       "75%       0.218000    -3.713000     0.137000     0.789000   147.982000   \n",
       "max       0.685000    -1.953000     0.490000     0.973000   195.801000   \n",
       "\n",
       "       time_signature  \n",
       "count     6174.000000  \n",
       "mean         3.990606  \n",
       "std          0.109084  \n",
       "min          3.000000  \n",
       "25%          4.000000  \n",
       "50%          4.000000  \n",
       "75%          4.000000  \n",
       "max          5.000000  "
      ]
     },
     "execution_count": 20,
     "metadata": {},
     "output_type": "execute_result"
    }
   ],
   "source": [
    "data_ana.describe()"
   ]
  },
  {
   "cell_type": "code",
   "execution_count": 9,
   "metadata": {},
   "outputs": [
    {
     "data": {
      "image/png": "[encoded data removed]",
      "text/plain": [
       "<Figure size 432x288 with 1 Axes>"
      ]
     },
     "metadata": {
      "needs_background": "light"
     },
     "output_type": "display_data"
    }
   ],
   "source": [
    "plt.hist(data_ana['length'], bins = 80)\n",
    "plt.show()"
   ]
  },
  {
   "cell_type": "code",
   "execution_count": null,
   "metadata": {},
   "outputs": [
    {
     "name": "stderr",
     "output_type": "stream",
     "text": [
      "/Users/victormac/anaconda3/lib/python3.7/site-packages/ipykernel_launcher.py:7: UserWarning: Tight layout not applied. tight_layout cannot make axes width small enough to accommodate all axes decorations\n",
      "  import sys\n"
     ]
    }
   ],
   "source": [
    "def draw_histograms(df, variables, n_rows, n_cols):\n",
    "    fig=plt.figure()\n",
    "    for i, var_name in enumerate(variables):\n",
    "        ax=fig.add_subplot(n_rows,n_cols,i+1)\n",
    "        df[var_name].hist(bins=10,ax=ax)\n",
    "        ax.set_title(var_name+\" Distribution\")\n",
    "    fig.tight_layout()  # Improves appearance a bit.\n",
    "    plt.show()\n",
    "\n",
    "draw_histograms(data_ana, data_ana.columns, 3000, 15)\n"
   ]
  },
  {
   "cell_type": "code",
   "execution_count": 22,
   "metadata": {},
   "outputs": [
    {
     "ename": "TypeError",
     "evalue": "'data' must be pandas DataFrame object, not: <class 'pandas.core.series.Series'>",
     "output_type": "error",
     "traceback": [
      "\u001b[0;31m---------------------------------------------------------------------------\u001b[0m",
      "\u001b[0;31mTypeError\u001b[0m                                 Traceback (most recent call last)",
      "\u001b[0;32m<ipython-input-22-8f1977a6b67a>\u001b[0m in \u001b[0;36m<module>\u001b[0;34m\u001b[0m\n\u001b[0;32m----> 1\u001b[0;31m \u001b[0msns\u001b[0m\u001b[0;34m.\u001b[0m\u001b[0mpairplot\u001b[0m\u001b[0;34m(\u001b[0m\u001b[0mdata_ana\u001b[0m\u001b[0;34m[\u001b[0m\u001b[0;34m'energy'\u001b[0m\u001b[0;34m]\u001b[0m\u001b[0;34m)\u001b[0m\u001b[0;34m\u001b[0m\u001b[0;34m\u001b[0m\u001b[0m\n\u001b[0m",
      "\u001b[0;32m~/anaconda3/lib/python3.7/site-packages/seaborn/axisgrid.py\u001b[0m in \u001b[0;36mpairplot\u001b[0;34m(data, hue, hue_order, palette, vars, x_vars, y_vars, kind, diag_kind, markers, height, aspect, dropna, plot_kws, diag_kws, grid_kws, size)\u001b[0m\n\u001b[1;32m   2068\u001b[0m         raise TypeError(\n\u001b[1;32m   2069\u001b[0m             \"'data' must be pandas DataFrame object, not: {typefound}\".format(\n\u001b[0;32m-> 2070\u001b[0;31m                 typefound=type(data)))\n\u001b[0m\u001b[1;32m   2071\u001b[0m \u001b[0;34m\u001b[0m\u001b[0m\n\u001b[1;32m   2072\u001b[0m     \u001b[0;32mif\u001b[0m \u001b[0mplot_kws\u001b[0m \u001b[0;32mis\u001b[0m \u001b[0;32mNone\u001b[0m\u001b[0;34m:\u001b[0m\u001b[0;34m\u001b[0m\u001b[0;34m\u001b[0m\u001b[0m\n",
      "\u001b[0;31mTypeError\u001b[0m: 'data' must be pandas DataFrame object, not: <class 'pandas.core.series.Series'>"
     ]
    }
   ],
   "source": [
    "sns.pairplot(data_ana['energy'])\n"
   ]
  },
  {
   "cell_type": "code",
   "execution_count": 24,
   "metadata": {},
   "outputs": [
    {
     "data": {
      "text/plain": [
       "<seaborn.axisgrid.FacetGrid at 0x7fb15329bd30>"
      ]
     },
     "execution_count": 24,
     "metadata": {},
     "output_type": "execute_result"
    },
    {
     "data": {
      "image/png": "[encoded data removed]",
      "text/plain": [
       "<Figure size 360x360 with 1 Axes>"
      ]
     },
     "metadata": {
      "needs_background": "light"
     },
     "output_type": "display_data"
    },
    {
     "data": {
      "image/png": "[encoded data removed]",
      "text/plain": [
       "<Figure size 360x360 with 1 Axes>"
      ]
     },
     "metadata": {
      "needs_background": "light"
     },
     "output_type": "display_data"
    }
   ],
   "source": [
    "sns.relplot(x=\"energy\", y=\"danceability\", data=data_ana)\n",
    "sns.relplot(x=\"energy\", y=\"valence\", data=data_ana)"
   ]
  },
  {
   "cell_type": "code",
   "execution_count": null,
   "metadata": {},
   "outputs": [],
   "source": []
  }
 ],
 "metadata": {
  "kernelspec": {
   "display_name": "Python 3",
   "language": "python",
   "name": "python3"
  },
  "language_info": {
   "codemirror_mode": {
    "name": "ipython",
    "version": 3
   },
   "file_extension": ".py",
   "mimetype": "text/x-python",
   "name": "python",
   "nbconvert_exporter": "python",
   "pygments_lexer": "ipython3",
   "version": "3.7.3"
  }
 },
 "nbformat": 4,
 "nbformat_minor": 4
}
