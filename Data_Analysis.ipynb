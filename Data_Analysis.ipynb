{
 "cells": [
  {
   "cell_type": "markdown",
   "metadata": {},
   "source": [
    "# Data Analysis"
   ]
  },
  {
   "cell_type": "code",
   "execution_count": 169,
   "metadata": {},
   "outputs": [
    {
     "data": {
      "text/plain": [
       "(8923, 34)"
      ]
     },
     "execution_count": 169,
     "metadata": {},
     "output_type": "execute_result"
    }
   ],
   "source": [
    "import os\n",
    "import numpy as np\n",
    "import pandas as pd\n",
    "import matplotlib.pyplot as plt\n",
    "import seaborn as sns\n",
    "from datetime import datetime, timedelta\n",
    "from datetime import date\n",
    "\n",
    "\n",
    "# Primeras aproximaciones de análisis\n",
    "\n",
    "data_ana = pd.read_csv(\"data_global.csv\", sep = ',')\n",
    "del(data_ana['Unnamed: 0'])\n",
    "data_ana.shape"
   ]
  },
  {
   "cell_type": "code",
   "execution_count": 170,
   "metadata": {},
   "outputs": [
    {
     "data": {
      "text/plain": [
       "(295, 34)"
      ]
     },
     "execution_count": 170,
     "metadata": {},
     "output_type": "execute_result"
    }
   ],
   "source": [
    "# Lo primero es quitar duplicados, no nos sirven ya de nada y de momento no vamos a analizar rankings\n",
    "data_ana = data_ana.drop_duplicates(subset='spotify_id').copy()\n",
    "data_ana.shape"
   ]
  },
  {
   "cell_type": "code",
   "execution_count": 171,
   "metadata": {},
   "outputs": [
    {
     "name": "stdout",
     "output_type": "stream",
     "text": [
      "<class 'pandas.core.frame.DataFrame'>\n",
      "Int64Index: 295 entries, 0 to 8922\n",
      "Data columns (total 34 columns):\n",
      " #   Column             Non-Null Count  Dtype  \n",
      "---  ------             --------------  -----  \n",
      " 0   Position           295 non-null    int64  \n",
      " 1   Track Name         295 non-null    object \n",
      " 2   Artist             295 non-null    object \n",
      " 3   Streams            295 non-null    int64  \n",
      " 4   date               295 non-null    object \n",
      " 5   spotify_id         295 non-null    object \n",
      " 6   year               295 non-null    int64  \n",
      " 7   Streamstotal       295 non-null    int64  \n",
      " 8   album              295 non-null    object \n",
      " 9   release_date       295 non-null    object \n",
      " 10  length             295 non-null    float64\n",
      " 11  popularity         295 non-null    float64\n",
      " 12  acousticness       295 non-null    float64\n",
      " 13  danceability       295 non-null    float64\n",
      " 14  energy             295 non-null    float64\n",
      " 15  instrumentalness   295 non-null    float64\n",
      " 16  liveness           295 non-null    float64\n",
      " 17  loudness           295 non-null    float64\n",
      " 18  speechiness        295 non-null    float64\n",
      " 19  valence            295 non-null    float64\n",
      " 20  tempo              295 non-null    float64\n",
      " 21  time_signature     295 non-null    int64  \n",
      " 22  genre1             292 non-null    object \n",
      " 23  genre2             254 non-null    object \n",
      " 24  genre3             192 non-null    object \n",
      " 25  genre4             101 non-null    object \n",
      " 26  genre5             65 non-null     object \n",
      " 27  genre6             29 non-null     object \n",
      " 28  genre7             16 non-null     object \n",
      " 29  genre8             4 non-null      object \n",
      " 30  genre9             2 non-null      object \n",
      " 31  artist_id          295 non-null    object \n",
      " 32  artist_followers   295 non-null    int64  \n",
      " 33  artist_popularity  295 non-null    int64  \n",
      "dtypes: float64(11), int64(7), object(16)\n",
      "memory usage: 80.7+ KB\n",
      "None\n"
     ]
    }
   ],
   "source": [
    "print(data_ana.info())"
   ]
  },
  {
   "cell_type": "markdown",
   "metadata": {},
   "source": [
    "## PREVIO: Hacer ponderación para calcular medias respecto a los streams totales"
   ]
  },
  {
   "cell_type": "markdown",
   "metadata": {},
   "source": [
    "- Añadir una columna con el peso respecto a Streams total, y respecto a su año\n",
    "- Luego habría que multiplicar el valor de cada feature por el peso y sumar los resultados."
   ]
  },
  {
   "cell_type": "code",
   "execution_count": 172,
   "metadata": {},
   "outputs": [
    {
     "data": {
      "text/html": [
       "<div>\n",
       "<style scoped>\n",
       "    .dataframe tbody tr th:only-of-type {\n",
       "        vertical-align: middle;\n",
       "    }\n",
       "\n",
       "    .dataframe tbody tr th {\n",
       "        vertical-align: top;\n",
       "    }\n",
       "\n",
       "    .dataframe thead th {\n",
       "        text-align: right;\n",
       "    }\n",
       "</style>\n",
       "<table border=\"1\" class=\"dataframe\">\n",
       "  <thead>\n",
       "    <tr style=\"text-align: right;\">\n",
       "      <th></th>\n",
       "      <th>Position</th>\n",
       "      <th>Track Name</th>\n",
       "      <th>Artist</th>\n",
       "      <th>Streams</th>\n",
       "      <th>date</th>\n",
       "      <th>spotify_id</th>\n",
       "      <th>year</th>\n",
       "      <th>Streamstotal</th>\n",
       "      <th>album</th>\n",
       "      <th>release_date</th>\n",
       "      <th>...</th>\n",
       "      <th>genre3</th>\n",
       "      <th>genre4</th>\n",
       "      <th>genre5</th>\n",
       "      <th>genre6</th>\n",
       "      <th>genre7</th>\n",
       "      <th>genre8</th>\n",
       "      <th>genre9</th>\n",
       "      <th>artist_id</th>\n",
       "      <th>artist_followers</th>\n",
       "      <th>artist_popularity</th>\n",
       "    </tr>\n",
       "  </thead>\n",
       "  <tbody>\n",
       "    <tr>\n",
       "      <th>0</th>\n",
       "      <td>2</td>\n",
       "      <td>La Difícil</td>\n",
       "      <td>Bad Bunny</td>\n",
       "      <td>399788</td>\n",
       "      <td>2020-03-14</td>\n",
       "      <td>6NfrH0ANGmgBXyxgV2PeXt</td>\n",
       "      <td>2020</td>\n",
       "      <td>14996733</td>\n",
       "      <td>YHLQMDLG</td>\n",
       "      <td>2020-02-28</td>\n",
       "      <td>...</td>\n",
       "      <td>trap latino</td>\n",
       "      <td>NaN</td>\n",
       "      <td>NaN</td>\n",
       "      <td>NaN</td>\n",
       "      <td>NaN</td>\n",
       "      <td>NaN</td>\n",
       "      <td>NaN</td>\n",
       "      <td>4q3ewBCX7sLwd24euuV69X</td>\n",
       "      <td>23811758</td>\n",
       "      <td>97</td>\n",
       "    </tr>\n",
       "    <tr>\n",
       "      <th>61</th>\n",
       "      <td>6</td>\n",
       "      <td>Ignorantes</td>\n",
       "      <td>Bad Bunny</td>\n",
       "      <td>295813</td>\n",
       "      <td>2020-03-14</td>\n",
       "      <td>38RIEav39FGi86jppxO0du</td>\n",
       "      <td>2020</td>\n",
       "      <td>10423435</td>\n",
       "      <td>YHLQMDLG</td>\n",
       "      <td>2020-02-28</td>\n",
       "      <td>...</td>\n",
       "      <td>trap latino</td>\n",
       "      <td>NaN</td>\n",
       "      <td>NaN</td>\n",
       "      <td>NaN</td>\n",
       "      <td>NaN</td>\n",
       "      <td>NaN</td>\n",
       "      <td>NaN</td>\n",
       "      <td>4q3ewBCX7sLwd24euuV69X</td>\n",
       "      <td>23811758</td>\n",
       "      <td>97</td>\n",
       "    </tr>\n",
       "  </tbody>\n",
       "</table>\n",
       "<p>2 rows × 34 columns</p>\n",
       "</div>"
      ],
      "text/plain": [
       "    Position  Track Name     Artist  Streams        date  \\\n",
       "0          2  La Difícil  Bad Bunny   399788  2020-03-14   \n",
       "61         6  Ignorantes  Bad Bunny   295813  2020-03-14   \n",
       "\n",
       "                spotify_id  year  Streamstotal     album release_date  ...  \\\n",
       "0   6NfrH0ANGmgBXyxgV2PeXt  2020      14996733  YHLQMDLG   2020-02-28  ...   \n",
       "61  38RIEav39FGi86jppxO0du  2020      10423435  YHLQMDLG   2020-02-28  ...   \n",
       "\n",
       "         genre3  genre4  genre5  genre6  genre7  genre8  genre9  \\\n",
       "0   trap latino     NaN     NaN     NaN     NaN     NaN     NaN   \n",
       "61  trap latino     NaN     NaN     NaN     NaN     NaN     NaN   \n",
       "\n",
       "                 artist_id  artist_followers  artist_popularity  \n",
       "0   4q3ewBCX7sLwd24euuV69X          23811758                 97  \n",
       "61  4q3ewBCX7sLwd24euuV69X          23811758                 97  \n",
       "\n",
       "[2 rows x 34 columns]"
      ]
     },
     "execution_count": 172,
     "metadata": {},
     "output_type": "execute_result"
    }
   ],
   "source": [
    "data_ana.head(2)"
   ]
  },
  {
   "cell_type": "code",
   "execution_count": 173,
   "metadata": {},
   "outputs": [
    {
     "name": "stderr",
     "output_type": "stream",
     "text": [
      "<ipython-input-173-bcafee2fb50f>:8: SettingWithCopyWarning: \n",
      "A value is trying to be set on a copy of a slice from a DataFrame.\n",
      "Try using .loc[row_indexer,col_indexer] = value instead\n",
      "\n",
      "See the caveats in the documentation: https://pandas.pydata.org/pandas-docs/stable/user_guide/indexing.html#returning-a-view-versus-a-copy\n",
      "  data_ana_2020['streamstotal_weights'] = data_ana_2020['Streamstotal']/total_streams_2020\n",
      "<ipython-input-173-bcafee2fb50f>:9: SettingWithCopyWarning: \n",
      "A value is trying to be set on a copy of a slice from a DataFrame.\n",
      "Try using .loc[row_indexer,col_indexer] = value instead\n",
      "\n",
      "See the caveats in the documentation: https://pandas.pydata.org/pandas-docs/stable/user_guide/indexing.html#returning-a-view-versus-a-copy\n",
      "  data_ana_2019['streamstotal_weights'] = data_ana_2019['Streamstotal']/total_streams_2019\n"
     ]
    }
   ],
   "source": [
    "# Forma rudimentaria de hacerlo, probar a hacerlo con un aplly y lambda https://thispointer.com/pandas-apply-a-function-to-single-or-selected-columns-or-rows-in-dataframe/\n",
    "data_ana_2020 = data_ana[data_ana['year'] == 2020]\n",
    "data_ana_2019 = data_ana[data_ana['year'] == 2019]\n",
    "\n",
    "total_streams_2020 = data_ana_2020['Streamstotal'].sum()\n",
    "total_streams_2019 = data_ana_2019['Streamstotal'].sum()\n",
    "\n",
    "data_ana_2020['streamstotal_weights'] = data_ana_2020['Streamstotal']/total_streams_2020\n",
    "data_ana_2019['streamstotal_weights'] = data_ana_2019['Streamstotal']/total_streams_2019\n",
    "\n",
    "\n",
    "'''if data_ana[data_ana['year'] == 2020]:\n",
    "    data_ana['streamstotal_weights'] = data_ana_2020['Streamstotal'].sum()\n",
    "elif data_ana[data_ana['year'] == 2019]:\n",
    "    data_ana['streamstotal_weights'] = data_ana_2019['Streamstotal'].sum()\n",
    "'''\n",
    "data_ana_2020_only = data_ana_2020[['year','spotify_id', 'streamstotal_weights']].copy()\n",
    "data_ana_2019_only = data_ana_2019[['year','spotify_id', 'streamstotal_weights']].copy()\n",
    "data_ana_sum = pd.concat([data_ana_2020_only, data_ana_2019_only], axis=0)"
   ]
  },
  {
   "cell_type": "code",
   "execution_count": 185,
   "metadata": {},
   "outputs": [
    {
     "name": "stdout",
     "output_type": "stream",
     "text": [
      "(295, 35)\n"
     ]
    },
    {
     "data": {
      "text/html": [
       "<div>\n",
       "<style scoped>\n",
       "    .dataframe tbody tr th:only-of-type {\n",
       "        vertical-align: middle;\n",
       "    }\n",
       "\n",
       "    .dataframe tbody tr th {\n",
       "        vertical-align: top;\n",
       "    }\n",
       "\n",
       "    .dataframe thead th {\n",
       "        text-align: right;\n",
       "    }\n",
       "</style>\n",
       "<table border=\"1\" class=\"dataframe\">\n",
       "  <thead>\n",
       "    <tr style=\"text-align: right;\">\n",
       "      <th></th>\n",
       "      <th>Position</th>\n",
       "      <th>Track Name</th>\n",
       "      <th>Artist</th>\n",
       "      <th>Streams</th>\n",
       "      <th>date</th>\n",
       "      <th>spotify_id</th>\n",
       "      <th>year</th>\n",
       "      <th>Streamstotal</th>\n",
       "      <th>album</th>\n",
       "      <th>release_date</th>\n",
       "      <th>...</th>\n",
       "      <th>genre4</th>\n",
       "      <th>genre5</th>\n",
       "      <th>genre6</th>\n",
       "      <th>genre7</th>\n",
       "      <th>genre8</th>\n",
       "      <th>genre9</th>\n",
       "      <th>artist_id</th>\n",
       "      <th>artist_followers</th>\n",
       "      <th>artist_popularity</th>\n",
       "      <th>streamstotal_weights</th>\n",
       "    </tr>\n",
       "  </thead>\n",
       "  <tbody>\n",
       "    <tr>\n",
       "      <th>4438</th>\n",
       "      <td>104</td>\n",
       "      <td>Este Segundo</td>\n",
       "      <td>Alejandro Sanz</td>\n",
       "      <td>49718</td>\n",
       "      <td>2019-04-05</td>\n",
       "      <td>3rwvpuShwlJBi2X0FIHoQb</td>\n",
       "      <td>2019</td>\n",
       "      <td>85079</td>\n",
       "      <td>#ELDISCO</td>\n",
       "      <td>2019-04-04</td>\n",
       "      <td>...</td>\n",
       "      <td>latin pop</td>\n",
       "      <td>mexican pop</td>\n",
       "      <td>rock en espanol</td>\n",
       "      <td>spanish pop</td>\n",
       "      <td>NaN</td>\n",
       "      <td>NaN</td>\n",
       "      <td>5sUrlPAHlS9NEirDB8SEbF</td>\n",
       "      <td>4431016</td>\n",
       "      <td>78</td>\n",
       "      <td>0.000261</td>\n",
       "    </tr>\n",
       "  </tbody>\n",
       "</table>\n",
       "<p>1 rows × 35 columns</p>\n",
       "</div>"
      ],
      "text/plain": [
       "      Position    Track Name          Artist  Streams        date  \\\n",
       "4438       104  Este Segundo  Alejandro Sanz    49718  2019-04-05   \n",
       "\n",
       "                  spotify_id  year  Streamstotal     album release_date  ...  \\\n",
       "4438  3rwvpuShwlJBi2X0FIHoQb  2019         85079  #ELDISCO   2019-04-04  ...   \n",
       "\n",
       "         genre4       genre5           genre6       genre7  genre8  genre9  \\\n",
       "4438  latin pop  mexican pop  rock en espanol  spanish pop     NaN     NaN   \n",
       "\n",
       "                   artist_id  artist_followers  artist_popularity  \\\n",
       "4438  5sUrlPAHlS9NEirDB8SEbF           4431016                 78   \n",
       "\n",
       "      streamstotal_weights  \n",
       "4438              0.000261  \n",
       "\n",
       "[1 rows x 35 columns]"
      ]
     },
     "execution_count": 185,
     "metadata": {},
     "output_type": "execute_result"
    }
   ],
   "source": [
    "data_anam = pd.merge(data_ana, data_ana_sum, on=['year','spotify_id'])\n",
    "\n",
    "# Comprobaciones\n",
    "print(data_anam.shape)\n",
    "data_anam[data_anam['Track Name'] == 'Este Segundo']\n",
    "data_ana_2019[data_ana_2019['Track Name'] == 'Este Segundo']\n",
    "#data_ana_2020[data_ana_2020['Track Name'] == 'La Difícil']\n"
   ]
  },
  {
   "cell_type": "markdown",
   "metadata": {},
   "source": [
    "# Análisis"
   ]
  },
  {
   "cell_type": "code",
   "execution_count": 175,
   "metadata": {},
   "outputs": [
    {
     "data": {
      "text/html": [
       "<div>\n",
       "<style scoped>\n",
       "    .dataframe tbody tr th:only-of-type {\n",
       "        vertical-align: middle;\n",
       "    }\n",
       "\n",
       "    .dataframe tbody tr th {\n",
       "        vertical-align: top;\n",
       "    }\n",
       "\n",
       "    .dataframe thead th {\n",
       "        text-align: right;\n",
       "    }\n",
       "</style>\n",
       "<table border=\"1\" class=\"dataframe\">\n",
       "  <thead>\n",
       "    <tr style=\"text-align: right;\">\n",
       "      <th></th>\n",
       "      <th>Position</th>\n",
       "      <th>Track Name</th>\n",
       "      <th>Artist</th>\n",
       "      <th>Streams</th>\n",
       "      <th>date</th>\n",
       "      <th>spotify_id</th>\n",
       "      <th>Streamstotal</th>\n",
       "      <th>album</th>\n",
       "      <th>release_date</th>\n",
       "      <th>length</th>\n",
       "      <th>...</th>\n",
       "      <th>genre4</th>\n",
       "      <th>genre5</th>\n",
       "      <th>genre6</th>\n",
       "      <th>genre7</th>\n",
       "      <th>genre8</th>\n",
       "      <th>genre9</th>\n",
       "      <th>artist_id</th>\n",
       "      <th>artist_followers</th>\n",
       "      <th>artist_popularity</th>\n",
       "      <th>streamstotal_weights</th>\n",
       "    </tr>\n",
       "    <tr>\n",
       "      <th>year</th>\n",
       "      <th></th>\n",
       "      <th></th>\n",
       "      <th></th>\n",
       "      <th></th>\n",
       "      <th></th>\n",
       "      <th></th>\n",
       "      <th></th>\n",
       "      <th></th>\n",
       "      <th></th>\n",
       "      <th></th>\n",
       "      <th></th>\n",
       "      <th></th>\n",
       "      <th></th>\n",
       "      <th></th>\n",
       "      <th></th>\n",
       "      <th></th>\n",
       "      <th></th>\n",
       "      <th></th>\n",
       "      <th></th>\n",
       "      <th></th>\n",
       "      <th></th>\n",
       "    </tr>\n",
       "  </thead>\n",
       "  <tbody>\n",
       "    <tr>\n",
       "      <th>2019</th>\n",
       "      <td>155</td>\n",
       "      <td>155</td>\n",
       "      <td>155</td>\n",
       "      <td>155</td>\n",
       "      <td>155</td>\n",
       "      <td>155</td>\n",
       "      <td>155</td>\n",
       "      <td>155</td>\n",
       "      <td>155</td>\n",
       "      <td>155</td>\n",
       "      <td>...</td>\n",
       "      <td>66</td>\n",
       "      <td>44</td>\n",
       "      <td>20</td>\n",
       "      <td>14</td>\n",
       "      <td>4</td>\n",
       "      <td>2</td>\n",
       "      <td>155</td>\n",
       "      <td>155</td>\n",
       "      <td>155</td>\n",
       "      <td>155</td>\n",
       "    </tr>\n",
       "    <tr>\n",
       "      <th>2020</th>\n",
       "      <td>140</td>\n",
       "      <td>140</td>\n",
       "      <td>140</td>\n",
       "      <td>140</td>\n",
       "      <td>140</td>\n",
       "      <td>140</td>\n",
       "      <td>140</td>\n",
       "      <td>140</td>\n",
       "      <td>140</td>\n",
       "      <td>140</td>\n",
       "      <td>...</td>\n",
       "      <td>35</td>\n",
       "      <td>21</td>\n",
       "      <td>9</td>\n",
       "      <td>2</td>\n",
       "      <td>0</td>\n",
       "      <td>0</td>\n",
       "      <td>140</td>\n",
       "      <td>140</td>\n",
       "      <td>140</td>\n",
       "      <td>140</td>\n",
       "    </tr>\n",
       "  </tbody>\n",
       "</table>\n",
       "<p>2 rows × 34 columns</p>\n",
       "</div>"
      ],
      "text/plain": [
       "      Position  Track Name  Artist  Streams  date  spotify_id  Streamstotal  \\\n",
       "year                                                                          \n",
       "2019       155         155     155      155   155         155           155   \n",
       "2020       140         140     140      140   140         140           140   \n",
       "\n",
       "      album  release_date  length  ...  genre4  genre5  genre6  genre7  \\\n",
       "year                               ...                                   \n",
       "2019    155           155     155  ...      66      44      20      14   \n",
       "2020    140           140     140  ...      35      21       9       2   \n",
       "\n",
       "      genre8  genre9  artist_id  artist_followers  artist_popularity  \\\n",
       "year                                                                   \n",
       "2019       4       2        155               155                155   \n",
       "2020       0       0        140               140                140   \n",
       "\n",
       "      streamstotal_weights  \n",
       "year                        \n",
       "2019                   155  \n",
       "2020                   140  \n",
       "\n",
       "[2 rows x 34 columns]"
      ]
     },
     "execution_count": 175,
     "metadata": {},
     "output_type": "execute_result"
    }
   ],
   "source": [
    "# Vemos que el número de canciones únicas en cada año registradas\n",
    "data_anam.groupby(['year']).count()"
   ]
  },
  {
   "cell_type": "code",
   "execution_count": 176,
   "metadata": {},
   "outputs": [
    {
     "data": {
      "text/plain": [
       "<matplotlib.axes._subplots.AxesSubplot at 0x7f8b2dcc12b0>"
      ]
     },
     "execution_count": 176,
     "metadata": {},
     "output_type": "execute_result"
    },
    {
     "data": {
      "image/png": "[encoded data removed]",
      "text/plain": [
       "<Figure size 432x288 with 1 Axes>"
      ]
     },
     "metadata": {
      "needs_background": "light"
     },
     "output_type": "display_data"
    }
   ],
   "source": [
    "# Vemos que los streams total de cada año varian, pero aunque haya variación, ésta no afecta porque vamos a calcular media ponderadas\n",
    "data_anam.groupby(['year']).sum()\n",
    "\n",
    "data_anam_onlycol_streams = data_anam.loc[:, ['year', 'Streamstotal']]\n",
    "data_year_streams = data_anam_onlycol_streams.groupby(['year']).sum()\n",
    "data_year_streams.reset_index(inplace=True)\n",
    "data_year_streams\n",
    "\n",
    "sns.barplot(x=\"year\", y=\"Streamstotal\", data=data_year_streams)"
   ]
  },
  {
   "cell_type": "code",
   "execution_count": 178,
   "metadata": {},
   "outputs": [
    {
     "data": {
      "text/html": [
       "<div>\n",
       "<style scoped>\n",
       "    .dataframe tbody tr th:only-of-type {\n",
       "        vertical-align: middle;\n",
       "    }\n",
       "\n",
       "    .dataframe tbody tr th {\n",
       "        vertical-align: top;\n",
       "    }\n",
       "\n",
       "    .dataframe thead th {\n",
       "        text-align: right;\n",
       "    }\n",
       "</style>\n",
       "<table border=\"1\" class=\"dataframe\">\n",
       "  <thead>\n",
       "    <tr style=\"text-align: right;\">\n",
       "      <th></th>\n",
       "      <th>Position</th>\n",
       "      <th>Streams</th>\n",
       "      <th>Streamstotal</th>\n",
       "      <th>length</th>\n",
       "      <th>popularity</th>\n",
       "      <th>acousticness</th>\n",
       "      <th>danceability</th>\n",
       "      <th>energy</th>\n",
       "      <th>instrumentalness</th>\n",
       "      <th>liveness</th>\n",
       "      <th>loudness</th>\n",
       "      <th>speechiness</th>\n",
       "      <th>valence</th>\n",
       "      <th>tempo</th>\n",
       "      <th>time_signature</th>\n",
       "      <th>artist_followers</th>\n",
       "      <th>artist_popularity</th>\n",
       "      <th>streamstotal_weights</th>\n",
       "    </tr>\n",
       "    <tr>\n",
       "      <th>year</th>\n",
       "      <th></th>\n",
       "      <th></th>\n",
       "      <th></th>\n",
       "      <th></th>\n",
       "      <th></th>\n",
       "      <th></th>\n",
       "      <th></th>\n",
       "      <th></th>\n",
       "      <th></th>\n",
       "      <th></th>\n",
       "      <th></th>\n",
       "      <th></th>\n",
       "      <th></th>\n",
       "      <th></th>\n",
       "      <th></th>\n",
       "      <th></th>\n",
       "      <th></th>\n",
       "      <th></th>\n",
       "    </tr>\n",
       "  </thead>\n",
       "  <tbody>\n",
       "    <tr>\n",
       "      <th>2019</th>\n",
       "      <td>118.541935</td>\n",
       "      <td>62120.470968</td>\n",
       "      <td>2.101363e+06</td>\n",
       "      <td>0.327988</td>\n",
       "      <td>0.569935</td>\n",
       "      <td>0.290063</td>\n",
       "      <td>0.699484</td>\n",
       "      <td>0.652174</td>\n",
       "      <td>0.015948</td>\n",
       "      <td>0.164126</td>\n",
       "      <td>0.794367</td>\n",
       "      <td>0.218628</td>\n",
       "      <td>0.576601</td>\n",
       "      <td>0.433240</td>\n",
       "      <td>3.987097</td>\n",
       "      <td>8.657949e+06</td>\n",
       "      <td>79.361290</td>\n",
       "      <td>0.006452</td>\n",
       "    </tr>\n",
       "    <tr>\n",
       "      <th>2020</th>\n",
       "      <td>112.064286</td>\n",
       "      <td>80728.785714</td>\n",
       "      <td>2.519170e+06</td>\n",
       "      <td>0.305194</td>\n",
       "      <td>0.711714</td>\n",
       "      <td>0.248446</td>\n",
       "      <td>0.717343</td>\n",
       "      <td>0.686393</td>\n",
       "      <td>0.011939</td>\n",
       "      <td>0.141211</td>\n",
       "      <td>0.817877</td>\n",
       "      <td>0.200114</td>\n",
       "      <td>0.594129</td>\n",
       "      <td>0.410199</td>\n",
       "      <td>3.978571</td>\n",
       "      <td>7.901082e+06</td>\n",
       "      <td>78.971429</td>\n",
       "      <td>0.007143</td>\n",
       "    </tr>\n",
       "  </tbody>\n",
       "</table>\n",
       "</div>"
      ],
      "text/plain": [
       "        Position       Streams  Streamstotal    length  popularity  \\\n",
       "year                                                                 \n",
       "2019  118.541935  62120.470968  2.101363e+06  0.327988    0.569935   \n",
       "2020  112.064286  80728.785714  2.519170e+06  0.305194    0.711714   \n",
       "\n",
       "      acousticness  danceability    energy  instrumentalness  liveness  \\\n",
       "year                                                                     \n",
       "2019      0.290063      0.699484  0.652174          0.015948  0.164126   \n",
       "2020      0.248446      0.717343  0.686393          0.011939  0.141211   \n",
       "\n",
       "      loudness  speechiness   valence     tempo  time_signature  \\\n",
       "year                                                              \n",
       "2019  0.794367     0.218628  0.576601  0.433240        3.987097   \n",
       "2020  0.817877     0.200114  0.594129  0.410199        3.978571   \n",
       "\n",
       "      artist_followers  artist_popularity  streamstotal_weights  \n",
       "year                                                             \n",
       "2019      8.657949e+06          79.361290              0.006452  \n",
       "2020      7.901082e+06          78.971429              0.007143  "
      ]
     },
     "execution_count": 178,
     "metadata": {},
     "output_type": "execute_result"
    }
   ],
   "source": [
    "# Vemos una aproximación de las medias sin ponderar de las features, a ver si tienen sentido, parece que si, y todas están entre 0 y 1\n",
    "data_anam.groupby(['year']).mean()"
   ]
  },
  {
   "cell_type": "code",
   "execution_count": 186,
   "metadata": {},
   "outputs": [
    {
     "name": "stdout",
     "output_type": "stream",
     "text": [
      "   year  danceability\n",
      "0  2019      0.699484\n",
      "1  2020      0.717343\n"
     ]
    },
    {
     "data": {
      "text/plain": [
       "<matplotlib.axes._subplots.AxesSubplot at 0x7f8b290faa90>"
      ]
     },
     "execution_count": 186,
     "metadata": {},
     "output_type": "execute_result"
    },
    {
     "data": {
      "image/png": "[encoded data removed]",
      "text/plain": [
       "<Figure size 432x288 with 1 Axes>"
      ]
     },
     "metadata": {
      "needs_background": "light"
     },
     "output_type": "display_data"
    }
   ],
   "source": [
    "#Ejemplo: Comparación de danceability entre años (sin ponderar)\n",
    "data_anam_onlycol_dance = data_anam.loc[:, ['year', 'danceability']]\n",
    "data_year_dance = data_anam_onlycol_dance.groupby(['year']).mean()\n",
    "data_year_dance.reset_index(inplace=True)\n",
    "\n",
    "print(data_year_dance)\n",
    "sns.barplot(x=\"year\", y=\"danceability\", data=data_year_dance)\n"
   ]
  },
  {
   "cell_type": "code",
   "execution_count": 189,
   "metadata": {},
   "outputs": [
    {
     "name": "stdout",
     "output_type": "stream",
     "text": [
      "   year  danceability  streamstotal_weights  danceability_weight\n",
      "0  2019       108.420                   1.0                0.678\n",
      "1  2020       100.428                   1.0                0.678\n"
     ]
    },
    {
     "data": {
      "text/plain": [
       "'data_anam_onlycol_dance_2020 = data_anam_onlycol_dance[data_anam_onlycol_dance[\\'year\\'] == 2020]\\nfor value in data_anam_onlycol_dance_2020[\\'danceability\\']:\\n    data_anam_onlycol_dance_2020[\"danceability_weight\"] = value * data_anam_onlycol_dance_2020[\\'streamstotal_weights\\']\\nmedia_dance_2020 = data_anam_onlycol_dance_2020[\"danceability_weight\"].sum()\\nmedia_dance_2020\\n\\ndata_anam_onlycol_dance_2019 = data_anam_onlycol_dance[data_anam_onlycol_dance[\\'year\\'] == 2019]\\nfor value in data_anam_onlycol_dance_2019[\\'danceability\\']:\\n    data_anam_onlycol_dance_2019[\"danceability_weight\"] = value * data_anam_onlycol_dance_2019[\\'streamstotal_weights\\']\\nmedia_dance_2019 = data_anam_onlycol_dance_2019[\"danceability_weight\"].sum()\\nmedia_dance_2019'"
      ]
     },
     "execution_count": 189,
     "metadata": {},
     "output_type": "execute_result"
    },
    {
     "data": {
      "image/png": "[encoded data removed]",
      "text/plain": [
       "<Figure size 432x288 with 1 Axes>"
      ]
     },
     "metadata": {
      "needs_background": "light"
     },
     "output_type": "display_data"
    }
   ],
   "source": [
    "# Ejemplo: Comparación de danceability entre años (CON PONDERACIÓN)\n",
    "\n",
    "data_anam_onlycol_dance = data_anam.loc[:, ['year', 'danceability', 'streamstotal_weights']]\n",
    "\n",
    "# def media_features(feature, year)\n",
    "\n",
    "for value in data_anam_onlycol_dance['danceability']:\n",
    "    data_anam_onlycol_dance[\"danceability_weight\"] = value * data_anam_onlycol_dance['streamstotal_weights']\n",
    "\n",
    "media_dance = data_anam_onlycol_dance.groupby(['year']).sum()\n",
    "media_dance.reset_index(inplace=True)\n",
    "\n",
    "print(media_dance)\n",
    "sns.barplot(x=\"year\", y=\"danceability_weight\", data=media_dance)\n",
    "\n",
    "'''data_anam_onlycol_dance_2020 = data_anam_onlycol_dance[data_anam_onlycol_dance['year'] == 2020]\n",
    "for value in data_anam_onlycol_dance_2020['danceability']:\n",
    "    data_anam_onlycol_dance_2020[\"danceability_weight\"] = value * data_anam_onlycol_dance_2020['streamstotal_weights']\n",
    "media_dance_2020 = data_anam_onlycol_dance_2020[\"danceability_weight\"].sum()\n",
    "media_dance_2020\n",
    "\n",
    "data_anam_onlycol_dance_2019 = data_anam_onlycol_dance[data_anam_onlycol_dance['year'] == 2019]\n",
    "for value in data_anam_onlycol_dance_2019['danceability']:\n",
    "    data_anam_onlycol_dance_2019[\"danceability_weight\"] = value * data_anam_onlycol_dance_2019['streamstotal_weights']\n",
    "media_dance_2019 = data_anam_onlycol_dance_2019[\"danceability_weight\"].sum()\n",
    "media_dance_2019'''\n"
   ]
  },
  {
   "cell_type": "code",
   "execution_count": 190,
   "metadata": {},
   "outputs": [
    {
     "name": "stdout",
     "output_type": "stream",
     "text": [
      "0.6779999999999999\n",
      "0.6779999999999998\n"
     ]
    }
   ],
   "source": [
    "#Hay algo muy raro, no debería ser la media ponderada idéntica...\n",
    "data_2020 = data_anam_onlycol_dance[data_anam_onlycol_dance['year'] == 2020]\n",
    "data_2019 = data_anam_onlycol_dance[data_anam_onlycol_dance['year'] == 2019]\n",
    "\n",
    "\n",
    "print(data_2020['danceability_weight'].sum())\n",
    "print(data_2019['danceability_weight'].sum())"
   ]
  },
  {
   "cell_type": "code",
   "execution_count": 100,
   "metadata": {
    "collapsed": true,
    "jupyter": {
     "outputs_hidden": true
    }
   },
   "outputs": [
    {
     "data": {
      "text/plain": [
       "<seaborn.axisgrid.FacetGrid at 0x7fb3aceac160>"
      ]
     },
     "execution_count": 100,
     "metadata": {},
     "output_type": "execute_result"
    },
    {
     "data": {
      "image/png": "[encoded data removed]",
      "text/plain": [
       "<Figure size 360x360 with 1 Axes>"
      ]
     },
     "metadata": {
      "needs_background": "light"
     },
     "output_type": "display_data"
    },
    {
     "data": {
      "image/png": "[encoded data removed]",
      "text/plain": [
       "<Figure size 360x360 with 1 Axes>"
      ]
     },
     "metadata": {
      "needs_background": "light"
     },
     "output_type": "display_data"
    }
   ],
   "source": [
    "sns.relplot(x=\"energy\", y=\"danceability\", data=data_ana)\n",
    "sns.relplot(x=\"energy\", y=\"valence\", data=data_ana)"
   ]
  },
  {
   "cell_type": "code",
   "execution_count": null,
   "metadata": {},
   "outputs": [],
   "source": []
  }
 ],
 "metadata": {
  "kernelspec": {
   "display_name": "Python 3",
   "language": "python",
   "name": "python3"
  },
  "language_info": {
   "codemirror_mode": {
    "name": "ipython",
    "version": 3
   },
   "file_extension": ".py",
   "mimetype": "text/x-python",
   "name": "python",
   "nbconvert_exporter": "python",
   "pygments_lexer": "ipython3",
   "version": "3.8.3"
  }
 },
 "nbformat": 4,
 "nbformat_minor": 4
}
