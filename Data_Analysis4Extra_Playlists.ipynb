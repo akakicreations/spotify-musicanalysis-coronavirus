{
 "cells": [
  {
   "cell_type": "markdown",
   "metadata": {},
   "source": [
    "# Data Analysis Extra - Playlists"
   ]
  },
  {
   "cell_type": "markdown",
   "metadata": {},
   "source": [
    "Tras los análisis anteriores, de los que no obtube lso resultados que esperaba, decidí hacer un análisis de última hora con las playslist que crearon los usuarios durante la pandemia. Tal vez aquí haya indicadores más claros de un cambio en el tipo de música antes de la pandemia y durante.\n",
    "\n",
    "El proceso a realizar es buscar las playlists que tengan en el nombre alguna palabra relacionada con la pandemia (me he limitado al español) y extraer todas sus canciones para luego hacer un proceso de análisis de Features y Genre."
   ]
  },
  {
   "cell_type": "code",
   "execution_count": 269,
   "metadata": {},
   "outputs": [],
   "source": [
    "# Ver : https://towardsdatascience.com/what-music-do-people-listen-to-during-the-coronavirus-a-report-using-data-science-1a2035d12430\n",
    "# Leer: https://blog.chartmetric.com/covid-19-effect-on-the-global-music-business-part-1-genre/\n",
    "# https://gist.github.com/ilias1111/e503bbab0a98c20377686cc75ffad451\n"
   ]
  },
  {
   "cell_type": "markdown",
   "metadata": {},
   "source": [
    "## Preparación Previa"
   ]
  },
  {
   "cell_type": "code",
   "execution_count": null,
   "metadata": {},
   "outputs": [],
   "source": [
    "import os\n",
    "import numpy as np\n",
    "import pandas as pd\n",
    "import matplotlib.pyplot as plt\n",
    "import spotipy\n",
    "from spotipy.oauth2 import SpotifyClientCredentials\n",
    "import seaborn as sns\n",
    "from datetime import datetime\n",
    "import time\n",
    "import altair as alt\n",
    "\n",
    "# Meter credenciales de Spotify\n",
    "passw = pd.read_csv(\"pass_spotify.txt\", sep = ',', encoding=\"utf-8\")\n",
    "client_id = passw.columns[0]\n",
    "client_secret = passw.columns[1]\n",
    "\n",
    "client_credentials_manager = SpotifyClientCredentials(client_id, client_secret)\n",
    "sp = spotipy.Spotify(client_credentials_manager=client_credentials_manager)"
   ]
  },
  {
   "cell_type": "markdown",
   "metadata": {},
   "source": [
    "Cargamos funciones de anteriores Notebooks simplificadas para extraer features"
   ]
  },
  {
   "cell_type": "code",
   "execution_count": null,
   "metadata": {},
   "outputs": [],
   "source": [
    "##### Función para sacar las features de canciones que me interesan desde la id\n",
    "def getTrackFeatures(id):\n",
    "  meta = sp.track(id)\n",
    "  features = sp.audio_features(id)\n",
    "\n",
    "  # meta\n",
    "  name = meta['name']\n",
    "  album = meta['album']['name']\n",
    "  artist = meta['album']['artists'][0]['name']\n",
    "  release_date = meta['album']['release_date']\n",
    "  length = meta['duration_ms']\n",
    "  popularity = meta['popularity']\n",
    "\n",
    "  # features\n",
    "  acousticness = features[0]['acousticness']\n",
    "  danceability = features[0]['danceability']\n",
    "  energy = features[0]['energy']\n",
    "  instrumentalness = features[0]['instrumentalness']\n",
    "  liveness = features[0]['liveness']\n",
    "  loudness = features[0]['loudness']\n",
    "  speechiness = features[0]['speechiness']\n",
    "  valence = features[0]['valence']\n",
    "  tempo = features[0]['tempo']\n",
    "  time_signature = features[0]['time_signature']\n",
    "  id = features[0]['id']\n",
    "\n",
    "  track = [name, album, artist, release_date, length, popularity,\n",
    "           acousticness, danceability, energy, instrumentalness,\n",
    "           liveness, loudness, speechiness, valence, tempo, time_signature, id]\n",
    "  return track\n",
    "\n",
    "\n",
    "##### Loop para sacar features de todas las canciones de una lista, devuelve un dataframe\n",
    "\n",
    "def extract_songs(list_toextract):\n",
    "    import time\n",
    "    tracks = []\n",
    "    for i in range(len(list_toextract)):\n",
    "        time.sleep(.5)\n",
    "        track = getTrackFeatures(list_toextract[i])\n",
    "        tracks.append(track)\n",
    "\n",
    "    # Metemos la info en Dataframe\n",
    "    data_features = pd.DataFrame(tracks, columns = ['name', 'album', 'artist', 'release_date',\n",
    "                                                 'length', 'popularity','acousticness', 'danceability', 'energy',\n",
    "                                                 'instrumentalness', 'liveness', 'loudness',\n",
    "                                                 'speechiness', 'valence','tempo', 'time_signature', 'id'])\n",
    "\n",
    "    data_features_final = data_features [['name','artist','album','release_date','length', 'popularity',\n",
    "                                                 'acousticness', 'danceability', 'energy',\n",
    "                                                 'instrumentalness', 'liveness', 'loudness',\n",
    "                                                 'speechiness', 'valence','tempo', 'time_signature', 'id']]\n",
    "\n",
    "    data_features_final = data_features_final.rename(columns = {'id':'spotify_id'})\n",
    "\n",
    "    # Finalmente meto el año de Release date (lanzamiento de la canción) en un nueva columna que me va a vernir en uno de los análisis\n",
    "    data_features_final['release_date_year'] = pd.to_datetime(data_features_final['release_date'])\n",
    "    data_features_final['release_date_year'] = pd.DatetimeIndex(data_features_final['release_date']).year\n",
    "    print(data_features_final.shape)\n",
    "    data_features_final.head(4)\n",
    "\n",
    "    #Normalizamos features\n",
    "    features_to_normalize = ['length', 'popularity', 'loudness', 'tempo', 'speechiness']\n",
    "\n",
    "    data_features_final[features_to_normalize] = data_features_final[features_to_normalize].apply(lambda x:(x-x.min()) / (x.max()-x.min()))\n",
    "\n",
    "    return data_features_final\n",
    "    \n",
    "\n"
   ]
  },
  {
   "cell_type": "markdown",
   "metadata": {},
   "source": [
    "# Pregunta 4: ¿Qué tipo de música contienen las playlists que se han creado para el tiempo de pandemia?, ¿han cambiado?"
   ]
  },
  {
   "cell_type": "markdown",
   "metadata": {},
   "source": [
    "Lo primero que vamos a hacer es buscar playlists que se hayan creado \"para\" el coronavirus. Para eso, nos vamos a fijar en sus títulos: si contienen alguna palabra de las siguientes, nos las quedamos: \"covid\", \"pandemia\", \"cuarentena\",'covid19', \"coronavirus\", 'fernando simón'.\n",
    "\n",
    "Posteriormente haremos el proceso de extracción de todo: playlists, canciones y features de canción. Del total de canciones(hay muchas) de las playlist del coronavirus nos quedaremos solo con las más repetidas y en dos lotes, uno peuqeño y otro más grande. La idea es comparar estos dos lotes con el Top100 del 2019, que es una playlist con las canciones más escuchadas durante del 2019."
   ]
  },
  {
   "cell_type": "code",
   "execution_count": 34,
   "metadata": {},
   "outputs": [
    {
     "name": "stdout",
     "output_type": "stream",
     "text": [
      "{'playlists': {'href': 'https://api.spotify.com/v1/search?query=q%3Dfernando+sim%C3%B3n&type=playlist&offset=0&limit=10', 'items': [{'collaborative': False, 'description': '', 'external_urls': {'spotify': 'https://open.spotify.com/playlist/01bawF2DM0YzefGbC54Ua1'}, 'href': 'https://api.spotify.com/v1/playlists/01bawF2DM0YzefGbC54Ua1', 'id': '01bawF2DM0YzefGbC54Ua1', 'images': [{'height': None, 'url': 'https://i.scdn.co/image/ab67706c0000bebb80c823de1e04b1fe7f2073ce', 'width': None}], 'name': 'la playlist que escucha fernando simón', 'owner': {'display_name': 'mikenuggets', 'external_urls': {'spotify': 'https://open.spotify.com/user/079077tae8iz2j9qk6431p9s2'}, 'href': 'https://api.spotify.com/v1/users/079077tae8iz2j9qk6431p9s2', 'id': '079077tae8iz2j9qk6431p9s2', 'type': 'user', 'uri': 'spotify:user:079077tae8iz2j9qk6431p9s2'}, 'primary_color': None, 'public': None, 'snapshot_id': 'Mjc0LGVlNGQ1YTY3YWIzNGZmMjhiYzBiYzcxM2MxZDBkZWY4YzBjNDhlNmU=', 'tracks': {'href': 'https://api.spotify.com/v1/playlists/01bawF2DM0YzefGbC54Ua1/tracks', 'total': 271}, 'type': 'playlist', 'uri': 'spotify:playlist:01bawF2DM0YzefGbC54Ua1'}], 'limit': 10, 'next': None, 'offset': 0, 'previous': None, 'total': 1}}\n"
     ]
    }
   ],
   "source": [
    "# Vemos como está montada la estructura de información en la API de Spotify, para buscar una palabra en los nombres de las playlists\n",
    "print(sp.search('q=fernando simón', type='playlist'))\n",
    "# [\"covid\",\"cuarentena\", 'pandemia','covid19', \"coronavirus\", 'fernando simón']"
   ]
  },
  {
   "cell_type": "markdown",
   "metadata": {},
   "source": [
    "Creamos un script ya completo para buscar las palabras y sacar solo el total de listas que contiene esta palabra en alguna parte de su información"
   ]
  },
  {
   "cell_type": "code",
   "execution_count": 35,
   "metadata": {},
   "outputs": [
    {
     "name": "stdout",
     "output_type": "stream",
     "text": [
      "[{'collaborative': False, 'description': '', 'external_urls': {'spotify': 'https://open.spotify.com/playlist/01bawF2DM0YzefGbC54Ua1'}, 'href': 'https://api.spotify.com/v1/playlists/01bawF2DM0YzefGbC54Ua1', 'id': '01bawF2DM0YzefGbC54Ua1', 'images': [{'height': None, 'url': 'https://i.scdn.co/image/ab67706c0000bebb80c823de1e04b1fe7f2073ce', 'width': None}], 'name': 'la playlist que escucha fernando simón', 'owner': {'display_name': 'mikenuggets', 'external_urls': {'spotify': 'https://open.spotify.com/user/079077tae8iz2j9qk6431p9s2'}, 'href': 'https://api.spotify.com/v1/users/079077tae8iz2j9qk6431p9s2', 'id': '079077tae8iz2j9qk6431p9s2', 'type': 'user', 'uri': 'spotify:user:079077tae8iz2j9qk6431p9s2'}, 'primary_color': None, 'public': None, 'snapshot_id': 'Mjc0LGVlNGQ1YTY3YWIzNGZmMjhiYzBiYzcxM2MxZDBkZWY4YzBjNDhlNmU=', 'tracks': {'href': 'https://api.spotify.com/v1/playlists/01bawF2DM0YzefGbC54Ua1/tracks', 'total': 271}, 'type': 'playlist', 'uri': 'spotify:playlist:01bawF2DM0YzefGbC54Ua1'}]\n"
     ]
    }
   ],
   "source": [
    "for word in [\"fernando simón\"]:\n",
    "    print(sp.search('q=\"{}\"'.format(word), type='playlist')['playlists']['items'])"
   ]
  },
  {
   "cell_type": "markdown",
   "metadata": {},
   "source": [
    "Hacemos una extracción masiva de dichas playlist"
   ]
  },
  {
   "cell_type": "markdown",
   "metadata": {},
   "source": [
    "## Extraer playlists del coronavirus"
   ]
  },
  {
   "cell_type": "code",
   "execution_count": 36,
   "metadata": {},
   "outputs": [
    {
     "name": "stdout",
     "output_type": "stream",
     "text": [
      "Tiempo ejecución: 0:00:50.738712\n",
      "Número de playlists: name     5584\n",
      "total    5584\n",
      "id       5584\n",
      "uri      5584\n",
      "URL      5584\n",
      "dtype: int64\n"
     ]
    },
    {
     "data": {
      "text/html": [
       "<div>\n",
       "<style scoped>\n",
       "    .dataframe tbody tr th:only-of-type {\n",
       "        vertical-align: middle;\n",
       "    }\n",
       "\n",
       "    .dataframe tbody tr th {\n",
       "        vertical-align: top;\n",
       "    }\n",
       "\n",
       "    .dataframe thead th {\n",
       "        text-align: right;\n",
       "    }\n",
       "</style>\n",
       "<table border=\"1\" class=\"dataframe\">\n",
       "  <thead>\n",
       "    <tr style=\"text-align: right;\">\n",
       "      <th></th>\n",
       "      <th>name</th>\n",
       "      <th>total</th>\n",
       "      <th>id</th>\n",
       "      <th>uri</th>\n",
       "      <th>URL</th>\n",
       "    </tr>\n",
       "  </thead>\n",
       "  <tbody>\n",
       "    <tr>\n",
       "      <th>0</th>\n",
       "      <td>quarantine Vibes | Covid 19 |</td>\n",
       "      <td>45</td>\n",
       "      <td>6zjC569rXoYGOLwPUt37WW</td>\n",
       "      <td>spotify:playlist:6zjC569rXoYGOLwPUt37WW</td>\n",
       "      <td>https://api.spotify.com/v1/playlists/6zjC569rX...</td>\n",
       "    </tr>\n",
       "    <tr>\n",
       "      <th>1</th>\n",
       "      <td>Calma</td>\n",
       "      <td>151</td>\n",
       "      <td>37i9dQZF1DWY5LGZYBBHHz</td>\n",
       "      <td>spotify:playlist:37i9dQZF1DWY5LGZYBBHHz</td>\n",
       "      <td>https://api.spotify.com/v1/playlists/37i9dQZF1...</td>\n",
       "    </tr>\n",
       "    <tr>\n",
       "      <th>2</th>\n",
       "      <td>COVID-19 Quarantine Party</td>\n",
       "      <td>29</td>\n",
       "      <td>1Tn6OrkJhOYO5u6y16erqB</td>\n",
       "      <td>spotify:playlist:1Tn6OrkJhOYO5u6y16erqB</td>\n",
       "      <td>https://api.spotify.com/v1/playlists/1Tn6OrkJh...</td>\n",
       "    </tr>\n",
       "    <tr>\n",
       "      <th>3</th>\n",
       "      <td>Canciones Mas Virales que el Coronavirus 🦠🎶</td>\n",
       "      <td>106</td>\n",
       "      <td>4Y2h9TZNZersxSYeXujCNu</td>\n",
       "      <td>spotify:playlist:4Y2h9TZNZersxSYeXujCNu</td>\n",
       "      <td>https://api.spotify.com/v1/playlists/4Y2h9TZNZ...</td>\n",
       "    </tr>\n",
       "    <tr>\n",
       "      <th>4</th>\n",
       "      <td>Drunksouls COVID19 quarantine discovery: music...</td>\n",
       "      <td>49</td>\n",
       "      <td>64KUBwKGkUEqIU08HDhJ94</td>\n",
       "      <td>spotify:playlist:64KUBwKGkUEqIU08HDhJ94</td>\n",
       "      <td>https://api.spotify.com/v1/playlists/64KUBwKGk...</td>\n",
       "    </tr>\n",
       "    <tr>\n",
       "      <th>5</th>\n",
       "      <td>Plenas que no pudimos bailar por COVID</td>\n",
       "      <td>81</td>\n",
       "      <td>2U4J1vAVC8DvV3fPfrgXVy</td>\n",
       "      <td>spotify:playlist:2U4J1vAVC8DvV3fPfrgXVy</td>\n",
       "      <td>https://api.spotify.com/v1/playlists/2U4J1vAVC...</td>\n",
       "    </tr>\n",
       "    <tr>\n",
       "      <th>6</th>\n",
       "      <td>chill beats to quarantine to</td>\n",
       "      <td>124</td>\n",
       "      <td>5bPe4ZISvKWU5yTzsSO9lX</td>\n",
       "      <td>spotify:playlist:5bPe4ZISvKWU5yTzsSO9lX</td>\n",
       "      <td>https://api.spotify.com/v1/playlists/5bPe4ZISv...</td>\n",
       "    </tr>\n",
       "    <tr>\n",
       "      <th>7</th>\n",
       "      <td>Quarantine covid - 19</td>\n",
       "      <td>100</td>\n",
       "      <td>7qJzyN6atsM49NOWnqGbEK</td>\n",
       "      <td>spotify:playlist:7qJzyN6atsM49NOWnqGbEK</td>\n",
       "      <td>https://api.spotify.com/v1/playlists/7qJzyN6at...</td>\n",
       "    </tr>\n",
       "    <tr>\n",
       "      <th>8</th>\n",
       "      <td>MÁS PERREO MENOS COVID</td>\n",
       "      <td>99</td>\n",
       "      <td>1RYr3ngXNoPVtl7blr9Kaf</td>\n",
       "      <td>spotify:playlist:1RYr3ngXNoPVtl7blr9Kaf</td>\n",
       "      <td>https://api.spotify.com/v1/playlists/1RYr3ngXN...</td>\n",
       "    </tr>\n",
       "    <tr>\n",
       "      <th>9</th>\n",
       "      <td>CORONAVIRUS QUARANTINE PARTY COVID-19 2020</td>\n",
       "      <td>55</td>\n",
       "      <td>3r9u5bXzAYEvc0xBKkSnAx</td>\n",
       "      <td>spotify:playlist:3r9u5bXzAYEvc0xBKkSnAx</td>\n",
       "      <td>https://api.spotify.com/v1/playlists/3r9u5bXzA...</td>\n",
       "    </tr>\n",
       "    <tr>\n",
       "      <th>10</th>\n",
       "      <td>COVID Quarantine Dance Party</td>\n",
       "      <td>67</td>\n",
       "      <td>6YtMiqSUG7ec8D0NiOjVyB</td>\n",
       "      <td>spotify:playlist:6YtMiqSUG7ec8D0NiOjVyB</td>\n",
       "      <td>https://api.spotify.com/v1/playlists/6YtMiqSUG...</td>\n",
       "    </tr>\n",
       "    <tr>\n",
       "      <th>11</th>\n",
       "      <td>Covid-19</td>\n",
       "      <td>20</td>\n",
       "      <td>5a85EJBR2bRNT4Y2HL9nSS</td>\n",
       "      <td>spotify:playlist:5a85EJBR2bRNT4Y2HL9nSS</td>\n",
       "      <td>https://api.spotify.com/v1/playlists/5a85EJBR2...</td>\n",
       "    </tr>\n",
       "    <tr>\n",
       "      <th>12</th>\n",
       "      <td>Jarochilandia con COVID-19</td>\n",
       "      <td>911</td>\n",
       "      <td>3Leo5lHkDWZNDJ7TZrFxBq</td>\n",
       "      <td>spotify:playlist:3Leo5lHkDWZNDJ7TZrFxBq</td>\n",
       "      <td>https://api.spotify.com/v1/playlists/3Leo5lHkD...</td>\n",
       "    </tr>\n",
       "    <tr>\n",
       "      <th>13</th>\n",
       "      <td>Covid19 quarantine bangers</td>\n",
       "      <td>101</td>\n",
       "      <td>7s7Qvwtm9Ll0r0OBWgjLb0</td>\n",
       "      <td>spotify:playlist:7s7Qvwtm9Ll0r0OBWgjLb0</td>\n",
       "      <td>https://api.spotify.com/v1/playlists/7s7Qvwtm9...</td>\n",
       "    </tr>\n",
       "    <tr>\n",
       "      <th>14</th>\n",
       "      <td>canciones más contagiosas que el covid-19</td>\n",
       "      <td>38</td>\n",
       "      <td>2bdcVg4INHLQOlKYqPU1Zz</td>\n",
       "      <td>spotify:playlist:2bdcVg4INHLQOlKYqPU1Zz</td>\n",
       "      <td>https://api.spotify.com/v1/playlists/2bdcVg4IN...</td>\n",
       "    </tr>\n",
       "    <tr>\n",
       "      <th>15</th>\n",
       "      <td>Music to Be Quarantined By</td>\n",
       "      <td>35</td>\n",
       "      <td>12gyWY48p8cNZefiG0fX84</td>\n",
       "      <td>spotify:playlist:12gyWY48p8cNZefiG0fX84</td>\n",
       "      <td>https://api.spotify.com/v1/playlists/12gyWY48p...</td>\n",
       "    </tr>\n",
       "    <tr>\n",
       "      <th>16</th>\n",
       "      <td>Lofi lockdown - relaxing lofi chill hop while ...</td>\n",
       "      <td>464</td>\n",
       "      <td>7Frl2wr2hyco5xLzGJEjU3</td>\n",
       "      <td>spotify:playlist:7Frl2wr2hyco5xLzGJEjU3</td>\n",
       "      <td>https://api.spotify.com/v1/playlists/7Frl2wr2h...</td>\n",
       "    </tr>\n",
       "    <tr>\n",
       "      <th>17</th>\n",
       "      <td>Cuarentena COVID-19</td>\n",
       "      <td>95</td>\n",
       "      <td>187Q3aEaTzRfGXYt5CTRKe</td>\n",
       "      <td>spotify:playlist:187Q3aEaTzRfGXYt5CTRKe</td>\n",
       "      <td>https://api.spotify.com/v1/playlists/187Q3aEaT...</td>\n",
       "    </tr>\n",
       "    <tr>\n",
       "      <th>18</th>\n",
       "      <td>Quarantine Covid-19 Playlist</td>\n",
       "      <td>75</td>\n",
       "      <td>3hPN88cnjjeVaQllAo7wXR</td>\n",
       "      <td>spotify:playlist:3hPN88cnjjeVaQllAo7wXR</td>\n",
       "      <td>https://api.spotify.com/v1/playlists/3hPN88cnj...</td>\n",
       "    </tr>\n",
       "    <tr>\n",
       "      <th>19</th>\n",
       "      <td>Rolones que el covid no nos dejó perrear 💥</td>\n",
       "      <td>60</td>\n",
       "      <td>5suzLYBfDKm1aoOgnWnDSL</td>\n",
       "      <td>spotify:playlist:5suzLYBfDKm1aoOgnWnDSL</td>\n",
       "      <td>https://api.spotify.com/v1/playlists/5suzLYBfD...</td>\n",
       "    </tr>\n",
       "  </tbody>\n",
       "</table>\n",
       "</div>"
      ],
      "text/plain": [
       "                                                 name  total  \\\n",
       "0                       quarantine Vibes | Covid 19 |     45   \n",
       "1                                               Calma    151   \n",
       "2                           COVID-19 Quarantine Party     29   \n",
       "3         Canciones Mas Virales que el Coronavirus 🦠🎶    106   \n",
       "4   Drunksouls COVID19 quarantine discovery: music...     49   \n",
       "5              Plenas que no pudimos bailar por COVID     81   \n",
       "6                        chill beats to quarantine to    124   \n",
       "7                               Quarantine covid - 19    100   \n",
       "8                              MÁS PERREO MENOS COVID     99   \n",
       "9          CORONAVIRUS QUARANTINE PARTY COVID-19 2020     55   \n",
       "10                       COVID Quarantine Dance Party     67   \n",
       "11                                           Covid-19     20   \n",
       "12                         Jarochilandia con COVID-19    911   \n",
       "13                         Covid19 quarantine bangers    101   \n",
       "14          canciones más contagiosas que el covid-19     38   \n",
       "15                        Music to Be Quarantined By      35   \n",
       "16  Lofi lockdown - relaxing lofi chill hop while ...    464   \n",
       "17                                Cuarentena COVID-19     95   \n",
       "18                      Quarantine Covid-19 Playlist      75   \n",
       "19         Rolones que el covid no nos dejó perrear 💥     60   \n",
       "\n",
       "                        id                                      uri  \\\n",
       "0   6zjC569rXoYGOLwPUt37WW  spotify:playlist:6zjC569rXoYGOLwPUt37WW   \n",
       "1   37i9dQZF1DWY5LGZYBBHHz  spotify:playlist:37i9dQZF1DWY5LGZYBBHHz   \n",
       "2   1Tn6OrkJhOYO5u6y16erqB  spotify:playlist:1Tn6OrkJhOYO5u6y16erqB   \n",
       "3   4Y2h9TZNZersxSYeXujCNu  spotify:playlist:4Y2h9TZNZersxSYeXujCNu   \n",
       "4   64KUBwKGkUEqIU08HDhJ94  spotify:playlist:64KUBwKGkUEqIU08HDhJ94   \n",
       "5   2U4J1vAVC8DvV3fPfrgXVy  spotify:playlist:2U4J1vAVC8DvV3fPfrgXVy   \n",
       "6   5bPe4ZISvKWU5yTzsSO9lX  spotify:playlist:5bPe4ZISvKWU5yTzsSO9lX   \n",
       "7   7qJzyN6atsM49NOWnqGbEK  spotify:playlist:7qJzyN6atsM49NOWnqGbEK   \n",
       "8   1RYr3ngXNoPVtl7blr9Kaf  spotify:playlist:1RYr3ngXNoPVtl7blr9Kaf   \n",
       "9   3r9u5bXzAYEvc0xBKkSnAx  spotify:playlist:3r9u5bXzAYEvc0xBKkSnAx   \n",
       "10  6YtMiqSUG7ec8D0NiOjVyB  spotify:playlist:6YtMiqSUG7ec8D0NiOjVyB   \n",
       "11  5a85EJBR2bRNT4Y2HL9nSS  spotify:playlist:5a85EJBR2bRNT4Y2HL9nSS   \n",
       "12  3Leo5lHkDWZNDJ7TZrFxBq  spotify:playlist:3Leo5lHkDWZNDJ7TZrFxBq   \n",
       "13  7s7Qvwtm9Ll0r0OBWgjLb0  spotify:playlist:7s7Qvwtm9Ll0r0OBWgjLb0   \n",
       "14  2bdcVg4INHLQOlKYqPU1Zz  spotify:playlist:2bdcVg4INHLQOlKYqPU1Zz   \n",
       "15  12gyWY48p8cNZefiG0fX84  spotify:playlist:12gyWY48p8cNZefiG0fX84   \n",
       "16  7Frl2wr2hyco5xLzGJEjU3  spotify:playlist:7Frl2wr2hyco5xLzGJEjU3   \n",
       "17  187Q3aEaTzRfGXYt5CTRKe  spotify:playlist:187Q3aEaTzRfGXYt5CTRKe   \n",
       "18  3hPN88cnjjeVaQllAo7wXR  spotify:playlist:3hPN88cnjjeVaQllAo7wXR   \n",
       "19  5suzLYBfDKm1aoOgnWnDSL  spotify:playlist:5suzLYBfDKm1aoOgnWnDSL   \n",
       "\n",
       "                                                  URL  \n",
       "0   https://api.spotify.com/v1/playlists/6zjC569rX...  \n",
       "1   https://api.spotify.com/v1/playlists/37i9dQZF1...  \n",
       "2   https://api.spotify.com/v1/playlists/1Tn6OrkJh...  \n",
       "3   https://api.spotify.com/v1/playlists/4Y2h9TZNZ...  \n",
       "4   https://api.spotify.com/v1/playlists/64KUBwKGk...  \n",
       "5   https://api.spotify.com/v1/playlists/2U4J1vAVC...  \n",
       "6   https://api.spotify.com/v1/playlists/5bPe4ZISv...  \n",
       "7   https://api.spotify.com/v1/playlists/7qJzyN6at...  \n",
       "8   https://api.spotify.com/v1/playlists/1RYr3ngXN...  \n",
       "9   https://api.spotify.com/v1/playlists/3r9u5bXzA...  \n",
       "10  https://api.spotify.com/v1/playlists/6YtMiqSUG...  \n",
       "11  https://api.spotify.com/v1/playlists/5a85EJBR2...  \n",
       "12  https://api.spotify.com/v1/playlists/3Leo5lHkD...  \n",
       "13  https://api.spotify.com/v1/playlists/7s7Qvwtm9...  \n",
       "14  https://api.spotify.com/v1/playlists/2bdcVg4IN...  \n",
       "15  https://api.spotify.com/v1/playlists/12gyWY48p...  \n",
       "16  https://api.spotify.com/v1/playlists/7Frl2wr2h...  \n",
       "17  https://api.spotify.com/v1/playlists/187Q3aEaT...  \n",
       "18  https://api.spotify.com/v1/playlists/3hPN88cnj...  \n",
       "19  https://api.spotify.com/v1/playlists/5suzLYBfD...  "
      ]
     },
     "execution_count": 36,
     "metadata": {},
     "output_type": "execute_result"
    }
   ],
   "source": [
    "# Tarda alrededor de 1 minuto en completarse\n",
    "# Documentación: https://developer.spotify.com/documentation/web-api/reference/playlists/get-playlist/\n",
    "# ['items'][\"tracks\"]['items'][0][\"added_at\"]\n",
    "\n",
    "# Función para extrar determinados features de la playlist\n",
    "def batch_proccess(x,lista):\n",
    "    for i in x['playlists']['items']:\n",
    "        lista.append({\"name\" : i['name'], \"total\":i[\"tracks\"]['total'], 'id':i['id'], \"uri\":i[\"uri\"], \"URL\":i[\"tracks\"]['href']})\n",
    "\n",
    "# Sacar un listado de las playlist, en bloques de 50, que es el máximo que te permite la API\n",
    "Time1 = datetime.now()\n",
    "\n",
    "list_of_playlists = []\n",
    "for term in [\"covid\",\"pandemia\",\"cuarentena\",'covid19', \"coronavirus\", 'fernando simón']:\n",
    "    for i in range(0,2000, 50):\n",
    "        try:\n",
    "            init_data = sp.search('q=\"{}\"'.format(term), type='playlist', limit=50, offset=i)\n",
    "            batch_proccess(init_data,list_of_playlists)\n",
    "        except:\n",
    "            print(\"Error\")\n",
    "Time2 = datetime.now()\n",
    "\n",
    "print(\"Tiempo ejecución:\", Time2 -Time1)\n",
    "\n",
    "# Meto las playlists en un dataframe y echo un ojo\n",
    "playlists = pd.DataFrame(list_of_playlists).drop_duplicates().reset_index(drop=True)\n",
    "print('Número de playlists:', playlists.count())\n",
    "playlists.head(20)"
   ]
  },
  {
   "cell_type": "markdown",
   "metadata": {},
   "source": [
    "## Extraer canciones de una cantidad de playlists del coronavirus"
   ]
  },
  {
   "cell_type": "code",
   "execution_count": 43,
   "metadata": {},
   "outputs": [],
   "source": [
    "# Número de playlists de las que extraer canciones\n",
    "playlists_extract = playlists[0:4000]"
   ]
  },
  {
   "cell_type": "code",
   "execution_count": 44,
   "metadata": {},
   "outputs": [
    {
     "name": "stdout",
     "output_type": "stream",
     "text": [
      "Tiempo ejecución: 0:01:46.659796\n",
      "37304\n"
     ]
    }
   ],
   "source": [
    "# IMPORTANTE, Tarda alrededor de 30min en sacarlo todo, por eso ejecutamos antes una muestra sólo\n",
    "\n",
    "#FALTA JUNTAR ARTISTAS CON NOMBRES Y VER CÓMO LO JUNTAMOS EN AL DTAFRAME FINAL\n",
    "# Sacar las canciones de las listas para tenerlas todas juntas\n",
    "# Tarda bastante tiempo, alrededor de XX\n",
    "\n",
    "# Para sacar canciones\n",
    "Time1 = datetime.now()\n",
    "songs = []\n",
    "for uri in playlists_extract['uri']:\n",
    "\n",
    "        lenght = sp.playlist_tracks(uri)['total']\n",
    "        for i in range(0,lenght, 50):\n",
    "            init_data = sp.playlist_tracks(uri, limit=50, offset=i)\n",
    "            try:\n",
    "                for k in init_data['items']:\n",
    "                    songs.append(k['track'][\"id\"])\n",
    "            except:\n",
    "                pass\n",
    "\n",
    "Time2 = datetime.now()\n",
    "print(\"Tiempo ejecución:\", Time2 -Time1)\n",
    "\n",
    "print(len(songs))"
   ]
  },
  {
   "cell_type": "markdown",
   "metadata": {},
   "source": [
    "Hacemos un ranking de canciones más repetidas"
   ]
  },
  {
   "cell_type": "code",
   "execution_count": 45,
   "metadata": {},
   "outputs": [
    {
     "data": {
      "text/html": [
       "<div>\n",
       "<style scoped>\n",
       "    .dataframe tbody tr th:only-of-type {\n",
       "        vertical-align: middle;\n",
       "    }\n",
       "\n",
       "    .dataframe tbody tr th {\n",
       "        vertical-align: top;\n",
       "    }\n",
       "\n",
       "    .dataframe thead th {\n",
       "        text-align: right;\n",
       "    }\n",
       "</style>\n",
       "<table border=\"1\" class=\"dataframe\">\n",
       "  <thead>\n",
       "    <tr style=\"text-align: right;\">\n",
       "      <th></th>\n",
       "      <th>spotify_id</th>\n",
       "      <th>count</th>\n",
       "    </tr>\n",
       "  </thead>\n",
       "  <tbody>\n",
       "    <tr>\n",
       "      <th>196</th>\n",
       "      <td>2xLMifQCjDGFmkHkpNLD9h</td>\n",
       "      <td>31</td>\n",
       "    </tr>\n",
       "    <tr>\n",
       "      <th>197</th>\n",
       "      <td>6I9VzXrHxO9rA9A5euc8Ak</td>\n",
       "      <td>25</td>\n",
       "    </tr>\n",
       "    <tr>\n",
       "      <th>6028</th>\n",
       "      <td>7ytR5pFWmSjzHJIeQkgog4</td>\n",
       "      <td>25</td>\n",
       "    </tr>\n",
       "    <tr>\n",
       "      <th>251</th>\n",
       "      <td>2DEZmgHKAvm41k4J3R2E9Y</td>\n",
       "      <td>24</td>\n",
       "    </tr>\n",
       "    <tr>\n",
       "      <th>6045</th>\n",
       "      <td>0nbXyq5TXYPCO7pr3N8S4I</td>\n",
       "      <td>24</td>\n",
       "    </tr>\n",
       "    <tr>\n",
       "      <th>...</th>\n",
       "      <td>...</td>\n",
       "      <td>...</td>\n",
       "    </tr>\n",
       "    <tr>\n",
       "      <th>10508</th>\n",
       "      <td>73thBYypIRDkDz9Fw1kgCN</td>\n",
       "      <td>1</td>\n",
       "    </tr>\n",
       "    <tr>\n",
       "      <th>10507</th>\n",
       "      <td>7Clnn5BpU4Ylxdz5VjrgIs</td>\n",
       "      <td>1</td>\n",
       "    </tr>\n",
       "    <tr>\n",
       "      <th>10506</th>\n",
       "      <td>4qFbhzOXaH98zqsmIu86o3</td>\n",
       "      <td>1</td>\n",
       "    </tr>\n",
       "    <tr>\n",
       "      <th>10505</th>\n",
       "      <td>0I4JJx7tSGwTqdkl1ufKLR</td>\n",
       "      <td>1</td>\n",
       "    </tr>\n",
       "    <tr>\n",
       "      <th>27734</th>\n",
       "      <td>1dCeTKR5OsVP4uayEYFwuR</td>\n",
       "      <td>1</td>\n",
       "    </tr>\n",
       "  </tbody>\n",
       "</table>\n",
       "<p>27735 rows × 2 columns</p>\n",
       "</div>"
      ],
      "text/plain": [
       "                   spotify_id  count\n",
       "196    2xLMifQCjDGFmkHkpNLD9h     31\n",
       "197    6I9VzXrHxO9rA9A5euc8Ak     25\n",
       "6028   7ytR5pFWmSjzHJIeQkgog4     25\n",
       "251    2DEZmgHKAvm41k4J3R2E9Y     24\n",
       "6045   0nbXyq5TXYPCO7pr3N8S4I     24\n",
       "...                       ...    ...\n",
       "10508  73thBYypIRDkDz9Fw1kgCN      1\n",
       "10507  7Clnn5BpU4Ylxdz5VjrgIs      1\n",
       "10506  4qFbhzOXaH98zqsmIu86o3      1\n",
       "10505  0I4JJx7tSGwTqdkl1ufKLR      1\n",
       "27734  1dCeTKR5OsVP4uayEYFwuR      1\n",
       "\n",
       "[27735 rows x 2 columns]"
      ]
     },
     "execution_count": 45,
     "metadata": {},
     "output_type": "execute_result"
    }
   ],
   "source": [
    "#Vamos a hacer un de las canciones más repetidas\n",
    "from collections import Counter\n",
    "data_playlist_songs = pd.DataFrame.from_dict(Counter(songs), orient='index').reset_index().rename(columns={\"index\":\"spotify_id\", 0:\"count\"})\n",
    "data_playlist_songs = data_playlist_songs.sort_values(by=['count'], ascending=False)\n",
    "data_playlist_songs"
   ]
  },
  {
   "cell_type": "markdown",
   "metadata": {},
   "source": [
    "Por curiosidad, podemos echar un vistazo a cuáles son las top15 de la cuarentena. Hay que tener en cuenta de que el listado de playlist era de caracter mundial."
   ]
  },
  {
   "cell_type": "code",
   "execution_count": 81,
   "metadata": {},
   "outputs": [
    {
     "name": "stdout",
     "output_type": "stream",
     "text": [
      "16\n",
      "15\n",
      "(15, 18)\n"
     ]
    }
   ],
   "source": [
    "#Seleccionamos los 15 primeros\n",
    "list_toextract_exitos = data_playlist_songs[\"spotify_id\"].tolist()\n",
    "list_toextract_exitos = list_toextract_exitos[0:16]\n",
    "print(len(list_toextract_exitos))\n",
    "\n",
    "# Quitar Nones, hay uno suelto\n",
    "list_toextract_exitos = list(filter(None, list_toextract_exitos)) \n",
    "print(len(list_toextract_exitos))\n",
    "\n",
    "# Extraer canciones\n",
    "top_songs_pandemia = extract_songs(list_toextract_exitos)\n",
    "top_songs_pandemia"
   ]
  },
  {
   "cell_type": "markdown",
   "metadata": {},
   "source": [
    "Podemos ver datos que ya sabíamos, como que Bad Bunny lo petó, pero también vemos otros curiosos como la aparición de antiguos éxitos como \"U Can't Touch This\" o \"Don't Stand So Close To Me\", que estñan relacionados con al distancia social"
   ]
  },
  {
   "cell_type": "markdown",
   "metadata": {},
   "source": [
    "Vamos a seguir con nuestro análisis haciendo paquetes con los top100 y top10000 "
   ]
  },
  {
   "cell_type": "code",
   "execution_count": 91,
   "metadata": {},
   "outputs": [
    {
     "data": {
      "text/plain": [
       "10000"
      ]
     },
     "execution_count": 91,
     "metadata": {},
     "output_type": "execute_result"
    }
   ],
   "source": [
    "# Cogemos las 100 canciones que salen más veces y luego las 10000 que salen más veces para extraer sus features\n",
    "data_playlist_songs_100 = data_playlist_songs[0:100]\n",
    "data_playlist_songs_100 = data_playlist_songs_100[\"spotify_id\"].tolist()\n",
    "data_playlist_songs_100 = list(filter(None, data_playlist_songs_100)) \n",
    "\n",
    "data_playlist_songs_10000 = data_playlist_songs[0:10000]\n",
    "data_playlist_songs_10000 = data_playlist_songs_10000[\"spotify_id\"].tolist()\n",
    "data_playlist_songs_10000 = list(filter(None, data_playlist_songs_10000)) \n",
    "len(data_playlist_songs_10000)"
   ]
  },
  {
   "cell_type": "markdown",
   "metadata": {},
   "source": [
    "## Extracción Features de canciones de Top100 y Top10000 de las playlists de la pandemia"
   ]
  },
  {
   "cell_type": "markdown",
   "metadata": {},
   "source": [
    "Sacamos las features de cada canción y metemos la información en un dataframe"
   ]
  },
  {
   "cell_type": "code",
   "execution_count": 97,
   "metadata": {},
   "outputs": [
    {
     "name": "stdout",
     "output_type": "stream",
     "text": [
      "(99, 18)\n",
      "Tiempo ejecución extracción 100: 0:00:56.730358\n"
     ]
    },
    {
     "data": {
      "text/plain": [
       "(99, 18)"
      ]
     },
     "execution_count": 97,
     "metadata": {},
     "output_type": "execute_result"
    }
   ],
   "source": [
    "# Ejecutamos funciones de extraer canciones y normalizar de PAQUETE 1: 100\n",
    "# IMPORTANTE!!! Tiempo de ejecución:\n",
    "Time1 = datetime.now()\n",
    "\n",
    "data_features_songs100 = extract_songs(data_playlist_songs_100)\n",
    "\n",
    "Time2 = datetime.now()\n",
    "\n",
    "# Exportamos\n",
    "data_features_songs100.to_csv(\"data_ana_playlist_songs100.csv\", sep = ',')\n",
    "\n",
    "print(\"Tiempo ejecución extracción:\", Time2 -Time1)\n",
    "data_features_songs100.shape"
   ]
  },
  {
   "cell_type": "markdown",
   "metadata": {},
   "source": [
    "Echamos un vistazo a las medias, que en ste caso no podemos ponderar porque no tenemos los Streams totales"
   ]
  },
  {
   "cell_type": "code",
   "execution_count": null,
   "metadata": {},
   "outputs": [],
   "source": [
    "#Ejecutamos funciones de extraer canciones y normalizar de PAQUETE 2: 10000\n",
    "# IMPORTANTE!!! Tiempo de ejecución:\n",
    "Time1= datetime.now()\n",
    "\n",
    "data_features_songs10000 = extract_songs(data_playlist_songs_10000)\n",
    "\n",
    "Time2= datetime.now()\n",
    "\n",
    "# Ha tardado casi 1 hora en extraerse así que lo guardamos CSV\n",
    "data_features_songs10000.to_csv(\"data_ana_playlist_songs10000.csv\", sep = ',')\n",
    "\n",
    "print(\"Tiempo ejecución extracción 100:\", Time2 -Time1)"
   ]
  },
  {
   "cell_type": "markdown",
   "metadata": {},
   "source": [
    "## Extracción de canciones y features de playlist Top2019"
   ]
  },
  {
   "cell_type": "markdown",
   "metadata": {},
   "source": [
    "Sacamos canciones y features del TopTrack 2019 de Spotify, que es una lista concreta de Spotify."
   ]
  },
  {
   "cell_type": "code",
   "execution_count": 104,
   "metadata": {},
   "outputs": [
    {
     "name": "stdout",
     "output_type": "stream",
     "text": [
      "(100, 18)\n",
      "Tiempo ejecución extracción top2019: 0:00:57.331803\n",
      "(100, 18)\n"
     ]
    },
    {
     "data": {
      "text/html": [
       "<div>\n",
       "<style scoped>\n",
       "    .dataframe tbody tr th:only-of-type {\n",
       "        vertical-align: middle;\n",
       "    }\n",
       "\n",
       "    .dataframe tbody tr th {\n",
       "        vertical-align: top;\n",
       "    }\n",
       "\n",
       "    .dataframe thead th {\n",
       "        text-align: right;\n",
       "    }\n",
       "</style>\n",
       "<table border=\"1\" class=\"dataframe\">\n",
       "  <thead>\n",
       "    <tr style=\"text-align: right;\">\n",
       "      <th></th>\n",
       "      <th>name</th>\n",
       "      <th>artist</th>\n",
       "      <th>album</th>\n",
       "      <th>release_date</th>\n",
       "      <th>length</th>\n",
       "      <th>popularity</th>\n",
       "      <th>acousticness</th>\n",
       "      <th>danceability</th>\n",
       "      <th>energy</th>\n",
       "      <th>instrumentalness</th>\n",
       "      <th>liveness</th>\n",
       "      <th>loudness</th>\n",
       "      <th>speechiness</th>\n",
       "      <th>valence</th>\n",
       "      <th>tempo</th>\n",
       "      <th>time_signature</th>\n",
       "      <th>spotify_id</th>\n",
       "      <th>release_date_year</th>\n",
       "    </tr>\n",
       "  </thead>\n",
       "  <tbody>\n",
       "    <tr>\n",
       "      <th>0</th>\n",
       "      <td>Someone You Loved</td>\n",
       "      <td>Lewis Capaldi</td>\n",
       "      <td>Divinely Uninspired To A Hellish Extent</td>\n",
       "      <td>2019-05-17</td>\n",
       "      <td>0.280950</td>\n",
       "      <td>1.000000</td>\n",
       "      <td>0.751</td>\n",
       "      <td>0.501</td>\n",
       "      <td>0.405</td>\n",
       "      <td>0.00</td>\n",
       "      <td>0.105</td>\n",
       "      <td>0.749490</td>\n",
       "      <td>0.006459</td>\n",
       "      <td>0.446</td>\n",
       "      <td>0.306367</td>\n",
       "      <td>4</td>\n",
       "      <td>7qEHsqek33rTcFNT9PFqLf</td>\n",
       "      <td>2019</td>\n",
       "    </tr>\n",
       "    <tr>\n",
       "      <th>1</th>\n",
       "      <td>bad guy</td>\n",
       "      <td>Billie Eilish</td>\n",
       "      <td>WHEN WE ALL FALL ASLEEP, WHERE DO WE GO?</td>\n",
       "      <td>2019-03-29</td>\n",
       "      <td>0.330765</td>\n",
       "      <td>0.977528</td>\n",
       "      <td>0.328</td>\n",
       "      <td>0.701</td>\n",
       "      <td>0.425</td>\n",
       "      <td>0.13</td>\n",
       "      <td>0.100</td>\n",
       "      <td>0.300611</td>\n",
       "      <td>0.770601</td>\n",
       "      <td>0.562</td>\n",
       "      <td>0.505711</td>\n",
       "      <td>4</td>\n",
       "      <td>2Fxmhks0bxGSBdJ92vM42m</td>\n",
       "      <td>2019</td>\n",
       "    </tr>\n",
       "  </tbody>\n",
       "</table>\n",
       "</div>"
      ],
      "text/plain": [
       "                name         artist                                     album  \\\n",
       "0  Someone You Loved  Lewis Capaldi   Divinely Uninspired To A Hellish Extent   \n",
       "1            bad guy  Billie Eilish  WHEN WE ALL FALL ASLEEP, WHERE DO WE GO?   \n",
       "\n",
       "  release_date    length  popularity  acousticness  danceability  energy  \\\n",
       "0   2019-05-17  0.280950    1.000000         0.751         0.501   0.405   \n",
       "1   2019-03-29  0.330765    0.977528         0.328         0.701   0.425   \n",
       "\n",
       "   instrumentalness  liveness  loudness  speechiness  valence     tempo  \\\n",
       "0              0.00     0.105  0.749490     0.006459    0.446  0.306367   \n",
       "1              0.13     0.100  0.300611     0.770601    0.562  0.505711   \n",
       "\n",
       "   time_signature              spotify_id  release_date_year  \n",
       "0               4  7qEHsqek33rTcFNT9PFqLf               2019  \n",
       "1               4  2Fxmhks0bxGSBdJ92vM42m               2019  "
      ]
     },
     "execution_count": 104,
     "metadata": {},
     "output_type": "execute_result"
    }
   ],
   "source": [
    "# Toptrack2019\n",
    "songs_top19 = []\n",
    "uri = 'spotify:playlist:37i9dQZF1DWTqOoGdpVCf0'\n",
    "lenght = sp.playlist_tracks(uri)['total']\n",
    "for i in range(0,lenght, 50):\n",
    "    init_data = sp.playlist_tracks(uri, limit=50, offset=i)\n",
    "    try:\n",
    "        for k in init_data['items']:\n",
    "            songs_top19.append(k['track'][\"id\"])\n",
    "    except:\n",
    "        pass\n",
    "\n",
    "#Ejecuto función    \n",
    "Time1 = datetime.now()\n",
    "\n",
    "data_features_songs100_2019 = extract_songs(songs_top19)\n",
    "\n",
    "Time2 = datetime.now()\n",
    "\n",
    "# Ha tardado casi 1 hora en extraerse así que lo guardamos CSV\n",
    "data_features_songs100_2019.to_csv(\"data_ana_playlist_songs100_2019.csv\", sep = ',')\n",
    "\n",
    "print(\"Tiempo ejecución extracción top2019:\", Time2 -Time1)\n",
    "print(data_features_songs100_2019.shape)\n",
    "data_features_songs100_2019.head(2)"
   ]
  },
  {
   "cell_type": "markdown",
   "metadata": {},
   "source": [
    "## Calculo de media por stream de otro Notebook"
   ]
  },
  {
   "cell_type": "code",
   "execution_count": 283,
   "metadata": {},
   "outputs": [
    {
     "name": "stdout",
     "output_type": "stream",
     "text": [
      "Tamaño quitando columnas que sobran:  (48066, 36)\n",
      "Tamaño sin duplicados de canciones:  (1581, 36)\n"
     ]
    },
    {
     "name": "stderr",
     "output_type": "stream",
     "text": [
      "/Users/victormac/opt/anaconda3/lib/python3.8/site-packages/IPython/core/interactiveshell.py:3071: DtypeWarning: Columns (30,31,32,33) have mixed types.Specify dtype option on import or set low_memory=False.\n",
      "  has_raised = await self.run_ast_nodes(code_ast.body, cell_name,\n"
     ]
    }
   ],
   "source": [
    "data_ana_corona = pd.read_csv(\"data_global_coronaperiod.csv\", sep = ',')\n",
    "\n",
    "# Quitamos algunas columnas que no usaremos y sobran\n",
    "data_ana_corona = data_ana_corona.drop(columns=['Unnamed: 0', 'Position'])\n",
    "print('Tamaño quitando columnas que sobran: ', data_ana_corona.shape)\n",
    "\n",
    "# Quitamos los duplicados por canciones, no nos sirven de momento para los análisis\n",
    "data_ana_corona = data_ana_corona.drop_duplicates(subset='spotify_id').copy()\n",
    "print('Tamaño sin duplicados de canciones: ', data_ana_corona.shape)\n",
    "\n",
    "# Para analizar teniendo en cuenta los streams totales y que esté ponderado, calculamos los pesos de cada canción respecto a los streams totales\n",
    "# Importante hacerlo una vez quitados los duplicados\n",
    "# Versión optimizada corta y sin warnings\n",
    "\n",
    "data_ana_corona_2020 = data_ana_corona.loc[data_ana_corona['year'] == 2020]\n",
    "data_ana_corona_2019 = data_ana_corona.loc[data_ana_corona['year'] == 2019]\n",
    "data_ana_corona_2018 = data_ana_corona.loc[data_ana_corona['year'] == 2018]\n",
    "data_ana_corona_2017 = data_ana_corona.loc[data_ana_corona['year'] == 2017]\n",
    "\n",
    "data_ana_corona.loc[data_ana_corona.year == 2020,\n",
    "                    'streamstotal_weights'] = data_ana_corona_2020['Streamstotal']/data_ana_corona_2020['Streamstotal'].sum()\n",
    "data_ana_corona.loc[data_ana_corona.year == 2019,\n",
    "                    'streamstotal_weights'] = data_ana_corona_2019['Streamstotal']/data_ana_corona_2019['Streamstotal'].sum()\n",
    "data_ana_corona.loc[data_ana_corona.year == 2018,\n",
    "                    'streamstotal_weights'] = data_ana_corona_2018['Streamstotal']/data_ana_corona_2018['Streamstotal'].sum()\n",
    "data_ana_corona.loc[data_ana_corona.year == 2017, \n",
    "                    'streamstotal_weights'] = data_ana_corona_2017['Streamstotal']/data_ana_corona_2017['Streamstotal'].sum()"
   ]
  },
  {
   "cell_type": "code",
   "execution_count": 389,
   "metadata": {},
   "outputs": [],
   "source": [
    "# Rehago la función\n",
    "def mediapon_features (feature, dataframe_period):\n",
    "    media_compar = dataframe_period.loc[:, ['year', feature, 'streamstotal_weights']]\n",
    "    media_compar[\"mediaSpecial\"] = media_compar[feature] * media_compar['streamstotal_weights']\n",
    "    media_compar = media_compar.groupby(['year']).sum()\n",
    "    media_compar.reset_index(inplace=True)\n",
    "    media_compar = media_compar.drop(columns=[feature, 'streamstotal_weights', 'year'])\n",
    "    media_compar[\"features\"] = feature\n",
    "    \n",
    "   \n",
    "    return media_compar\n",
    "\n",
    "'''features = ['length', 'popularity','acousticness', 'danceability', 'energy', 'instrumentalness',\n",
    "         'liveness', 'loudness', 'speechiness', 'valence', 'tempo']\n",
    "\n",
    "medias = []\n",
    "for x in features:\n",
    "    y = mediapon_features(x, data_ana_corona)[3:]\n",
    "    medias.append(y)\n",
    "medias\n",
    "'''\n",
    "media_lenght = mediapon_features('length', data_ana_corona)[3:]\n",
    "media_popularity = mediapon_features('popularity', data_ana_corona)[3:]\n",
    "media_acousticness = mediapon_features('acousticness', data_ana_corona)[3:]\n",
    "media_danceability = mediapon_features('danceability', data_ana_corona)[3:]\n",
    "media_instrumentalness = mediapon_features('instrumentalness', data_ana_corona)[3:]\n",
    "media_liveness = mediapon_features('liveness', data_ana_corona)[3:]\n",
    "media_speechiness = mediapon_features('speechiness', data_ana_corona)[3:]\n",
    "media_valence = mediapon_features('valence', data_ana_corona)[3:]\n",
    "media_loudness = mediapon_features('loudness', data_ana_corona)[3:]\n",
    "media_tempo = mediapon_features('tempo', data_ana_corona)[3:]\n",
    "data_ana_special = pd.concat([media_lenght,\n",
    "           media_popularity,\n",
    "           media_acousticness,\n",
    "           media_danceability,\n",
    "           media_instrumentalness,\n",
    "           media_liveness,\n",
    "           media_speechiness,\n",
    "           media_valence,\n",
    "           media_loudness,\n",
    "           media_tempo,\n",
    "          ], axis=0)"
   ]
  },
  {
   "cell_type": "markdown",
   "metadata": {},
   "source": [
    "## Análisis de playlists"
   ]
  },
  {
   "cell_type": "code",
   "execution_count": 384,
   "metadata": {},
   "outputs": [],
   "source": [
    "# Cargamos dataframes guardados en extracción anterior\n",
    "data_ana_playlist_songs100 = pd.read_csv(\"data_ana_playlist_songs100.csv\", sep = ',')\n",
    "data_ana_playlist_songs100 = data_ana_playlist_songs100.drop(columns=['Unnamed: 0', 'time_signature', 'release_date', 'release_date_year'])\n",
    "\n",
    "data_ana_playlist_songs100_2019 = pd.read_csv(\"data_ana_playlist_songs100_2019.csv\", sep = ',')\n",
    "data_ana_playlist_songs100_2019 = data_ana_playlist_songs100_2019.drop(columns=['Unnamed: 0', 'time_signature', 'release_date','release_date_year'])\n",
    "\n",
    "# data_ana_playlist_songs10000 = pd.read_csv(\"data_ana_playlist_songs10000.csv\", sep = ',')\n",
    "# data_ana_playlist_songs10000 = data_ana_playlist_songs10000.drop(columns=['Unnamed: 0', 'time_signature', 'release_date','release_date_year'])\n"
   ]
  },
  {
   "cell_type": "code",
   "execution_count": 387,
   "metadata": {},
   "outputs": [
    {
     "data": {
      "text/html": [
       "<div>\n",
       "<style scoped>\n",
       "    .dataframe tbody tr th:only-of-type {\n",
       "        vertical-align: middle;\n",
       "    }\n",
       "\n",
       "    .dataframe tbody tr th {\n",
       "        vertical-align: top;\n",
       "    }\n",
       "\n",
       "    .dataframe thead th {\n",
       "        text-align: right;\n",
       "    }\n",
       "</style>\n",
       "<table border=\"1\" class=\"dataframe\">\n",
       "  <thead>\n",
       "    <tr style=\"text-align: right;\">\n",
       "      <th></th>\n",
       "      <th>features</th>\n",
       "      <th>mediaTop100_pandemia</th>\n",
       "    </tr>\n",
       "  </thead>\n",
       "  <tbody>\n",
       "    <tr>\n",
       "      <th>0</th>\n",
       "      <td>length</td>\n",
       "      <td>0.447076</td>\n",
       "    </tr>\n",
       "    <tr>\n",
       "      <th>1</th>\n",
       "      <td>popularity</td>\n",
       "      <td>0.711795</td>\n",
       "    </tr>\n",
       "    <tr>\n",
       "      <th>2</th>\n",
       "      <td>acousticness</td>\n",
       "      <td>0.227604</td>\n",
       "    </tr>\n",
       "    <tr>\n",
       "      <th>3</th>\n",
       "      <td>danceability</td>\n",
       "      <td>0.747626</td>\n",
       "    </tr>\n",
       "    <tr>\n",
       "      <th>4</th>\n",
       "      <td>energy</td>\n",
       "      <td>0.656859</td>\n",
       "    </tr>\n",
       "    <tr>\n",
       "      <th>5</th>\n",
       "      <td>instrumentalness</td>\n",
       "      <td>0.044862</td>\n",
       "    </tr>\n",
       "    <tr>\n",
       "      <th>6</th>\n",
       "      <td>liveness</td>\n",
       "      <td>0.166479</td>\n",
       "    </tr>\n",
       "    <tr>\n",
       "      <th>7</th>\n",
       "      <td>loudness</td>\n",
       "      <td>0.778376</td>\n",
       "    </tr>\n",
       "    <tr>\n",
       "      <th>8</th>\n",
       "      <td>speechiness</td>\n",
       "      <td>0.247791</td>\n",
       "    </tr>\n",
       "    <tr>\n",
       "      <th>9</th>\n",
       "      <td>valence</td>\n",
       "      <td>0.561017</td>\n",
       "    </tr>\n",
       "    <tr>\n",
       "      <th>10</th>\n",
       "      <td>tempo</td>\n",
       "      <td>0.429339</td>\n",
       "    </tr>\n",
       "    <tr>\n",
       "      <th>11</th>\n",
       "      <td>release_date_year</td>\n",
       "      <td>2017.656566</td>\n",
       "    </tr>\n",
       "  </tbody>\n",
       "</table>\n",
       "</div>"
      ],
      "text/plain": [
       "             features  mediaTop100_pandemia\n",
       "0              length              0.447076\n",
       "1          popularity              0.711795\n",
       "2        acousticness              0.227604\n",
       "3        danceability              0.747626\n",
       "4              energy              0.656859\n",
       "5    instrumentalness              0.044862\n",
       "6            liveness              0.166479\n",
       "7            loudness              0.778376\n",
       "8         speechiness              0.247791\n",
       "9             valence              0.561017\n",
       "10              tempo              0.429339\n",
       "11  release_date_year           2017.656566"
      ]
     },
     "execution_count": 387,
     "metadata": {},
     "output_type": "execute_result"
    }
   ],
   "source": [
    "data_ana_playlist_means_songs100"
   ]
  },
  {
   "cell_type": "markdown",
   "metadata": {},
   "source": [
    "Calculamos las medias y las exportamos para hacer el análisis visual desde Tableau"
   ]
  },
  {
   "cell_type": "code",
   "execution_count": 390,
   "metadata": {},
   "outputs": [
    {
     "name": "stderr",
     "output_type": "stream",
     "text": [
      "/Users/victormac/opt/anaconda3/lib/python3.8/site-packages/pandas/core/ops/array_ops.py:253: FutureWarning: elementwise comparison failed; returning scalar instead, but in the future will perform elementwise comparison\n",
      "  res_values = method(rvalues)\n"
     ]
    },
    {
     "ename": "ValueError",
     "evalue": "The truth value of a DataFrame is ambiguous. Use a.empty, a.bool(), a.item(), a.any() or a.all().",
     "output_type": "error",
     "traceback": [
      "\u001b[0;31m---------------------------------------------------------------------------\u001b[0m",
      "\u001b[0;31mValueError\u001b[0m                                Traceback (most recent call last)",
      "\u001b[0;32m<ipython-input-390-43734d9ab473>\u001b[0m in \u001b[0;36m<module>\u001b[0;34m\u001b[0m\n\u001b[1;32m      5\u001b[0m \u001b[0;34m\u001b[0m\u001b[0m\n\u001b[1;32m      6\u001b[0m \u001b[0;31m#Hacemos merge\u001b[0m\u001b[0;34m\u001b[0m\u001b[0;34m\u001b[0m\u001b[0;34m\u001b[0m\u001b[0m\n\u001b[0;32m----> 7\u001b[0;31m \u001b[0mdata_ana_playlist_means_all\u001b[0m \u001b[0;34m=\u001b[0m \u001b[0mpd\u001b[0m\u001b[0;34m.\u001b[0m\u001b[0mmerge\u001b[0m\u001b[0;34m(\u001b[0m\u001b[0mdata_ana_playlist_means_songs100\u001b[0m\u001b[0;34m,\u001b[0m \u001b[0mdata_ana_playlist_means_songs100_2019\u001b[0m\u001b[0;34m,\u001b[0m \u001b[0mdata_ana_special\u001b[0m\u001b[0;34m,\u001b[0m\u001b[0mon\u001b[0m\u001b[0;34m=\u001b[0m\u001b[0;34m'features'\u001b[0m\u001b[0;34m)\u001b[0m\u001b[0;34m\u001b[0m\u001b[0;34m\u001b[0m\u001b[0m\n\u001b[0m\u001b[1;32m      8\u001b[0m \u001b[0;34m\u001b[0m\u001b[0m\n\u001b[1;32m      9\u001b[0m \u001b[0;31m#Exportamos para analizar en Tableau\u001b[0m\u001b[0;34m\u001b[0m\u001b[0;34m\u001b[0m\u001b[0;34m\u001b[0m\u001b[0m\n",
      "\u001b[0;32m~/opt/anaconda3/lib/python3.8/site-packages/pandas/core/reshape/merge.py\u001b[0m in \u001b[0;36mmerge\u001b[0;34m(left, right, how, on, left_on, right_on, left_index, right_index, sort, suffixes, copy, indicator, validate)\u001b[0m\n\u001b[1;32m     86\u001b[0m         \u001b[0mvalidate\u001b[0m\u001b[0;34m=\u001b[0m\u001b[0mvalidate\u001b[0m\u001b[0;34m,\u001b[0m\u001b[0;34m\u001b[0m\u001b[0;34m\u001b[0m\u001b[0m\n\u001b[1;32m     87\u001b[0m     )\n\u001b[0;32m---> 88\u001b[0;31m     \u001b[0;32mreturn\u001b[0m \u001b[0mop\u001b[0m\u001b[0;34m.\u001b[0m\u001b[0mget_result\u001b[0m\u001b[0;34m(\u001b[0m\u001b[0;34m)\u001b[0m\u001b[0;34m\u001b[0m\u001b[0;34m\u001b[0m\u001b[0m\n\u001b[0m\u001b[1;32m     89\u001b[0m \u001b[0;34m\u001b[0m\u001b[0m\n\u001b[1;32m     90\u001b[0m \u001b[0;34m\u001b[0m\u001b[0m\n",
      "\u001b[0;32m~/opt/anaconda3/lib/python3.8/site-packages/pandas/core/reshape/merge.py\u001b[0m in \u001b[0;36mget_result\u001b[0;34m(self)\u001b[0m\n\u001b[1;32m    641\u001b[0m             \u001b[0mself\u001b[0m\u001b[0;34m.\u001b[0m\u001b[0mleft\u001b[0m\u001b[0;34m,\u001b[0m \u001b[0mself\u001b[0m\u001b[0;34m.\u001b[0m\u001b[0mright\u001b[0m \u001b[0;34m=\u001b[0m \u001b[0mself\u001b[0m\u001b[0;34m.\u001b[0m\u001b[0m_indicator_pre_merge\u001b[0m\u001b[0;34m(\u001b[0m\u001b[0mself\u001b[0m\u001b[0;34m.\u001b[0m\u001b[0mleft\u001b[0m\u001b[0;34m,\u001b[0m \u001b[0mself\u001b[0m\u001b[0;34m.\u001b[0m\u001b[0mright\u001b[0m\u001b[0;34m)\u001b[0m\u001b[0;34m\u001b[0m\u001b[0;34m\u001b[0m\u001b[0m\n\u001b[1;32m    642\u001b[0m \u001b[0;34m\u001b[0m\u001b[0m\n\u001b[0;32m--> 643\u001b[0;31m         \u001b[0mjoin_index\u001b[0m\u001b[0;34m,\u001b[0m \u001b[0mleft_indexer\u001b[0m\u001b[0;34m,\u001b[0m \u001b[0mright_indexer\u001b[0m \u001b[0;34m=\u001b[0m \u001b[0mself\u001b[0m\u001b[0;34m.\u001b[0m\u001b[0m_get_join_info\u001b[0m\u001b[0;34m(\u001b[0m\u001b[0;34m)\u001b[0m\u001b[0;34m\u001b[0m\u001b[0;34m\u001b[0m\u001b[0m\n\u001b[0m\u001b[1;32m    644\u001b[0m \u001b[0;34m\u001b[0m\u001b[0m\n\u001b[1;32m    645\u001b[0m         \u001b[0mldata\u001b[0m\u001b[0;34m,\u001b[0m \u001b[0mrdata\u001b[0m \u001b[0;34m=\u001b[0m \u001b[0mself\u001b[0m\u001b[0;34m.\u001b[0m\u001b[0mleft\u001b[0m\u001b[0;34m.\u001b[0m\u001b[0m_data\u001b[0m\u001b[0;34m,\u001b[0m \u001b[0mself\u001b[0m\u001b[0;34m.\u001b[0m\u001b[0mright\u001b[0m\u001b[0;34m.\u001b[0m\u001b[0m_data\u001b[0m\u001b[0;34m\u001b[0m\u001b[0;34m\u001b[0m\u001b[0m\n",
      "\u001b[0;32m~/opt/anaconda3/lib/python3.8/site-packages/pandas/core/reshape/merge.py\u001b[0m in \u001b[0;36m_get_join_info\u001b[0;34m(self)\u001b[0m\n\u001b[1;32m    860\u001b[0m             )\n\u001b[1;32m    861\u001b[0m         \u001b[0;32melse\u001b[0m\u001b[0;34m:\u001b[0m\u001b[0;34m\u001b[0m\u001b[0;34m\u001b[0m\u001b[0m\n\u001b[0;32m--> 862\u001b[0;31m             \u001b[0;34m(\u001b[0m\u001b[0mleft_indexer\u001b[0m\u001b[0;34m,\u001b[0m \u001b[0mright_indexer\u001b[0m\u001b[0;34m)\u001b[0m \u001b[0;34m=\u001b[0m \u001b[0mself\u001b[0m\u001b[0;34m.\u001b[0m\u001b[0m_get_join_indexers\u001b[0m\u001b[0;34m(\u001b[0m\u001b[0;34m)\u001b[0m\u001b[0;34m\u001b[0m\u001b[0;34m\u001b[0m\u001b[0m\n\u001b[0m\u001b[1;32m    863\u001b[0m \u001b[0;34m\u001b[0m\u001b[0m\n\u001b[1;32m    864\u001b[0m             \u001b[0;32mif\u001b[0m \u001b[0mself\u001b[0m\u001b[0;34m.\u001b[0m\u001b[0mright_index\u001b[0m\u001b[0;34m:\u001b[0m\u001b[0;34m\u001b[0m\u001b[0;34m\u001b[0m\u001b[0m\n",
      "\u001b[0;32m~/opt/anaconda3/lib/python3.8/site-packages/pandas/core/reshape/merge.py\u001b[0m in \u001b[0;36m_get_join_indexers\u001b[0;34m(self)\u001b[0m\n\u001b[1;32m    838\u001b[0m     \u001b[0;32mdef\u001b[0m \u001b[0m_get_join_indexers\u001b[0m\u001b[0;34m(\u001b[0m\u001b[0mself\u001b[0m\u001b[0;34m)\u001b[0m\u001b[0;34m:\u001b[0m\u001b[0;34m\u001b[0m\u001b[0;34m\u001b[0m\u001b[0m\n\u001b[1;32m    839\u001b[0m         \u001b[0;34m\"\"\" return the join indexers \"\"\"\u001b[0m\u001b[0;34m\u001b[0m\u001b[0;34m\u001b[0m\u001b[0m\n\u001b[0;32m--> 840\u001b[0;31m         return _get_join_indexers(\n\u001b[0m\u001b[1;32m    841\u001b[0m             \u001b[0mself\u001b[0m\u001b[0;34m.\u001b[0m\u001b[0mleft_join_keys\u001b[0m\u001b[0;34m,\u001b[0m \u001b[0mself\u001b[0m\u001b[0;34m.\u001b[0m\u001b[0mright_join_keys\u001b[0m\u001b[0;34m,\u001b[0m \u001b[0msort\u001b[0m\u001b[0;34m=\u001b[0m\u001b[0mself\u001b[0m\u001b[0;34m.\u001b[0m\u001b[0msort\u001b[0m\u001b[0;34m,\u001b[0m \u001b[0mhow\u001b[0m\u001b[0;34m=\u001b[0m\u001b[0mself\u001b[0m\u001b[0;34m.\u001b[0m\u001b[0mhow\u001b[0m\u001b[0;34m\u001b[0m\u001b[0;34m\u001b[0m\u001b[0m\n\u001b[1;32m    842\u001b[0m         )\n",
      "\u001b[0;32m~/opt/anaconda3/lib/python3.8/site-packages/pandas/core/reshape/merge.py\u001b[0m in \u001b[0;36m_get_join_indexers\u001b[0;34m(left_keys, right_keys, sort, how, **kwargs)\u001b[0m\n\u001b[1;32m   1322\u001b[0m     \u001b[0;31m# preserve left frame order if how == 'left' and sort == False\u001b[0m\u001b[0;34m\u001b[0m\u001b[0;34m\u001b[0m\u001b[0;34m\u001b[0m\u001b[0m\n\u001b[1;32m   1323\u001b[0m     \u001b[0mkwargs\u001b[0m \u001b[0;34m=\u001b[0m \u001b[0mcopy\u001b[0m\u001b[0;34m.\u001b[0m\u001b[0mcopy\u001b[0m\u001b[0;34m(\u001b[0m\u001b[0mkwargs\u001b[0m\u001b[0;34m)\u001b[0m\u001b[0;34m\u001b[0m\u001b[0;34m\u001b[0m\u001b[0m\n\u001b[0;32m-> 1324\u001b[0;31m     \u001b[0;32mif\u001b[0m \u001b[0mhow\u001b[0m \u001b[0;34m==\u001b[0m \u001b[0;34m\"left\"\u001b[0m\u001b[0;34m:\u001b[0m\u001b[0;34m\u001b[0m\u001b[0;34m\u001b[0m\u001b[0m\n\u001b[0m\u001b[1;32m   1325\u001b[0m         \u001b[0mkwargs\u001b[0m\u001b[0;34m[\u001b[0m\u001b[0;34m\"sort\"\u001b[0m\u001b[0;34m]\u001b[0m \u001b[0;34m=\u001b[0m \u001b[0msort\u001b[0m\u001b[0;34m\u001b[0m\u001b[0;34m\u001b[0m\u001b[0m\n\u001b[1;32m   1326\u001b[0m     \u001b[0mjoin_func\u001b[0m \u001b[0;34m=\u001b[0m \u001b[0m_join_functions\u001b[0m\u001b[0;34m[\u001b[0m\u001b[0mhow\u001b[0m\u001b[0;34m]\u001b[0m\u001b[0;34m\u001b[0m\u001b[0;34m\u001b[0m\u001b[0m\n",
      "\u001b[0;32m~/opt/anaconda3/lib/python3.8/site-packages/pandas/core/generic.py\u001b[0m in \u001b[0;36m__nonzero__\u001b[0;34m(self)\u001b[0m\n\u001b[1;32m   1476\u001b[0m \u001b[0;34m\u001b[0m\u001b[0m\n\u001b[1;32m   1477\u001b[0m     \u001b[0;32mdef\u001b[0m \u001b[0m__nonzero__\u001b[0m\u001b[0;34m(\u001b[0m\u001b[0mself\u001b[0m\u001b[0;34m)\u001b[0m\u001b[0;34m:\u001b[0m\u001b[0;34m\u001b[0m\u001b[0;34m\u001b[0m\u001b[0m\n\u001b[0;32m-> 1478\u001b[0;31m         raise ValueError(\n\u001b[0m\u001b[1;32m   1479\u001b[0m             \u001b[0;34mf\"The truth value of a {type(self).__name__} is ambiguous. \"\u001b[0m\u001b[0;34m\u001b[0m\u001b[0;34m\u001b[0m\u001b[0m\n\u001b[1;32m   1480\u001b[0m             \u001b[0;34m\"Use a.empty, a.bool(), a.item(), a.any() or a.all().\"\u001b[0m\u001b[0;34m\u001b[0m\u001b[0;34m\u001b[0m\u001b[0m\n",
      "\u001b[0;31mValueError\u001b[0m: The truth value of a DataFrame is ambiguous. Use a.empty, a.bool(), a.item(), a.any() or a.all()."
     ]
    }
   ],
   "source": [
    "#Calculamos medias \n",
    "data_ana_playlist_means_songs100 = data_ana_playlist_songs100.mean().reset_index().rename(columns={\"index\": \"features\", 0: \"mediaTop100_pandemia\"})\n",
    "data_ana_playlist_means_songs100_2019 = data_ana_playlist_songs100_2019.mean().reset_index().rename(columns={\"index\": \"features\", 0: \"mediaTop100_2019\"})\n",
    "# data_ana_playlist_means_songs10000 = data_ana_playlist_songs10000.mean().reset_index().rename(columns={\"index\": \"features\", 0: \"mediaTop10000_pandemia\"})\n",
    "\n",
    "#Hacemos merge\n",
    "data_ana_playlist_means_all = pd.merge(data_ana_playlist_means_songs100, data_ana_playlist_means_songs100_2019, data_ana_special, on='features')\n",
    "\n",
    "#Exportamos para analizar en Tableau\n",
    "#data_ana_playlist_means_all.to_csv(\"tableau_graph_and_analysis/data_ana_playlist_songs_totableau.csv\", sep = ',')"
   ]
  },
  {
   "cell_type": "markdown",
   "metadata": {},
   "source": [
    "<img src=\"tableau_graph_and_analysis/dashboard_playlist.png\" style=\"width: 1000px;\">"
   ]
  },
  {
   "cell_type": "markdown",
   "metadata": {},
   "source": [
    "## Conclusiones:\n",
    "\n",
    "Durante la pandemia se ha escuchado música "
   ]
  }
 ],
 "metadata": {
  "kernelspec": {
   "display_name": "Python 3",
   "language": "python",
   "name": "python3"
  },
  "language_info": {
   "codemirror_mode": {
    "name": "ipython",
    "version": 3
   },
   "file_extension": ".py",
   "mimetype": "text/x-python",
   "name": "python",
   "nbconvert_exporter": "python",
   "pygments_lexer": "ipython3",
   "version": "3.8.3"
  }
 },
 "nbformat": 4,
 "nbformat_minor": 4
}
