{
 "cells": [
  {
   "cell_type": "markdown",
   "metadata": {},
   "source": [
    "# Data Analysis Extra - Playlists"
   ]
  },
  {
   "cell_type": "markdown",
   "metadata": {},
   "source": [
    "Como análisis extra pensé que podría analizar las plasyslist que crearon lso usuarios durante la pandemia, podría dar indicadores de qué tipo de música prefiere escuchar durante una pandemia.\n",
    "\n",
    "el proceso a realizar es buscar las playlist que tengan en el nombre alguna palabra relacionada con la pandemia, me he limitado al español"
   ]
  },
  {
   "cell_type": "code",
   "execution_count": 95,
   "metadata": {},
   "outputs": [],
   "source": [
    "# Ver : https://towardsdatascience.com/what-music-do-people-listen-to-during-the-coronavirus-a-report-using-data-science-1a2035d12430\n",
    "# Leer: https://blog.chartmetric.com/covid-19-effect-on-the-global-music-business-part-1-genre/\n",
    "# https://gist.github.com/ilias1111/e503bbab0a98c20377686cc75ffad451"
   ]
  },
  {
   "cell_type": "code",
   "execution_count": 96,
   "metadata": {},
   "outputs": [],
   "source": [
    "import os\n",
    "import numpy as np\n",
    "import pandas as pd\n",
    "import matplotlib.pyplot as plt\n",
    "import spotipy\n",
    "from spotipy.oauth2 import SpotifyClientCredentials\n",
    "import seaborn as sns\n",
    "from datetime import datetime\n",
    "\n",
    "# Meter credenciales de Spotify\n",
    "passw = pd.read_csv(\"pass_spotify.txt\", sep = ',', encoding=\"utf-8\")\n",
    "client_id = passw.columns[0]\n",
    "client_secret = passw.columns[1]\n",
    "\n",
    "client_credentials_manager = SpotifyClientCredentials(client_id, client_secret)\n",
    "sp = spotipy.Spotify(client_credentials_manager=client_credentials_manager)"
   ]
  },
  {
   "cell_type": "code",
   "execution_count": 3,
   "metadata": {},
   "outputs": [
    {
     "name": "stdout",
     "output_type": "stream",
     "text": [
      "{'playlists': {'href': 'https://api.spotify.com/v1/search?query=q%3Dfernando+sim%C3%B3n&type=playlist&offset=0&limit=10', 'items': [{'collaborative': False, 'description': '', 'external_urls': {'spotify': 'https://open.spotify.com/playlist/01bawF2DM0YzefGbC54Ua1'}, 'href': 'https://api.spotify.com/v1/playlists/01bawF2DM0YzefGbC54Ua1', 'id': '01bawF2DM0YzefGbC54Ua1', 'images': [{'height': None, 'url': 'https://i.scdn.co/image/ab67706c0000bebb80c823de1e04b1fe7f2073ce', 'width': None}], 'name': 'la playlist que escucha fernando simón', 'owner': {'display_name': 'mikenuggets', 'external_urls': {'spotify': 'https://open.spotify.com/user/079077tae8iz2j9qk6431p9s2'}, 'href': 'https://api.spotify.com/v1/users/079077tae8iz2j9qk6431p9s2', 'id': '079077tae8iz2j9qk6431p9s2', 'type': 'user', 'uri': 'spotify:user:079077tae8iz2j9qk6431p9s2'}, 'primary_color': None, 'public': None, 'snapshot_id': 'Mjc0LGVlNGQ1YTY3YWIzNGZmMjhiYzBiYzcxM2MxZDBkZWY4YzBjNDhlNmU=', 'tracks': {'href': 'https://api.spotify.com/v1/playlists/01bawF2DM0YzefGbC54Ua1/tracks', 'total': 271}, 'type': 'playlist', 'uri': 'spotify:playlist:01bawF2DM0YzefGbC54Ua1'}], 'limit': 10, 'next': None, 'offset': 0, 'previous': None, 'total': 1}}\n"
     ]
    }
   ],
   "source": [
    "# Vemos como está montada la estructura de información en la API de Spotify, para buscar una palabra en los nombres de las playlists\n",
    "print(sp.search('q=fernando simón', type='playlist'))\n",
    "# [\"covid\",\"cuarentena\", 'pandemia','covid19', \"coronavirus\", 'fernando simón']"
   ]
  },
  {
   "cell_type": "code",
   "execution_count": 61,
   "metadata": {},
   "outputs": [
    {
     "name": "stdout",
     "output_type": "stream",
     "text": [
      "[{'collaborative': False, 'description': '', 'external_urls': {'spotify': 'https://open.spotify.com/playlist/01bawF2DM0YzefGbC54Ua1'}, 'href': 'https://api.spotify.com/v1/playlists/01bawF2DM0YzefGbC54Ua1', 'id': '01bawF2DM0YzefGbC54Ua1', 'images': [{'height': None, 'url': 'https://i.scdn.co/image/ab67706c0000bebb80c823de1e04b1fe7f2073ce', 'width': None}], 'name': 'la playlist que escucha fernando simón', 'owner': {'display_name': 'mikenuggets', 'external_urls': {'spotify': 'https://open.spotify.com/user/079077tae8iz2j9qk6431p9s2'}, 'href': 'https://api.spotify.com/v1/users/079077tae8iz2j9qk6431p9s2', 'id': '079077tae8iz2j9qk6431p9s2', 'type': 'user', 'uri': 'spotify:user:079077tae8iz2j9qk6431p9s2'}, 'primary_color': None, 'public': None, 'snapshot_id': 'Mjc0LGVlNGQ1YTY3YWIzNGZmMjhiYzBiYzcxM2MxZDBkZWY4YzBjNDhlNmU=', 'tracks': {'href': 'https://api.spotify.com/v1/playlists/01bawF2DM0YzefGbC54Ua1/tracks', 'total': 271}, 'type': 'playlist', 'uri': 'spotify:playlist:01bawF2DM0YzefGbC54Ua1'}]\n"
     ]
    }
   ],
   "source": [
    "# Creamos un script ya completo para buscar las palabras y sacar solo el total de listas que contiene esta palabra en alguna parte de su información\n",
    "for word in [\"fernando simón\"]:\n",
    "    print(sp.search('q=\"{}\"'.format(word), type='playlist')['playlists']['items'])\n",
    "    \n",
    "    "
   ]
  },
  {
   "cell_type": "code",
   "execution_count": 68,
   "metadata": {},
   "outputs": [],
   "source": [
    "# Extracción de las playlist con dichos nombres, domcumentación: https://developer.spotify.com/documentation/web-api/reference/playlists/get-playlist/\n",
    "# \"added_at\":i[\"tracks\"]['items'][0][\"added_at\"]\n",
    "# Función para extrar determinados features de la playlist\n",
    "# ['items'][\"tracks\"]['items'][0][\"added_at\"]\n",
    "def batch_proccess(x,lista):\n",
    "    for i in x['playlists']['items']:\n",
    "        lista.append({\"name\" : i['name'], \"total\":i[\"tracks\"]['total'], 'id':i['id'], \"uri\":i[\"uri\"], \"URL\":i[\"tracks\"]['href']})\n",
    "\n",
    "# Sacar un listado de las playlist, en bloques de 50, que es el máximo que te permite la API\n",
    "list_of_playlists = []\n",
    "for term in [\"covid\",\"cuarentena\",'pandemia','covid19', \"coronavirus\", 'fernando simón']:\n",
    "    for i in range(0,2000, 50):\n",
    "        try:\n",
    "            init_data = sp.search('q=\"{}\"'.format(term), type='playlist', limit=50, offset=i)\n",
    "            batch_proccess(init_data,list_of_playlists)\n",
    "        except:\n",
    "            print(\"Error\")"
   ]
  },
  {
   "cell_type": "code",
   "execution_count": 97,
   "metadata": {},
   "outputs": [
    {
     "data": {
      "text/html": [
       "<div>\n",
       "<style scoped>\n",
       "    .dataframe tbody tr th:only-of-type {\n",
       "        vertical-align: middle;\n",
       "    }\n",
       "\n",
       "    .dataframe tbody tr th {\n",
       "        vertical-align: top;\n",
       "    }\n",
       "\n",
       "    .dataframe thead th {\n",
       "        text-align: right;\n",
       "    }\n",
       "</style>\n",
       "<table border=\"1\" class=\"dataframe\">\n",
       "  <thead>\n",
       "    <tr style=\"text-align: right;\">\n",
       "      <th></th>\n",
       "      <th>name</th>\n",
       "      <th>total</th>\n",
       "      <th>id</th>\n",
       "      <th>uri</th>\n",
       "      <th>URL</th>\n",
       "    </tr>\n",
       "  </thead>\n",
       "  <tbody>\n",
       "    <tr>\n",
       "      <th>0</th>\n",
       "      <td>Calma</td>\n",
       "      <td>151</td>\n",
       "      <td>37i9dQZF1DWY5LGZYBBHHz</td>\n",
       "      <td>spotify:playlist:37i9dQZF1DWY5LGZYBBHHz</td>\n",
       "      <td>https://api.spotify.com/v1/playlists/37i9dQZF1...</td>\n",
       "    </tr>\n",
       "    <tr>\n",
       "      <th>1</th>\n",
       "      <td>quarantine Vibes | Covid 19 |</td>\n",
       "      <td>40</td>\n",
       "      <td>6zjC569rXoYGOLwPUt37WW</td>\n",
       "      <td>spotify:playlist:6zjC569rXoYGOLwPUt37WW</td>\n",
       "      <td>https://api.spotify.com/v1/playlists/6zjC569rX...</td>\n",
       "    </tr>\n",
       "    <tr>\n",
       "      <th>2</th>\n",
       "      <td>COVID-19 Quarantine Party</td>\n",
       "      <td>29</td>\n",
       "      <td>1Tn6OrkJhOYO5u6y16erqB</td>\n",
       "      <td>spotify:playlist:1Tn6OrkJhOYO5u6y16erqB</td>\n",
       "      <td>https://api.spotify.com/v1/playlists/1Tn6OrkJh...</td>\n",
       "    </tr>\n",
       "    <tr>\n",
       "      <th>3</th>\n",
       "      <td>Canciones Mas Virales que el Coronavirus 🦠🎶</td>\n",
       "      <td>100</td>\n",
       "      <td>4Y2h9TZNZersxSYeXujCNu</td>\n",
       "      <td>spotify:playlist:4Y2h9TZNZersxSYeXujCNu</td>\n",
       "      <td>https://api.spotify.com/v1/playlists/4Y2h9TZNZ...</td>\n",
       "    </tr>\n",
       "    <tr>\n",
       "      <th>4</th>\n",
       "      <td>Drunksouls COVID19 quarantine discovery: music...</td>\n",
       "      <td>49</td>\n",
       "      <td>64KUBwKGkUEqIU08HDhJ94</td>\n",
       "      <td>spotify:playlist:64KUBwKGkUEqIU08HDhJ94</td>\n",
       "      <td>https://api.spotify.com/v1/playlists/64KUBwKGk...</td>\n",
       "    </tr>\n",
       "    <tr>\n",
       "      <th>...</th>\n",
       "      <td>...</td>\n",
       "      <td>...</td>\n",
       "      <td>...</td>\n",
       "      <td>...</td>\n",
       "      <td>...</td>\n",
       "    </tr>\n",
       "    <tr>\n",
       "      <th>5577</th>\n",
       "      <td>My Playlist 3.5</td>\n",
       "      <td>42</td>\n",
       "      <td>2FykDxR75paDjs4cYDWAZX</td>\n",
       "      <td>spotify:playlist:2FykDxR75paDjs4cYDWAZX</td>\n",
       "      <td>https://api.spotify.com/v1/playlists/2FykDxR75...</td>\n",
       "    </tr>\n",
       "    <tr>\n",
       "      <th>5578</th>\n",
       "      <td>nCov-2019</td>\n",
       "      <td>43</td>\n",
       "      <td>3cqPni9PbXLE7WukiRN9Rc</td>\n",
       "      <td>spotify:playlist:3cqPni9PbXLE7WukiRN9Rc</td>\n",
       "      <td>https://api.spotify.com/v1/playlists/3cqPni9Pb...</td>\n",
       "    </tr>\n",
       "    <tr>\n",
       "      <th>5579</th>\n",
       "      <td>FS Corona-voidance Jams</td>\n",
       "      <td>13</td>\n",
       "      <td>4AntDyOlereHExywYCgZ1j</td>\n",
       "      <td>spotify:playlist:4AntDyOlereHExywYCgZ1j</td>\n",
       "      <td>https://api.spotify.com/v1/playlists/4AntDyOle...</td>\n",
       "    </tr>\n",
       "    <tr>\n",
       "      <th>5580</th>\n",
       "      <td>Isolamento com Ashton</td>\n",
       "      <td>11</td>\n",
       "      <td>2L41j2odRvSvBZnH4AZcdV</td>\n",
       "      <td>spotify:playlist:2L41j2odRvSvBZnH4AZcdV</td>\n",
       "      <td>https://api.spotify.com/v1/playlists/2L41j2odR...</td>\n",
       "    </tr>\n",
       "    <tr>\n",
       "      <th>5581</th>\n",
       "      <td>la playlist que escucha fernando simón</td>\n",
       "      <td>271</td>\n",
       "      <td>01bawF2DM0YzefGbC54Ua1</td>\n",
       "      <td>spotify:playlist:01bawF2DM0YzefGbC54Ua1</td>\n",
       "      <td>https://api.spotify.com/v1/playlists/01bawF2DM...</td>\n",
       "    </tr>\n",
       "  </tbody>\n",
       "</table>\n",
       "<p>5582 rows × 5 columns</p>\n",
       "</div>"
      ],
      "text/plain": [
       "                                                   name  total  \\\n",
       "0                                                 Calma    151   \n",
       "1                         quarantine Vibes | Covid 19 |     40   \n",
       "2                             COVID-19 Quarantine Party     29   \n",
       "3           Canciones Mas Virales que el Coronavirus 🦠🎶    100   \n",
       "4     Drunksouls COVID19 quarantine discovery: music...     49   \n",
       "...                                                 ...    ...   \n",
       "5577                                    My Playlist 3.5     42   \n",
       "5578                                          nCov-2019     43   \n",
       "5579                            FS Corona-voidance Jams     13   \n",
       "5580                              Isolamento com Ashton     11   \n",
       "5581             la playlist que escucha fernando simón    271   \n",
       "\n",
       "                          id                                      uri  \\\n",
       "0     37i9dQZF1DWY5LGZYBBHHz  spotify:playlist:37i9dQZF1DWY5LGZYBBHHz   \n",
       "1     6zjC569rXoYGOLwPUt37WW  spotify:playlist:6zjC569rXoYGOLwPUt37WW   \n",
       "2     1Tn6OrkJhOYO5u6y16erqB  spotify:playlist:1Tn6OrkJhOYO5u6y16erqB   \n",
       "3     4Y2h9TZNZersxSYeXujCNu  spotify:playlist:4Y2h9TZNZersxSYeXujCNu   \n",
       "4     64KUBwKGkUEqIU08HDhJ94  spotify:playlist:64KUBwKGkUEqIU08HDhJ94   \n",
       "...                      ...                                      ...   \n",
       "5577  2FykDxR75paDjs4cYDWAZX  spotify:playlist:2FykDxR75paDjs4cYDWAZX   \n",
       "5578  3cqPni9PbXLE7WukiRN9Rc  spotify:playlist:3cqPni9PbXLE7WukiRN9Rc   \n",
       "5579  4AntDyOlereHExywYCgZ1j  spotify:playlist:4AntDyOlereHExywYCgZ1j   \n",
       "5580  2L41j2odRvSvBZnH4AZcdV  spotify:playlist:2L41j2odRvSvBZnH4AZcdV   \n",
       "5581  01bawF2DM0YzefGbC54Ua1  spotify:playlist:01bawF2DM0YzefGbC54Ua1   \n",
       "\n",
       "                                                    URL  \n",
       "0     https://api.spotify.com/v1/playlists/37i9dQZF1...  \n",
       "1     https://api.spotify.com/v1/playlists/6zjC569rX...  \n",
       "2     https://api.spotify.com/v1/playlists/1Tn6OrkJh...  \n",
       "3     https://api.spotify.com/v1/playlists/4Y2h9TZNZ...  \n",
       "4     https://api.spotify.com/v1/playlists/64KUBwKGk...  \n",
       "...                                                 ...  \n",
       "5577  https://api.spotify.com/v1/playlists/2FykDxR75...  \n",
       "5578  https://api.spotify.com/v1/playlists/3cqPni9Pb...  \n",
       "5579  https://api.spotify.com/v1/playlists/4AntDyOle...  \n",
       "5580  https://api.spotify.com/v1/playlists/2L41j2odR...  \n",
       "5581  https://api.spotify.com/v1/playlists/01bawF2DM...  \n",
       "\n",
       "[5582 rows x 5 columns]"
      ]
     },
     "execution_count": 97,
     "metadata": {},
     "output_type": "execute_result"
    }
   ],
   "source": [
    "playlists = pd.DataFrame(list_of_playlists).drop_duplicates().reset_index(drop=True)\n",
    "playlists"
   ]
  },
  {
   "cell_type": "code",
   "execution_count": null,
   "metadata": {
    "jupyter": {
     "source_hidden": true
    }
   },
   "outputs": [],
   "source": [
    "'''# Loop para sacar features de todas las canciones de una lista\n",
    "# OJO, tarda bastante dependendo del número de canciones, por lo que antes hago un testeo\n",
    "import time\n",
    "list_toextract = test_list\n",
    "\n",
    "tracks = []\n",
    "\n",
    "Time1 = datetime.now()\n",
    "\n",
    "\n",
    "for i in range(len(list_toextract)):\n",
    "    time.sleep(.5)\n",
    "    track = getTrackFeatures(list_toextract[i])\n",
    "    tracks.append(track)\n",
    "    \n",
    "Time2 = datetime.now()\n",
    "\n",
    "\n",
    "Time1_v = datetime.now()\n",
    "\n",
    "for i in range(len(list_toextract)):\n",
    "    # time.sleep(.5)\n",
    "    track = getTrackFeatures(list_toextract[i])\n",
    "    tracks.append(track)\n",
    "    \n",
    "Time2_v = datetime.now()\n",
    "\n",
    "print(\"Tiempo 1:\", Time2 -Time1)\n",
    "print(\"Tiempo 2:\", Time2_v -Time1_v)\n",
    "'''"
   ]
  },
  {
   "cell_type": "code",
   "execution_count": 70,
   "metadata": {},
   "outputs": [],
   "source": [
    "# Sacar las canciones de las listas\n",
    "songs = []\n",
    "for uri in playlists['uri']:\n",
    "\n",
    "        lenght = sp.playlist_tracks(uri)['total']\n",
    "        for i in range(0,lenght, 50):\n",
    "            init_data = sp.playlist_tracks(uri, limit=50, offset=i)\n",
    "            try:\n",
    "                for k in init_data['items']:\n",
    "                    songs.append(k['track'][\"uri\"])\n",
    "            except:\n",
    "                pass"
   ]
  },
  {
   "cell_type": "code",
   "execution_count": 98,
   "metadata": {},
   "outputs": [
    {
     "data": {
      "text/plain": [
       "635501"
      ]
     },
     "execution_count": 98,
     "metadata": {},
     "output_type": "execute_result"
    }
   ],
   "source": [
    "len(songs)"
   ]
  },
  {
   "cell_type": "code",
   "execution_count": 100,
   "metadata": {},
   "outputs": [
    {
     "data": {
      "text/html": [
       "<div>\n",
       "<style scoped>\n",
       "    .dataframe tbody tr th:only-of-type {\n",
       "        vertical-align: middle;\n",
       "    }\n",
       "\n",
       "    .dataframe tbody tr th {\n",
       "        vertical-align: top;\n",
       "    }\n",
       "\n",
       "    .dataframe thead th {\n",
       "        text-align: right;\n",
       "    }\n",
       "</style>\n",
       "<table border=\"1\" class=\"dataframe\">\n",
       "  <thead>\n",
       "    <tr style=\"text-align: right;\">\n",
       "      <th></th>\n",
       "      <th>uri</th>\n",
       "      <th>count</th>\n",
       "    </tr>\n",
       "  </thead>\n",
       "  <tbody>\n",
       "    <tr>\n",
       "      <th>735</th>\n",
       "      <td>spotify:track:2DEZmgHKAvm41k4J3R2E9Y</td>\n",
       "      <td>563</td>\n",
       "    </tr>\n",
       "    <tr>\n",
       "      <th>315</th>\n",
       "      <td>spotify:track:0SqqAgdovOE24BzxIClpjw</td>\n",
       "      <td>514</td>\n",
       "    </tr>\n",
       "    <tr>\n",
       "      <th>759</th>\n",
       "      <td>spotify:track:7k4t7uLgtOxPwTpFmtJNTY</td>\n",
       "      <td>420</td>\n",
       "    </tr>\n",
       "    <tr>\n",
       "      <th>193</th>\n",
       "      <td>spotify:track:6I9VzXrHxO9rA9A5euc8Ak</td>\n",
       "      <td>373</td>\n",
       "    </tr>\n",
       "    <tr>\n",
       "      <th>2241</th>\n",
       "      <td>spotify:track:0VjIjW4GlUZAMYd2vXMi3b</td>\n",
       "      <td>373</td>\n",
       "    </tr>\n",
       "    <tr>\n",
       "      <th>...</th>\n",
       "      <td>...</td>\n",
       "      <td>...</td>\n",
       "    </tr>\n",
       "    <tr>\n",
       "      <th>117517</th>\n",
       "      <td>spotify:track:0ZdSPHnoFUAE1tck8oxSyJ</td>\n",
       "      <td>1</td>\n",
       "    </tr>\n",
       "    <tr>\n",
       "      <th>117518</th>\n",
       "      <td>spotify:track:3iua7Qv6SauKb6AIRErIDE</td>\n",
       "      <td>1</td>\n",
       "    </tr>\n",
       "    <tr>\n",
       "      <th>117519</th>\n",
       "      <td>spotify:track:2yTTVFwrD7a4liRK2bvflX</td>\n",
       "      <td>1</td>\n",
       "    </tr>\n",
       "    <tr>\n",
       "      <th>117520</th>\n",
       "      <td>spotify:track:2BsUnm9Hsy92ESAeOtzXtl</td>\n",
       "      <td>1</td>\n",
       "    </tr>\n",
       "    <tr>\n",
       "      <th>261774</th>\n",
       "      <td>spotify:track:4V9HEnprK5MfCGL8bHHy7y</td>\n",
       "      <td>1</td>\n",
       "    </tr>\n",
       "  </tbody>\n",
       "</table>\n",
       "<p>261775 rows × 2 columns</p>\n",
       "</div>"
      ],
      "text/plain": [
       "                                         uri  count\n",
       "735     spotify:track:2DEZmgHKAvm41k4J3R2E9Y    563\n",
       "315     spotify:track:0SqqAgdovOE24BzxIClpjw    514\n",
       "759     spotify:track:7k4t7uLgtOxPwTpFmtJNTY    420\n",
       "193     spotify:track:6I9VzXrHxO9rA9A5euc8Ak    373\n",
       "2241    spotify:track:0VjIjW4GlUZAMYd2vXMi3b    373\n",
       "...                                      ...    ...\n",
       "117517  spotify:track:0ZdSPHnoFUAE1tck8oxSyJ      1\n",
       "117518  spotify:track:3iua7Qv6SauKb6AIRErIDE      1\n",
       "117519  spotify:track:2yTTVFwrD7a4liRK2bvflX      1\n",
       "117520  spotify:track:2BsUnm9Hsy92ESAeOtzXtl      1\n",
       "261774  spotify:track:4V9HEnprK5MfCGL8bHHy7y      1\n",
       "\n",
       "[261775 rows x 2 columns]"
      ]
     },
     "execution_count": 100,
     "metadata": {},
     "output_type": "execute_result"
    }
   ],
   "source": [
    "from collections import Counter\n",
    "data_playlist_songs = pd.DataFrame.from_dict(Counter(songs), orient='index').reset_index().rename(columns={\"index\":\"uri\", 0:\"count\"})\n",
    "data_playlist_songs.sort_values(by=['count'], ascending=False)"
   ]
  },
  {
   "cell_type": "code",
   "execution_count": 105,
   "metadata": {},
   "outputs": [
    {
     "data": {
      "text/html": [
       "<div>\n",
       "<style scoped>\n",
       "    .dataframe tbody tr th:only-of-type {\n",
       "        vertical-align: middle;\n",
       "    }\n",
       "\n",
       "    .dataframe tbody tr th {\n",
       "        vertical-align: top;\n",
       "    }\n",
       "\n",
       "    .dataframe thead th {\n",
       "        text-align: right;\n",
       "    }\n",
       "</style>\n",
       "<table border=\"1\" class=\"dataframe\">\n",
       "  <thead>\n",
       "    <tr style=\"text-align: right;\">\n",
       "      <th></th>\n",
       "      <th>count</th>\n",
       "    </tr>\n",
       "  </thead>\n",
       "  <tbody>\n",
       "    <tr>\n",
       "      <th>count</th>\n",
       "      <td>9187.000000</td>\n",
       "    </tr>\n",
       "    <tr>\n",
       "      <th>mean</th>\n",
       "      <td>25.166322</td>\n",
       "    </tr>\n",
       "    <tr>\n",
       "      <th>std</th>\n",
       "      <td>29.246190</td>\n",
       "    </tr>\n",
       "    <tr>\n",
       "      <th>min</th>\n",
       "      <td>10.000000</td>\n",
       "    </tr>\n",
       "    <tr>\n",
       "      <th>25%</th>\n",
       "      <td>12.000000</td>\n",
       "    </tr>\n",
       "    <tr>\n",
       "      <th>50%</th>\n",
       "      <td>16.000000</td>\n",
       "    </tr>\n",
       "    <tr>\n",
       "      <th>75%</th>\n",
       "      <td>26.000000</td>\n",
       "    </tr>\n",
       "    <tr>\n",
       "      <th>max</th>\n",
       "      <td>563.000000</td>\n",
       "    </tr>\n",
       "  </tbody>\n",
       "</table>\n",
       "</div>"
      ],
      "text/plain": [
       "             count\n",
       "count  9187.000000\n",
       "mean     25.166322\n",
       "std      29.246190\n",
       "min      10.000000\n",
       "25%      12.000000\n",
       "50%      16.000000\n",
       "75%      26.000000\n",
       "max     563.000000"
      ]
     },
     "execution_count": 105,
     "metadata": {},
     "output_type": "execute_result"
    }
   ],
   "source": [
    "# Ver cuántas canciones hay en el dataframe que se repiten más de 9 veces \n",
    "data_playlist_songs[(data_playlist_songs['count']>9) & (data_playlist_songs['count']<900)].describe()"
   ]
  },
  {
   "cell_type": "code",
   "execution_count": 108,
   "metadata": {},
   "outputs": [],
   "source": [
    "def data_enrich(x):\n",
    "    \n",
    "    data = sp.track(x['uri'])\n",
    "\n",
    "    name = data['name']\n",
    "    pop = data['popularity']\n",
    "    date = data['album']['release_date']\n",
    "\n",
    "    features = sp.audio_features(x['uri'])\n",
    "\n",
    "\n",
    "\n",
    "    return {**x, \"name\" : name, 'release_date': date, \"popularity\" : pop,\n",
    "            'explicit' : data['explicit'] , **features[0] }"
   ]
  },
  {
   "cell_type": "code",
   "execution_count": null,
   "metadata": {},
   "outputs": [],
   "source": [
    "data_playlist_songs_final = data_playlist_songs.apply(lambda x : data_enrich(x) , axis=1, result_type=\"expand\")"
   ]
  },
  {
   "cell_type": "code",
   "execution_count": null,
   "metadata": {},
   "outputs": [],
   "source": [
    "data_playlist_songs_final = data_playlist_songs_final.drop(columns=['id','track_href','analysis_url','time_signature','type'])\n",
    "data_playlist_songs_final "
   ]
  },
  {
   "cell_type": "code",
   "execution_count": null,
   "metadata": {},
   "outputs": [],
   "source": []
  }
 ],
 "metadata": {
  "kernelspec": {
   "display_name": "Python 3",
   "language": "python",
   "name": "python3"
  },
  "language_info": {
   "codemirror_mode": {
    "name": "ipython",
    "version": 3
   },
   "file_extension": ".py",
   "mimetype": "text/x-python",
   "name": "python",
   "nbconvert_exporter": "python",
   "pygments_lexer": "ipython3",
   "version": "3.8.3"
  }
 },
 "nbformat": 4,
 "nbformat_minor": 4
}
