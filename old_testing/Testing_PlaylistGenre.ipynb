{
 "cells": [
  {
   "cell_type": "markdown",
   "metadata": {
    "colab_type": "text",
    "id": "ws2A3v9MbfTO"
   },
   "source": [
    "## Testing playlist genre"
   ]
  },
  {
   "cell_type": "code",
   "execution_count": null,
   "metadata": {},
   "outputs": [],
   "source": [
    "# IMPORTANTE!!! Esta celda tarda en ejecutarse mucho tiempo\n",
    "\n",
    "# Selecciono la lista final a extraer completa\n",
    "list_toextract_artist = test_list_artist\n",
    "\n",
    "# Función para extraerlos, en lotes de 50 porque es el máximo que te deja la API de Spotify\n",
    "def extract_artist(artist_list):\n",
    "    count_artist= 0\n",
    "    data = ['test11111111', 'tes111111', 'test111111', 0, 0]\n",
    "    df_final = pd.DataFrame([data], columns=[\"id\", \"name\", \"genres\", 'followers', 'popularity'])\n",
    "    \n",
    "    API_LIMIT = 50\n",
    "    search_list = []\n",
    "\n",
    "    for artist in artist_list:\n",
    "        count_artist += 1\n",
    "        search_results = sp.search(q = 'artist:\"{}\"'.format(artist), type=\"artist\",  limit=API_LIMIT)\n",
    "        \n",
    "        count_oneartist= 0 # Se añade un contador par quedarnos sólo con la primera búsqueda que he comprobado que siempre es la buena.\n",
    "        for t in search_results['artists']['items']:\n",
    "            count_oneartist += 1\n",
    "            if count_oneartist ==2:\n",
    "                break\n",
    "            else:\n",
    "                search_list += [[t[\"id\"], t[\"name\"], t[\"genres\"], t['followers']['total'], t['popularity']]]\n",
    "        \n",
    "        df_search = pd.DataFrame(search_list, columns=[\"id\", \"name\", \"genres\", 'followers', 'popularity'])\n",
    "        \n",
    "        df_final = df_final.append(df_search) # El problema de esto es que crea duplicados pero no nos afecta en lo que necesitamos\n",
    "    print('Artist count:', count_artist)  \n",
    "    return df_final\n",
    "\n",
    "# Extracción de los datos\n",
    "Time1 = datetime.now()\n",
    "df_genres = extract_artist(list_toextract_artist)\n",
    "Time2 = datetime.now()\n",
    "print(\"Tiempo ejecución:\", Time2 -Time1)\n",
    "\n",
    "print(df_genres.shape)\n",
    "\n",
    "\n",
    "# Tarda en ejecutarse dependiendo del número de artistas, menos de 1 minuto\n",
    "# Creamos una copia de la columna genres para mantenerla y la trasnformo a strings\n",
    "df_genres['genres_together'] = df_genres['genres'].copy()\n",
    "df_genres['genres_together'] = [','.join(i) if isinstance(i, list) else i for i in df_genres['genres_together']]\n",
    "\n",
    "# Como la columna genres es una lista con los diferentes géneros, he preferido separarlo en columnas y mantener ciertas columnas\n",
    "\n",
    "df_genres2 = pd.concat([df_genres['genres'].apply(pd.Series), df_genres[['genres_together',\n",
    "                                                                         'id',\n",
    "                                                                         \"name\",\n",
    "                                                                         'followers',\n",
    "                                                                         'popularity']]], axis = 1)\n",
    "# Quitamos los artistas duplicados\n",
    "df_genres3 = df_genres2.drop_duplicates(df_genres2.columns[~df_genres2.columns.isin(['id'])])\n",
    "\n",
    "#Renombramos columnas\n",
    "df_genres4 = df_genres3.rename(columns={0:'genre1',\n",
    "                   1:'genre2',\n",
    "                   2:'genre3',\n",
    "                   3:'genre4',\n",
    "                   4:'genre5',\n",
    "                   5:'genre6',\n",
    "                   6:'genre7',\n",
    "                   7:'genre8',\n",
    "                   8:'genre9',\n",
    "                   9:'genre10',\n",
    "                   'genres_together':'genres_together',\n",
    "                   'id':'artist_id',\n",
    "                   'name':'artist',\n",
    "                   'followers':'artist_followers',\n",
    "                   'popularity':'artist_popularity'}).copy()\n",
    "print(df_genres4.shape)\n",
    "print(len(df_genres4['artist'].unique()))\n",
    "df_genres4.head(10)"
   ]
  },
  {
   "cell_type": "code",
   "execution_count": null,
   "metadata": {},
   "outputs": [],
   "source": [
    "df_genres4.isnull().sum(axis = 0)"
   ]
  },
  {
   "cell_type": "code",
   "execution_count": null,
   "metadata": {},
   "outputs": [],
   "source": [
    "# Export songs list\n",
    "data_glo = pd.merge(data_features_final, df_genres4, on=['artist'], how='inner')\n",
    "data_glo.head(5)\n",
    "data_glo.to_csv(\"data_ana_playlist_songs.csv\", sep = ',')"
   ]
  },
  {
   "cell_type": "markdown",
   "metadata": {},
   "source": [
    "# Para extraer canciones y artistas\n",
    "\n"
   ]
  },
  {
   "cell_type": "code",
   "execution_count": null,
   "metadata": {},
   "outputs": [],
   "source": [
    "# IMPORTANTE, Tarda alrededor de 30min en sacarlo todo, por eso ejecutamos antes una muestra sólo\n",
    "\n",
    "#FALTA JUNTAR ARTISTAS CON NOMBRES Y VER CÓMO LO JUNTAMOS EN AL DTAFRAME FINAL\n",
    "# Sacar las canciones de las listas para tenerlas todas juntas\n",
    "# Tarda bastante tiempo, alrededor de XX\n",
    "\n",
    "playlists_extract = playlists\n",
    "\n",
    "# Para sacar canciones\n",
    "Time1 = datetime.now()\n",
    "songs = []\n",
    "for uri in playlists_extract['uri']:\n",
    "\n",
    "        lenght = sp.playlist_tracks(uri)['total']\n",
    "        for i in range(0,lenght, 50):\n",
    "            init_data = sp.playlist_tracks(uri, limit=50, offset=i)\n",
    "            try:\n",
    "                for k in init_data['items']:\n",
    "                    songs.append(k['track'][\"id\"])\n",
    "            except:\n",
    "                pass\n",
    "\n",
    "Time2 = datetime.now()\n",
    "print(\"Tiempo ejecución:\", Time2 -Time1)\n",
    "\n",
    "\n",
    "# Para sacar artistas\n",
    "Time1 = datetime.now()\n",
    "artists = []\n",
    "for uri in playlists_sample['uri']:\n",
    "\n",
    "        lenght = sp.playlist_tracks(uri)['total']\n",
    "        for i in range(0,lenght, 50):\n",
    "            init_data = sp.playlist_tracks(uri, limit=50, offset=i)\n",
    "            try:\n",
    "                for k in init_data['items']:\n",
    "                    artists.append(k['track']['artists'][0]['name'])\n",
    "            except:\n",
    "                pass\n",
    "\n",
    "Time2 = datetime.now()\n",
    "print(\"Tiempo ejecución:\", Time2 -Time1)\n",
    "\n",
    "print(len(songs))"
   ]
  }
 ],
 "metadata": {
  "colab": {
   "collapsed_sections": [],
   "name": "Data_exploring_first.ipynb",
   "provenance": []
  },
  "kernelspec": {
   "display_name": "Python 3",
   "language": "python",
   "name": "python3"
  },
  "language_info": {
   "codemirror_mode": {
    "name": "ipython",
    "version": 3
   },
   "file_extension": ".py",
   "mimetype": "text/x-python",
   "name": "python",
   "nbconvert_exporter": "python",
   "pygments_lexer": "ipython3",
   "version": "3.8.3"
  }
 },
 "nbformat": 4,
 "nbformat_minor": 4
}
