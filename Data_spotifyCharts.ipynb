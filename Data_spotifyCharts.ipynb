{
 "cells": [
  {
   "cell_type": "markdown",
   "metadata": {},
   "source": [
    "## Top200 SpotifyCharts\n"
   ]
  },
  {
   "cell_type": "markdown",
   "metadata": {},
   "source": [
    "Proceso:\n",
    " - Sacar top200 de 2017, 2018, 2019 y 2010\n",
    " - De canciones duplicadas sumar los Streams y unir, quitar duplicados\n",
    " - Juntar Dataframes de años y añadir una nueva columna con el mismo.\n"
   ]
  },
  {
   "cell_type": "markdown",
   "metadata": {},
   "source": [
    "## Preparación"
   ]
  },
  {
   "cell_type": "code",
   "execution_count": 25,
   "metadata": {},
   "outputs": [
    {
     "name": "stdout",
     "output_type": "stream",
     "text": [
      "Días totales seleccionados 2020: 60 days, 0:00:00\n",
      "Días totales seleccionados 2019: 60 days, 0:00:00\n"
     ]
    }
   ],
   "source": [
    "# Help: https://github.com/kelvingakuo/fycharts#in\n",
    "#! pip install fycharts\n",
    "\n",
    "import os\n",
    "import numpy as np\n",
    "import pandas as pd\n",
    "import matplotlib.pyplot as plt\n",
    "import seaborn as sns\n",
    "from datetime import datetime, timedelta\n",
    "from datetime import date\n",
    "\n",
    "#Fechas 2020\n",
    "fecha_fin_2020 = '2020-05-13' # Empieza a levantarse restricciones de salida\n",
    "fecha_inicial_2020 = '2020-03-14' #14 Marzo se decreta el estado de alarma, con 5753 casos y 136 fallecidos\n",
    "fecha_fin2_2020 = datetime.strptime(fecha_fin_2020, '%Y-%m-%d')\n",
    "fecha_inicial2_2020 = datetime.strptime(fecha_inicial_2020, '%Y-%m-%d')\n",
    "\n",
    "#Fechas 2019\n",
    "fecha_fin_2019 = '2019-05-13'\n",
    "fecha_inicial_2019 = '2019-03-14'\n",
    "fecha_fin2_2019 = datetime.strptime(fecha_fin_2019, '%Y-%m-%d')\n",
    "fecha_inicial2_2019 = datetime.strptime(fecha_inicial_2019, '%Y-%m-%d')\n",
    "\n",
    "print('Días totales seleccionados 2020:', fecha_fin2_2020 - fecha_inicial2_2020)\n",
    "print('Días totales seleccionados 2019:', fecha_fin2_2019 - fecha_inicial2_2019)"
   ]
  },
  {
   "cell_type": "code",
   "execution_count": 26,
   "metadata": {},
   "outputs": [
    {
     "data": {
      "text/plain": [
       "'\\n# Descarga año 2020\\nfrom fycharts.SpotifyCharts import SpotifyCharts\\nimport sqlalchemy\\n\\napi = SpotifyCharts()\\nconnector = sqlalchemy.create_engine(\"sqlite:///spotifycharts_2020.db\", echo=False)\\napi.top200Daily(output_file = \"top_200_daily_2020.csv\", output_db = connector, webhook = \"https://mywebhookssite.com/post/\", \\n                start = fecha_inicial_2020, end = fecha_fin_2020, region = [\"es\"])\\n\\n\\n# Descarga año 2019\\nfrom fycharts.SpotifyCharts import SpotifyCharts\\nimport sqlalchemy\\n\\napi = SpotifyCharts()\\nconnector = sqlalchemy.create_engine(\"sqlite:///spotifycharts_2019.db\", echo=False)\\napi.top200Daily(output_file = \"top_200_daily_2019.csv\", output_db = connector, webhook = \"https://mywebhookssite.com/post/\", \\n                start = fecha_inicial_2019, end = fecha_fin_2019, region = [\"es\"])\\n'"
      ]
     },
     "execution_count": 26,
     "metadata": {},
     "output_type": "execute_result"
    }
   ],
   "source": [
    "# ¡IMPORTANTE! Ejecutar una única vez para descargar los datos, configurado para España\n",
    "'''\n",
    "# Descarga año 2020\n",
    "from fycharts.SpotifyCharts import SpotifyCharts\n",
    "import sqlalchemy\n",
    "\n",
    "api = SpotifyCharts()\n",
    "connector = sqlalchemy.create_engine(\"sqlite:///spotifycharts_2020.db\", echo=False)\n",
    "api.top200Daily(output_file = \"top_200_daily_2020.csv\", output_db = connector, webhook = \"https://mywebhookssite.com/post/\", \n",
    "                start = fecha_inicial_2020, end = fecha_fin_2020, region = [\"es\"])\n",
    "\n",
    "\n",
    "# Descarga año 2019\n",
    "from fycharts.SpotifyCharts import SpotifyCharts\n",
    "import sqlalchemy\n",
    "\n",
    "api = SpotifyCharts()\n",
    "connector = sqlalchemy.create_engine(\"sqlite:///spotifycharts_2019.db\", echo=False)\n",
    "api.top200Daily(output_file = \"top_200_daily_2019.csv\", output_db = connector, webhook = \"https://mywebhookssite.com/post/\", \n",
    "                start = fecha_inicial_2019, end = fecha_fin_2019, region = [\"es\"])\n",
    "'''"
   ]
  },
  {
   "cell_type": "markdown",
   "metadata": {},
   "source": [
    "## Importar la tabla"
   ]
  },
  {
   "cell_type": "code",
   "execution_count": 27,
   "metadata": {},
   "outputs": [
    {
     "name": "stdout",
     "output_type": "stream",
     "text": [
      "Position      0\n",
      "Track Name    0\n",
      "Artist        0\n",
      "Streams       0\n",
      "date          0\n",
      "region        0\n",
      "spotify_id    0\n",
      "dtype: int64\n",
      "2020: (12200, 7)\n",
      "2019: (12200, 7)\n"
     ]
    },
    {
     "data": {
      "text/html": [
       "<div>\n",
       "<style scoped>\n",
       "    .dataframe tbody tr th:only-of-type {\n",
       "        vertical-align: middle;\n",
       "    }\n",
       "\n",
       "    .dataframe tbody tr th {\n",
       "        vertical-align: top;\n",
       "    }\n",
       "\n",
       "    .dataframe thead th {\n",
       "        text-align: right;\n",
       "    }\n",
       "</style>\n",
       "<table border=\"1\" class=\"dataframe\">\n",
       "  <thead>\n",
       "    <tr style=\"text-align: right;\">\n",
       "      <th></th>\n",
       "      <th>Position</th>\n",
       "      <th>Track Name</th>\n",
       "      <th>Artist</th>\n",
       "      <th>Streams</th>\n",
       "      <th>date</th>\n",
       "      <th>region</th>\n",
       "      <th>spotify_id</th>\n",
       "    </tr>\n",
       "  </thead>\n",
       "  <tbody>\n",
       "    <tr>\n",
       "      <th>0</th>\n",
       "      <td>1</td>\n",
       "      <td>Tusa</td>\n",
       "      <td>KAROL G</td>\n",
       "      <td>446086</td>\n",
       "      <td>2020-03-14</td>\n",
       "      <td>es</td>\n",
       "      <td>7k4t7uLgtOxPwTpFmtJNTY</td>\n",
       "    </tr>\n",
       "    <tr>\n",
       "      <th>1</th>\n",
       "      <td>2</td>\n",
       "      <td>La Difícil</td>\n",
       "      <td>Bad Bunny</td>\n",
       "      <td>399788</td>\n",
       "      <td>2020-03-14</td>\n",
       "      <td>es</td>\n",
       "      <td>6NfrH0ANGmgBXyxgV2PeXt</td>\n",
       "    </tr>\n",
       "    <tr>\n",
       "      <th>2</th>\n",
       "      <td>3</td>\n",
       "      <td>Tattoo</td>\n",
       "      <td>Rauw Alejandro</td>\n",
       "      <td>380503</td>\n",
       "      <td>2020-03-14</td>\n",
       "      <td>es</td>\n",
       "      <td>7na7Bk98usp84FaOJFPv3d</td>\n",
       "    </tr>\n",
       "    <tr>\n",
       "      <th>3</th>\n",
       "      <td>4</td>\n",
       "      <td>Diosa</td>\n",
       "      <td>Myke Towers</td>\n",
       "      <td>336910</td>\n",
       "      <td>2020-03-14</td>\n",
       "      <td>es</td>\n",
       "      <td>3JHpk0DOTOzyh0777JFAky</td>\n",
       "    </tr>\n",
       "    <tr>\n",
       "      <th>4</th>\n",
       "      <td>5</td>\n",
       "      <td>Rojo</td>\n",
       "      <td>J Balvin</td>\n",
       "      <td>327388</td>\n",
       "      <td>2020-03-14</td>\n",
       "      <td>es</td>\n",
       "      <td>4uziEsK1yiqdauKVDPsmVG</td>\n",
       "    </tr>\n",
       "  </tbody>\n",
       "</table>\n",
       "</div>"
      ],
      "text/plain": [
       "   Position  Track Name          Artist  Streams        date region  \\\n",
       "0         1        Tusa         KAROL G   446086  2020-03-14     es   \n",
       "1         2  La Difícil       Bad Bunny   399788  2020-03-14     es   \n",
       "2         3      Tattoo  Rauw Alejandro   380503  2020-03-14     es   \n",
       "3         4       Diosa     Myke Towers   336910  2020-03-14     es   \n",
       "4         5        Rojo        J Balvin   327388  2020-03-14     es   \n",
       "\n",
       "               spotify_id  \n",
       "0  7k4t7uLgtOxPwTpFmtJNTY  \n",
       "1  6NfrH0ANGmgBXyxgV2PeXt  \n",
       "2  7na7Bk98usp84FaOJFPv3d  \n",
       "3  3JHpk0DOTOzyh0777JFAky  \n",
       "4  4uziEsK1yiqdauKVDPsmVG  "
      ]
     },
     "execution_count": 27,
     "metadata": {},
     "output_type": "execute_result"
    }
   ],
   "source": [
    "# Importamos la tabla con los datos y miramos a ver qué tal están\n",
    "data_top200_2020= pd.read_csv(\"top_200_daily_2020.csv\")\n",
    "data_top200_2019= pd.read_csv(\"top_200_daily_2019.csv\")\n",
    "print(data_top200_2020.isnull().sum())\n",
    "print('2020:', data_top200_2020.shape)\n",
    "print('2019:',data_top200_2019.shape)\n",
    "data_top200_2020.head()"
   ]
  },
  {
   "cell_type": "code",
   "execution_count": 28,
   "metadata": {},
   "outputs": [
    {
     "name": "stdout",
     "output_type": "stream",
     "text": [
      "Position               int64\n",
      "Track Name            object\n",
      "Artist                object\n",
      "Streams                int64\n",
      "date          datetime64[ns]\n",
      "spotify_id            object\n",
      "year                   int64\n",
      "dtype: object\n",
      "Position        200\n",
      "Track Name      738\n",
      "Artist          297\n",
      "Streams       20942\n",
      "date            122\n",
      "spotify_id      807\n",
      "year              2\n",
      "dtype: int64\n",
      "(24400, 7)\n"
     ]
    }
   ],
   "source": [
    "# Importamos con las columnas que nos interesan\n",
    "data_top200_2020 = pd.read_csv(\"top_200_daily_2020.csv\", parse_dates= [\"date\"], usecols=['Position','Track Name', 'Artist', 'date', 'Streams', 'date', 'spotify_id'])\n",
    "data_top200_2019 = pd.read_csv(\"top_200_daily_2019.csv\", parse_dates= [\"date\"], usecols=['Position','Track Name', 'Artist', 'date', 'Streams', 'date', 'spotify_id'])\n",
    "#Meto el año en nueva columnas columnas\n",
    "data_top200_2020['year'] = pd.DatetimeIndex(data_top200_2020['date']).year\n",
    "data_top200_2019['year'] = pd.DatetimeIndex(data_top200_2019['date']).year\n",
    "\n",
    "#Concateno los datos de los dos años\n",
    "data_top200 = pd.concat([data_top200_2020, data_top200_2019], axis=0,)\n",
    "\n",
    "print(data_top200.dtypes)\n",
    "print(data_top200.nunique()) # Ojo, debería haber el mismo número de Track Names y spotify ID!!\n",
    "print(data_top200.shape)"
   ]
  },
  {
   "cell_type": "code",
   "execution_count": 29,
   "metadata": {},
   "outputs": [
    {
     "data": {
      "text/html": [
       "<div>\n",
       "<style scoped>\n",
       "    .dataframe tbody tr th:only-of-type {\n",
       "        vertical-align: middle;\n",
       "    }\n",
       "\n",
       "    .dataframe tbody tr th {\n",
       "        vertical-align: top;\n",
       "    }\n",
       "\n",
       "    .dataframe thead th {\n",
       "        text-align: right;\n",
       "    }\n",
       "</style>\n",
       "<table border=\"1\" class=\"dataframe\">\n",
       "  <thead>\n",
       "    <tr style=\"text-align: right;\">\n",
       "      <th></th>\n",
       "      <th>Position</th>\n",
       "      <th>Track Name</th>\n",
       "      <th>Artist</th>\n",
       "      <th>Streams</th>\n",
       "      <th>date</th>\n",
       "      <th>spotify_id</th>\n",
       "      <th>year</th>\n",
       "    </tr>\n",
       "  </thead>\n",
       "  <tbody>\n",
       "    <tr>\n",
       "      <th>1</th>\n",
       "      <td>2</td>\n",
       "      <td>La Difícil</td>\n",
       "      <td>Bad Bunny</td>\n",
       "      <td>399788</td>\n",
       "      <td>2020-03-14</td>\n",
       "      <td>6NfrH0ANGmgBXyxgV2PeXt</td>\n",
       "      <td>2020</td>\n",
       "    </tr>\n",
       "    <tr>\n",
       "      <th>201</th>\n",
       "      <td>2</td>\n",
       "      <td>La Difícil</td>\n",
       "      <td>Bad Bunny</td>\n",
       "      <td>372705</td>\n",
       "      <td>2020-03-15</td>\n",
       "      <td>6NfrH0ANGmgBXyxgV2PeXt</td>\n",
       "      <td>2020</td>\n",
       "    </tr>\n",
       "    <tr>\n",
       "      <th>401</th>\n",
       "      <td>2</td>\n",
       "      <td>La Difícil</td>\n",
       "      <td>Bad Bunny</td>\n",
       "      <td>389384</td>\n",
       "      <td>2020-03-16</td>\n",
       "      <td>6NfrH0ANGmgBXyxgV2PeXt</td>\n",
       "      <td>2020</td>\n",
       "    </tr>\n",
       "    <tr>\n",
       "      <th>601</th>\n",
       "      <td>2</td>\n",
       "      <td>La Difícil</td>\n",
       "      <td>Bad Bunny</td>\n",
       "      <td>390067</td>\n",
       "      <td>2020-03-17</td>\n",
       "      <td>6NfrH0ANGmgBXyxgV2PeXt</td>\n",
       "      <td>2020</td>\n",
       "    </tr>\n",
       "    <tr>\n",
       "      <th>801</th>\n",
       "      <td>2</td>\n",
       "      <td>La Difícil</td>\n",
       "      <td>Bad Bunny</td>\n",
       "      <td>392738</td>\n",
       "      <td>2020-03-18</td>\n",
       "      <td>6NfrH0ANGmgBXyxgV2PeXt</td>\n",
       "      <td>2020</td>\n",
       "    </tr>\n",
       "    <tr>\n",
       "      <th>...</th>\n",
       "      <td>...</td>\n",
       "      <td>...</td>\n",
       "      <td>...</td>\n",
       "      <td>...</td>\n",
       "      <td>...</td>\n",
       "      <td>...</td>\n",
       "      <td>...</td>\n",
       "    </tr>\n",
       "    <tr>\n",
       "      <th>11217</th>\n",
       "      <td>18</td>\n",
       "      <td>La Difícil</td>\n",
       "      <td>Bad Bunny</td>\n",
       "      <td>165292</td>\n",
       "      <td>2020-05-09</td>\n",
       "      <td>6NfrH0ANGmgBXyxgV2PeXt</td>\n",
       "      <td>2020</td>\n",
       "    </tr>\n",
       "    <tr>\n",
       "      <th>11426</th>\n",
       "      <td>27</td>\n",
       "      <td>La Difícil</td>\n",
       "      <td>Bad Bunny</td>\n",
       "      <td>151313</td>\n",
       "      <td>2020-05-10</td>\n",
       "      <td>6NfrH0ANGmgBXyxgV2PeXt</td>\n",
       "      <td>2020</td>\n",
       "    </tr>\n",
       "    <tr>\n",
       "      <th>11628</th>\n",
       "      <td>29</td>\n",
       "      <td>La Difícil</td>\n",
       "      <td>Bad Bunny</td>\n",
       "      <td>166240</td>\n",
       "      <td>2020-05-11</td>\n",
       "      <td>6NfrH0ANGmgBXyxgV2PeXt</td>\n",
       "      <td>2020</td>\n",
       "    </tr>\n",
       "    <tr>\n",
       "      <th>11828</th>\n",
       "      <td>29</td>\n",
       "      <td>La Difícil</td>\n",
       "      <td>Bad Bunny</td>\n",
       "      <td>143671</td>\n",
       "      <td>2020-05-12</td>\n",
       "      <td>6NfrH0ANGmgBXyxgV2PeXt</td>\n",
       "      <td>2020</td>\n",
       "    </tr>\n",
       "    <tr>\n",
       "      <th>12029</th>\n",
       "      <td>30</td>\n",
       "      <td>La Difícil</td>\n",
       "      <td>Bad Bunny</td>\n",
       "      <td>144698</td>\n",
       "      <td>2020-05-13</td>\n",
       "      <td>6NfrH0ANGmgBXyxgV2PeXt</td>\n",
       "      <td>2020</td>\n",
       "    </tr>\n",
       "  </tbody>\n",
       "</table>\n",
       "<p>61 rows × 7 columns</p>\n",
       "</div>"
      ],
      "text/plain": [
       "       Position  Track Name     Artist  Streams       date  \\\n",
       "1             2  La Difícil  Bad Bunny   399788 2020-03-14   \n",
       "201           2  La Difícil  Bad Bunny   372705 2020-03-15   \n",
       "401           2  La Difícil  Bad Bunny   389384 2020-03-16   \n",
       "601           2  La Difícil  Bad Bunny   390067 2020-03-17   \n",
       "801           2  La Difícil  Bad Bunny   392738 2020-03-18   \n",
       "...         ...         ...        ...      ...        ...   \n",
       "11217        18  La Difícil  Bad Bunny   165292 2020-05-09   \n",
       "11426        27  La Difícil  Bad Bunny   151313 2020-05-10   \n",
       "11628        29  La Difícil  Bad Bunny   166240 2020-05-11   \n",
       "11828        29  La Difícil  Bad Bunny   143671 2020-05-12   \n",
       "12029        30  La Difícil  Bad Bunny   144698 2020-05-13   \n",
       "\n",
       "                   spotify_id  year  \n",
       "1      6NfrH0ANGmgBXyxgV2PeXt  2020  \n",
       "201    6NfrH0ANGmgBXyxgV2PeXt  2020  \n",
       "401    6NfrH0ANGmgBXyxgV2PeXt  2020  \n",
       "601    6NfrH0ANGmgBXyxgV2PeXt  2020  \n",
       "801    6NfrH0ANGmgBXyxgV2PeXt  2020  \n",
       "...                       ...   ...  \n",
       "11217  6NfrH0ANGmgBXyxgV2PeXt  2020  \n",
       "11426  6NfrH0ANGmgBXyxgV2PeXt  2020  \n",
       "11628  6NfrH0ANGmgBXyxgV2PeXt  2020  \n",
       "11828  6NfrH0ANGmgBXyxgV2PeXt  2020  \n",
       "12029  6NfrH0ANGmgBXyxgV2PeXt  2020  \n",
       "\n",
       "[61 rows x 7 columns]"
      ]
     },
     "execution_count": 29,
     "metadata": {},
     "output_type": "execute_result"
    }
   ],
   "source": [
    "data_top200.loc[data_top200['spotify_id'] == '6NfrH0ANGmgBXyxgV2PeXt']"
   ]
  },
  {
   "cell_type": "code",
   "execution_count": 30,
   "metadata": {},
   "outputs": [
    {
     "name": "stdout",
     "output_type": "stream",
     "text": [
      "(807, 2)\n"
     ]
    },
    {
     "data": {
      "text/html": [
       "<div>\n",
       "<style scoped>\n",
       "    .dataframe tbody tr th:only-of-type {\n",
       "        vertical-align: middle;\n",
       "    }\n",
       "\n",
       "    .dataframe tbody tr th {\n",
       "        vertical-align: top;\n",
       "    }\n",
       "\n",
       "    .dataframe thead th {\n",
       "        text-align: right;\n",
       "    }\n",
       "</style>\n",
       "<table border=\"1\" class=\"dataframe\">\n",
       "  <thead>\n",
       "    <tr style=\"text-align: right;\">\n",
       "      <th></th>\n",
       "      <th>spotify_id</th>\n",
       "      <th>Streams</th>\n",
       "    </tr>\n",
       "  </thead>\n",
       "  <tbody>\n",
       "    <tr>\n",
       "      <th>0</th>\n",
       "      <td>00ZBADBKZGwnzGIAA6U9Fb</td>\n",
       "      <td>44107</td>\n",
       "    </tr>\n",
       "    <tr>\n",
       "      <th>1</th>\n",
       "      <td>017PF4Q3l4DBUiWoXk4OWT</td>\n",
       "      <td>2814658</td>\n",
       "    </tr>\n",
       "    <tr>\n",
       "      <th>2</th>\n",
       "      <td>047WmwIeerHyIUstFAEz5A</td>\n",
       "      <td>3060737</td>\n",
       "    </tr>\n",
       "    <tr>\n",
       "      <th>3</th>\n",
       "      <td>04wvWMRKKxK9TGG4IPk32d</td>\n",
       "      <td>90156</td>\n",
       "    </tr>\n",
       "    <tr>\n",
       "      <th>4</th>\n",
       "      <td>059bcIhyc2SBwm6sw2AZzd</td>\n",
       "      <td>6447442</td>\n",
       "    </tr>\n",
       "  </tbody>\n",
       "</table>\n",
       "</div>"
      ],
      "text/plain": [
       "               spotify_id  Streams\n",
       "0  00ZBADBKZGwnzGIAA6U9Fb    44107\n",
       "1  017PF4Q3l4DBUiWoXk4OWT  2814658\n",
       "2  047WmwIeerHyIUstFAEz5A  3060737\n",
       "3  04wvWMRKKxK9TGG4IPk32d    90156\n",
       "4  059bcIhyc2SBwm6sw2AZzd  6447442"
      ]
     },
     "execution_count": 30,
     "metadata": {},
     "output_type": "execute_result"
    }
   ],
   "source": [
    "# Agrupar sumas y convertir en Dataframe\n",
    "data_top200_sumastreams = data_top200.groupby('spotify_id')['Streams'].sum()\n",
    "data_top200_sumastreams = pd.DataFrame({'spotify_id':data_top200_sumastreams.index, 'Streams':data_top200_sumastreams.values})\n",
    "print(data_top200_sumastreams.shape)\n",
    "data_top200_sumastreams.head()"
   ]
  },
  {
   "cell_type": "code",
   "execution_count": 44,
   "metadata": {},
   "outputs": [
    {
     "data": {
      "text/plain": [
       "Index(['spotify_id', 'Streams'], dtype='object')"
      ]
     },
     "execution_count": 44,
     "metadata": {},
     "output_type": "execute_result"
    }
   ],
   "source": [
    "data_top200_sumastreams.columns"
   ]
  },
  {
   "cell_type": "code",
   "execution_count": 43,
   "metadata": {},
   "outputs": [
    {
     "data": {
      "text/plain": [
       "Index(['Position', 'Track Name', 'Artist', 'Streams', 'date', 'spotify_id',\n",
       "       'year'],\n",
       "      dtype='object')"
      ]
     },
     "execution_count": 43,
     "metadata": {},
     "output_type": "execute_result"
    }
   ],
   "source": [
    "data_top200.columns"
   ]
  },
  {
   "cell_type": "markdown",
   "metadata": {},
   "source": [
    "Tengo 24400 filas en canciones, de las cuales hay 738 canciones únicas (Dataframe 1, si hago un groupby para que me sume los Streams de las mismas canciones se hace sin problema y tengo un Dataframe 2\n",
    "\n",
    "Pero ahora no quiero perder las demás columnas haciendo groupby, pero es la forma fácil de hacer las sumas de Streams. Pero entonces quisiera añadir en nueva columna en el dataframe 1 el dato de Streams totales de dicha canción. Lo ideal sería hacer un bucle que mirara si el Track name es el mismo, entonces en una nueva columna añadiría ese dato para esa fila."
   ]
  },
  {
   "cell_type": "code",
   "execution_count": 46,
   "metadata": {},
   "outputs": [
    {
     "ename": "ValueError",
     "evalue": "Can only compare identically-labeled Series objects",
     "output_type": "error",
     "traceback": [
      "\u001b[0;31m---------------------------------------------------------------------------\u001b[0m",
      "\u001b[0;31mValueError\u001b[0m                                Traceback (most recent call last)",
      "\u001b[0;32m<ipython-input-46-f824742e7c7e>\u001b[0m in \u001b[0;36m<module>\u001b[0;34m\u001b[0m\n\u001b[0;32m----> 1\u001b[0;31m \u001b[0mdata_top200_sumastreams\u001b[0m\u001b[0;34m[\u001b[0m\u001b[0;34m'spotify_id'\u001b[0m\u001b[0;34m]\u001b[0m \u001b[0;34m==\u001b[0m \u001b[0mdata_top200\u001b[0m\u001b[0;34m[\u001b[0m\u001b[0;34m'spotify_id'\u001b[0m\u001b[0;34m]\u001b[0m\u001b[0;34m\u001b[0m\u001b[0;34m\u001b[0m\u001b[0m\n\u001b[0m",
      "\u001b[0;32m~/anaconda3/lib/python3.7/site-packages/pandas/core/ops/__init__.py\u001b[0m in \u001b[0;36mwrapper\u001b[0;34m(self, other, axis)\u001b[0m\n\u001b[1;32m   1140\u001b[0m \u001b[0;34m\u001b[0m\u001b[0m\n\u001b[1;32m   1141\u001b[0m         \u001b[0;32melif\u001b[0m \u001b[0misinstance\u001b[0m\u001b[0;34m(\u001b[0m\u001b[0mother\u001b[0m\u001b[0;34m,\u001b[0m \u001b[0mABCSeries\u001b[0m\u001b[0;34m)\u001b[0m \u001b[0;32mand\u001b[0m \u001b[0;32mnot\u001b[0m \u001b[0mself\u001b[0m\u001b[0;34m.\u001b[0m\u001b[0m_indexed_same\u001b[0m\u001b[0;34m(\u001b[0m\u001b[0mother\u001b[0m\u001b[0;34m)\u001b[0m\u001b[0;34m:\u001b[0m\u001b[0;34m\u001b[0m\u001b[0;34m\u001b[0m\u001b[0m\n\u001b[0;32m-> 1142\u001b[0;31m             \u001b[0;32mraise\u001b[0m \u001b[0mValueError\u001b[0m\u001b[0;34m(\u001b[0m\u001b[0;34m\"Can only compare identically-labeled \"\u001b[0m \u001b[0;34m\"Series objects\"\u001b[0m\u001b[0;34m)\u001b[0m\u001b[0;34m\u001b[0m\u001b[0;34m\u001b[0m\u001b[0m\n\u001b[0m\u001b[1;32m   1143\u001b[0m \u001b[0;34m\u001b[0m\u001b[0m\n\u001b[1;32m   1144\u001b[0m         \u001b[0;32melif\u001b[0m \u001b[0mis_categorical_dtype\u001b[0m\u001b[0;34m(\u001b[0m\u001b[0mself\u001b[0m\u001b[0;34m)\u001b[0m\u001b[0;34m:\u001b[0m\u001b[0;34m\u001b[0m\u001b[0;34m\u001b[0m\u001b[0m\n",
      "\u001b[0;31mValueError\u001b[0m: Can only compare identically-labeled Series objects"
     ]
    }
   ],
   "source": []
  },
  {
   "cell_type": "code",
   "execution_count": 38,
   "metadata": {},
   "outputs": [
    {
     "ename": "ValueError",
     "evalue": "Can only compare identically-labeled Series objects",
     "output_type": "error",
     "traceback": [
      "\u001b[0;31m---------------------------------------------------------------------------\u001b[0m",
      "\u001b[0;31mValueError\u001b[0m                                Traceback (most recent call last)",
      "\u001b[0;32m<ipython-input-38-3e0c734deda6>\u001b[0m in \u001b[0;36m<module>\u001b[0;34m\u001b[0m\n\u001b[1;32m      3\u001b[0m \u001b[0;34m\u001b[0m\u001b[0m\n\u001b[1;32m      4\u001b[0m \u001b[0;32mfor\u001b[0m \u001b[0mdata\u001b[0m \u001b[0;32min\u001b[0m \u001b[0mdata_top200\u001b[0m\u001b[0;34m[\u001b[0m\u001b[0;34m'spotify_id'\u001b[0m\u001b[0;34m]\u001b[0m\u001b[0;34m:\u001b[0m\u001b[0;34m\u001b[0m\u001b[0;34m\u001b[0m\u001b[0m\n\u001b[0;32m----> 5\u001b[0;31m     \u001b[0;32mif\u001b[0m \u001b[0mdata_top200\u001b[0m\u001b[0;34m[\u001b[0m\u001b[0;34m'spotify_id'\u001b[0m\u001b[0;34m]\u001b[0m \u001b[0;34m==\u001b[0m \u001b[0mdata_top200_sumastreams\u001b[0m\u001b[0;34m[\u001b[0m\u001b[0;34m'spotify_id'\u001b[0m\u001b[0;34m]\u001b[0m\u001b[0;34m:\u001b[0m\u001b[0;34m\u001b[0m\u001b[0;34m\u001b[0m\u001b[0m\n\u001b[0m\u001b[1;32m      6\u001b[0m         \u001b[0mdata_top200\u001b[0m\u001b[0;34m[\u001b[0m\u001b[0;34m'Streams'\u001b[0m\u001b[0;34m]\u001b[0m \u001b[0;34m=\u001b[0m \u001b[0mdata_top200_sumastreams\u001b[0m\u001b[0;34m[\u001b[0m\u001b[0;34m'Streams'\u001b[0m\u001b[0;34m]\u001b[0m\u001b[0;34m\u001b[0m\u001b[0;34m\u001b[0m\u001b[0m\n\u001b[1;32m      7\u001b[0m \u001b[0;34m\u001b[0m\u001b[0m\n",
      "\u001b[0;32m~/anaconda3/lib/python3.7/site-packages/pandas/core/ops/__init__.py\u001b[0m in \u001b[0;36mwrapper\u001b[0;34m(self, other, axis)\u001b[0m\n\u001b[1;32m   1140\u001b[0m \u001b[0;34m\u001b[0m\u001b[0m\n\u001b[1;32m   1141\u001b[0m         \u001b[0;32melif\u001b[0m \u001b[0misinstance\u001b[0m\u001b[0;34m(\u001b[0m\u001b[0mother\u001b[0m\u001b[0;34m,\u001b[0m \u001b[0mABCSeries\u001b[0m\u001b[0;34m)\u001b[0m \u001b[0;32mand\u001b[0m \u001b[0;32mnot\u001b[0m \u001b[0mself\u001b[0m\u001b[0;34m.\u001b[0m\u001b[0m_indexed_same\u001b[0m\u001b[0;34m(\u001b[0m\u001b[0mother\u001b[0m\u001b[0;34m)\u001b[0m\u001b[0;34m:\u001b[0m\u001b[0;34m\u001b[0m\u001b[0;34m\u001b[0m\u001b[0m\n\u001b[0;32m-> 1142\u001b[0;31m             \u001b[0;32mraise\u001b[0m \u001b[0mValueError\u001b[0m\u001b[0;34m(\u001b[0m\u001b[0;34m\"Can only compare identically-labeled \"\u001b[0m \u001b[0;34m\"Series objects\"\u001b[0m\u001b[0;34m)\u001b[0m\u001b[0;34m\u001b[0m\u001b[0;34m\u001b[0m\u001b[0m\n\u001b[0m\u001b[1;32m   1143\u001b[0m \u001b[0;34m\u001b[0m\u001b[0m\n\u001b[1;32m   1144\u001b[0m         \u001b[0;32melif\u001b[0m \u001b[0mis_categorical_dtype\u001b[0m\u001b[0;34m(\u001b[0m\u001b[0mself\u001b[0m\u001b[0;34m)\u001b[0m\u001b[0;34m:\u001b[0m\u001b[0;34m\u001b[0m\u001b[0;34m\u001b[0m\u001b[0m\n",
      "\u001b[0;31mValueError\u001b[0m: Can only compare identically-labeled Series objects"
     ]
    }
   ],
   "source": [
    "#data_top200_sumastreams = data_top200_sumastreams.reset_index(drop=True)\n",
    "#data_top200 = data_top200.reset_index(drop=True)\n",
    "\n",
    "if data_top200.loc[data_top200['spotify_id'] == data_top200['spotify_id']]:\n",
    "    data_top200['NewColumn'] = data_top200_sumastreams['Streams']\n",
    "\n",
    "    \n",
    "#data_top200.loc[data_top200['spotify_id'] == '6NfrH0ANGmgBXyxgV2PeXt']"
   ]
  },
  {
   "cell_type": "code",
   "execution_count": null,
   "metadata": {},
   "outputs": [],
   "source": [
    "if df.loc[df['TF'] < df['PV']]:\n",
    "    df['Par_2']] = 0.01*(1.8 * df['PV'] + 32) - 2\n",
    "elif(some other condition)"
   ]
  },
  {
   "cell_type": "code",
   "execution_count": 8,
   "metadata": {},
   "outputs": [
    {
     "ename": "SyntaxError",
     "evalue": "invalid syntax (<ipython-input-8-231ad9fa5bbb>, line 7)",
     "output_type": "error",
     "traceback": [
      "\u001b[0;36m  File \u001b[0;32m\"<ipython-input-8-231ad9fa5bbb>\"\u001b[0;36m, line \u001b[0;32m7\u001b[0m\n\u001b[0;31m    if data_top200['Track Name'] == data_top200_sumastreams['Track Name'])\u001b[0m\n\u001b[0m                                                                         ^\u001b[0m\n\u001b[0;31mSyntaxError\u001b[0m\u001b[0;31m:\u001b[0m invalid syntax\n"
     ]
    }
   ],
   "source": [
    "# OOOOOtra prueba\n",
    "\n",
    "def add(a, b):\n",
    "    \n",
    "  return \n",
    "\n",
    "list(map(add, ))\n",
    "\n",
    "list(data_top200['spotify_id'].map(lambda x: data_top200_sumastreams['Streams']\n",
    "                                   if data_top200['Track Name'] == data_top200_sumastreams['Track Name'])"
   ]
  },
  {
   "cell_type": "code",
   "execution_count": null,
   "metadata": {},
   "outputs": [],
   "source": [
    ">>> def mult(a, b):\n",
    "...     return a * b\n",
    "...\n",
    ">>> list(map(mult, [1, 2, 3, 4], [5, 6, 7, 8]))\n",
    "[5, 12, 21, 32]"
   ]
  },
  {
   "cell_type": "code",
   "execution_count": null,
   "metadata": {},
   "outputs": [],
   "source": [
    "list(data_top200['spotify_id'].map(lambda x: data_top200_sumastreams['Streams']\n",
    "                                   if data_top200['Track Name'] == data_top200_sumastreams['Track Name'])"
   ]
  },
  {
   "cell_type": "code",
   "execution_count": 18,
   "metadata": {},
   "outputs": [
    {
     "data": {
      "text/plain": [
       "0      00ZBADBKZGwnzGIAA6U9Fb\n",
       "1      017PF4Q3l4DBUiWoXk4OWT\n",
       "2      047WmwIeerHyIUstFAEz5A\n",
       "3      04wvWMRKKxK9TGG4IPk32d\n",
       "4      059bcIhyc2SBwm6sw2AZzd\n",
       "                ...          \n",
       "802    7wCqmkAjudO0oKRASmv8Wg\n",
       "803    7xX3wvvcZvxGCa06KlgTCp\n",
       "804    7ytR5pFWmSjzHJIeQkgog4\n",
       "805    7z9chavxReUpyOZoAkUnUb\n",
       "806    7zAGi1cps7yYhAajGXlFTH\n",
       "Name: spotify_id, Length: 807, dtype: object"
      ]
     },
     "execution_count": 18,
     "metadata": {},
     "output_type": "execute_result"
    }
   ],
   "source": [
    "data_top200_sumastreams['spotify_id']"
   ]
  },
  {
   "cell_type": "code",
   "execution_count": 11,
   "metadata": {},
   "outputs": [
    {
     "ename": "SyntaxError",
     "evalue": "invalid syntax (<ipython-input-11-306208444fa4>, line 3)",
     "output_type": "error",
     "traceback": [
      "\u001b[0;36m  File \u001b[0;32m\"<ipython-input-11-306208444fa4>\"\u001b[0;36m, line \u001b[0;32m3\u001b[0m\n\u001b[0;31m    if (data_top200['spotify_id'] == data_top200_sumastreams['spotify_id']:\u001b[0m\n\u001b[0m                                                                          ^\u001b[0m\n\u001b[0;31mSyntaxError\u001b[0m\u001b[0;31m:\u001b[0m invalid syntax\n"
     ]
    }
   ],
   "source": [
    "def conditions(s):\n",
    "    for songcode in data_top200['spotify_id']:\n",
    "        if (data_top200['spotify_id'] == data_top200_sumastreams['spotify_id']:\n",
    "            return data_top200_sumastreams['Streams']\n",
    "\n",
    "data_top200['NewColumn'] = data_top200.apply(conditions, axis=1)"
   ]
  },
  {
   "cell_type": "code",
   "execution_count": null,
   "metadata": {},
   "outputs": [],
   "source": [
    "def f(row):\n",
    "    if data_top200['spotify_id'] == data_top200_sumastreams['spotify_id']:\n",
    "        data_top200_sumastreams['spotify_id'] =\n",
    "    elif row['A'] > row['B']:\n",
    "        val = 1\n",
    "    else:\n",
    "        val = -1\n",
    "    return val"
   ]
  },
  {
   "cell_type": "code",
   "execution_count": 203,
   "metadata": {},
   "outputs": [
    {
     "ename": "ValueError",
     "evalue": "operands could not be broadcast together with shapes (24400,) (738,2) (24400,) ",
     "output_type": "error",
     "traceback": [
      "\u001b[0;31m---------------------------------------------------------------------------\u001b[0m",
      "\u001b[0;31mValueError\u001b[0m                                Traceback (most recent call last)",
      "\u001b[0;32m<ipython-input-203-06ee86712c68>\u001b[0m in \u001b[0;36m<module>\u001b[0;34m\u001b[0m\n\u001b[1;32m      1\u001b[0m data_top200['Streams'] = np.where((data_top200['Track Name']  == data_top200_sumastreams['Track Name']), #Identifies the case to apply to\n\u001b[1;32m      2\u001b[0m                            \u001b[0mdata_top200_sumastreams\u001b[0m\u001b[0;34m[\u001b[0m\u001b[0;34m'Streams'\u001b[0m\u001b[0;34m]\u001b[0m\u001b[0;34m,\u001b[0m      \u001b[0;31m#This is the value that is inserted\u001b[0m\u001b[0;34m\u001b[0m\u001b[0;34m\u001b[0m\u001b[0m\n\u001b[0;32m----> 3\u001b[0;31m                            data_top200['Streams'])      #This is the column that is affected\n\u001b[0m",
      "\u001b[0;32m<__array_function__ internals>\u001b[0m in \u001b[0;36mwhere\u001b[0;34m(*args, **kwargs)\u001b[0m\n",
      "\u001b[0;31mValueError\u001b[0m: operands could not be broadcast together with shapes (24400,) (738,2) (24400,) "
     ]
    }
   ],
   "source": [
    "#Otra posible forma\n",
    "\n",
    "data_top200['Streams'] = np.where((data_top200['Track Name']  == data_top200_sumastreams['Track Name']), #Identifies the case to apply to\n",
    "                           data_top200_sumastreams['Streams'],      #This is the value that is inserted\n",
    "                           data_top200['Streams'])      #This is the column that is affected"
   ]
  },
  {
   "cell_type": "code",
   "execution_count": null,
   "metadata": {},
   "outputs": [],
   "source": [
    "data_top200.Tr[data_top200.Streams == data_top200_sumastreams['Streams'] = df.col2"
   ]
  },
  {
   "cell_type": "code",
   "execution_count": null,
   "metadata": {},
   "outputs": [],
   "source": [
    "#NUEVOOOO\n",
    "# https://datascience.stackexchange.com/questions/56668/pandas-change-value-of-a-column-based-another-column-condition\n",
    "\n",
    "\n",
    "data['column2'] = np.where((data['column1'] > 90)\n",
    "                           & (data['column2'] ==2), #For rows with column1 > 90\n",
    "                           data['column3'],      #We place column3 values\n",
    "                           data['column2'])      #In column two\n",
    "\n",
    "\n",
    "\n",
    "data['column2'] = np.where((data['column1'] < 30)\n",
    "                           & (data['column2'] ==2), #Identifies the case to apply to\n",
    "                           data['column2'],      #This is the value that is inserted\n",
    "                           data['column2'])      #This is the column that is affected\n",
    "data['column2'] = np.where((data['column1'] > 90)\n",
    "                           & (data['column2'] ==2), #For rows with column1 > 90\n",
    "                           data['column3'],      #We place column3 values\n",
    "                           data['column2'])      #In column two"
   ]
  },
  {
   "cell_type": "code",
   "execution_count": null,
   "metadata": {},
   "outputs": [],
   "source": [
    "# Ahora habría que: en las canciones que coincidan en el nombre sustituir por dataframe del día por streams totales.\n",
    "data_top200_sumastreams = data_top200.groupby('Track Name')\n",
    "data_top200_sumastreams.head()\n",
    "\n",
    "data_top200['Streams'] = df['Streams'].map(lambda x: data_top200_sumastreams['Streams']\n",
    "                                           if data_top200['Track Name'] == data_top200_sumastreams['Track Name'])"
   ]
  },
  {
   "cell_type": "code",
   "execution_count": 95,
   "metadata": {},
   "outputs": [
    {
     "data": {
      "text/plain": [
       "807"
      ]
     },
     "execution_count": 95,
     "metadata": {},
     "output_type": "execute_result"
    }
   ],
   "source": [
    "#Prueba para crear lista con canciones únicas\n",
    "songs_list = []\n",
    "\n",
    "for song in data_top200['spotify_id']:\n",
    "    if song not in songs_list:\n",
    "        songs_list.append(song)\n",
    "        \n",
    "\n",
    "len(songs_list)\n",
    "#Que se sumen los streams y se quiten columnas\n",
    "\n",
    "songscode_list = []\n",
    "\n",
    "for songcode in data_top200['spotify_id']:\n",
    "    if songcode not in songscode_list:\n",
    "        songscode_list.append(songcode)\n",
    "    else: #Está en lista y quiero ahora sumar los strings de ese songcode\n",
    "        for songcode in data_top200['spotify_id']:\n",
    "            data_top200['Streams'].sum()\n",
    "\n",
    "        \n",
    "#map(lambda x: lasumaaaaa if songcode == data_top200['spotify_id'], songs_list)\n",
    "\n"
   ]
  },
  {
   "cell_type": "code",
   "execution_count": null,
   "metadata": {},
   "outputs": [],
   "source": []
  }
 ],
 "metadata": {
  "file_extension": ".py",
  "kernelspec": {
   "display_name": "Python 3",
   "language": "python",
   "name": "python3"
  },
  "language_info": {
   "codemirror_mode": {
    "name": "ipython",
    "version": 3
   },
   "file_extension": ".py",
   "mimetype": "text/x-python",
   "name": "python",
   "nbconvert_exporter": "python",
   "pygments_lexer": "ipython3",
   "version": "3.7.3"
  },
  "mimetype": "text/x-python",
  "name": "python",
  "npconvert_exporter": "python",
  "pygments_lexer": "ipython3",
  "version": 3
 },
 "nbformat": 4,
 "nbformat_minor": 4
}
